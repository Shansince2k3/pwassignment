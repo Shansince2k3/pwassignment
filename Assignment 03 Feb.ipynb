{
 "cells": [
  {
   "cell_type": "code",
   "execution_count": 3,
   "id": "72c7e4e1-a749-496f-9e6d-4c7d93327b64",
   "metadata": {},
   "outputs": [
    {
     "name": "stdout",
     "output_type": "stream",
     "text": [
      "[1, 3, 5, 7, 9, 11, 13, 15, 17, 19, 21, 23, 25]\n"
     ]
    }
   ],
   "source": [
    "# Answer 1\n",
    "# The def keyword is used to create, (or define) a function.\n",
    " \n",
    "def odd_num():\n",
    "    lis =[]\n",
    "    for i in range(1,26):\n",
    "        if (i%2):\n",
    "            lis.append(i)\n",
    "            \n",
    "    return lis\n",
    "print(odd_num())\n",
    "\n",
    "\n"
   ]
  },
  {
   "cell_type": "code",
   "execution_count": 9,
   "id": "80214047-e5a9-4848-a10e-4633ad102b53",
   "metadata": {},
   "outputs": [
    {
     "name": "stdout",
     "output_type": "stream",
     "text": [
      "Hello\n",
      "22\n",
      "2.3\n",
      "i m shan\n",
      "first_Name == shan\n",
      "last_Name == khan\n"
     ]
    }
   ],
   "source": [
    "#answer 2\n",
    "\n",
    "# *args and **kwargs arguments are used when we are unsure about the number of arguments to pass in the functions.\n",
    "\n",
    "\n",
    "# *args -. It is used to pass a non-keyworded, variable-length argument list. denoted by single asterik symbol\n",
    "\n",
    "def myFun(*args):\n",
    "\tfor arg in args:\n",
    "\t\tprint(arg)\n",
    "myFun('Hello', 22, 2.3, 'i m shan')\n",
    "\n",
    "\n",
    "# **kwargs -> allow us to pass through keyword arguments . denoted by double asterik symbol\n",
    "\n",
    "def myFun(**kwargs):\n",
    "\tfor key, value in kwargs.items():\n",
    "\t\tprint(\"%s == %s\" % (key, value))\n",
    "\n",
    "\n",
    "# Driver code\n",
    "myFun(first_Name='shan', last_Name='khan')\n",
    "\n",
    "\n"
   ]
  },
  {
   "cell_type": "code",
   "execution_count": 5,
   "id": "d49a8744-cd21-41a2-a703-ca6f21ae71d1",
   "metadata": {},
   "outputs": [
    {
     "name": "stdout",
     "output_type": "stream",
     "text": [
      "b\n",
      "a\n",
      "n\n",
      "a\n",
      "n\n",
      "a\n",
      "2\n",
      "4\n",
      "6\n",
      "8\n",
      "10\n"
     ]
    }
   ],
   "source": [
    "# answer 3 \n",
    "\n",
    "# iterator a object that is used to iterate over iterable objects like lists, tuples, dicts, and sets. \n",
    "# Iter() method is used to initialize \n",
    "# next() method is used to iteraion the iterable object.\n",
    "\n",
    "\n",
    "mystr = \"banana\"\n",
    "myit = iter(mystr)\n",
    "\n",
    "print(next(myit))\n",
    "print(next(myit))\n",
    "print(next(myit))\n",
    "print(next(myit))\n",
    "print(next(myit))\n",
    "print(next(myit))\n",
    "\n",
    "lis = [2, 4, 6, 8, 10, 12, 14,16, 18, 20]\n",
    "mylis = iter(lis)\n",
    "\n",
    "for i in range(1,6):\n",
    "    print(next(mylis))\n"
   ]
  },
  {
   "cell_type": "code",
   "execution_count": 10,
   "id": "189673a5-cfc5-4b5e-ba54-df47426c07f5",
   "metadata": {},
   "outputs": [
    {
     "name": "stdout",
     "output_type": "stream",
     "text": [
      "1\n",
      "3\n",
      "5\n",
      "7\n",
      "9\n",
      "11\n",
      "13\n",
      "15\n",
      "17\n",
      "19\n"
     ]
    }
   ],
   "source": [
    "# answer 4\n",
    "# Generator-Function: A generator-function is defined like a normal function, but whenever it needs to generate a value,\n",
    "# it does so with the yield keyword rather than return. If the body of a def contains yield,\n",
    "# the function automatically becomes a generator function. \n",
    "#  basically this yield function use as lambda funcion.\n",
    "\n",
    "\n",
    "def filter_odd(numbers):\n",
    "\n",
    "   for number in range(numbers):\n",
    "\n",
    "       if(number%2!=0):\n",
    "\n",
    "           yield number \n",
    "\n",
    "odd_numbers = filter_odd(20)\n",
    "\n",
    "# print(list(odd_numbers))  \n",
    "for i in odd_numbers:\n",
    "    print(i)\n",
    "    \n",
    "\n",
    "\n"
   ]
  },
  {
   "cell_type": "code",
   "execution_count": 43,
   "id": "eae13c48-2ed2-4a6c-a758-113b189435fc",
   "metadata": {},
   "outputs": [
    {
     "name": "stdout",
     "output_type": "stream",
     "text": [
      "0\n",
      "1\n",
      "2\n",
      "3\n",
      "5\n",
      "7\n",
      "11\n",
      "13\n",
      "17\n",
      "19\n",
      "23\n",
      "29\n",
      "31\n",
      "37\n",
      "41\n",
      "43\n",
      "47\n",
      "53\n",
      "59\n",
      "61\n",
      "0\n",
      "1\n",
      "2\n",
      "3\n",
      "5\n",
      "7\n",
      "11\n",
      "13\n",
      "17\n",
      "19\n",
      "23\n",
      "29\n",
      "31\n",
      "37\n",
      "41\n",
      "43\n",
      "47\n",
      "53\n",
      "59\n",
      "61\n",
      "67\n",
      "71\n",
      "73\n",
      "79\n",
      "83\n",
      "89\n",
      "97\n",
      "101\n",
      "103\n",
      "107\n",
      "109\n",
      "113\n",
      "127\n",
      "131\n",
      "137\n",
      "139\n",
      "149\n",
      "151\n",
      "157\n",
      "163\n",
      "167\n",
      "173\n",
      "179\n",
      "181\n",
      "191\n",
      "193\n",
      "197\n",
      "199\n",
      "211\n",
      "223\n",
      "227\n",
      "229\n",
      "233\n",
      "239\n",
      "241\n",
      "251\n",
      "257\n",
      "263\n",
      "269\n",
      "271\n",
      "277\n",
      "281\n",
      "283\n",
      "293\n",
      "307\n",
      "311\n",
      "313\n",
      "317\n",
      "331\n",
      "337\n",
      "347\n",
      "349\n",
      "353\n",
      "359\n",
      "367\n",
      "373\n",
      "379\n",
      "383\n",
      "389\n",
      "397\n",
      "401\n",
      "409\n",
      "419\n",
      "421\n",
      "431\n",
      "433\n",
      "439\n",
      "443\n",
      "449\n",
      "457\n",
      "461\n",
      "463\n",
      "467\n",
      "479\n",
      "487\n",
      "491\n",
      "499\n",
      "503\n",
      "509\n",
      "521\n",
      "523\n",
      "541\n",
      "547\n",
      "557\n",
      "563\n",
      "569\n",
      "571\n",
      "577\n",
      "587\n",
      "593\n",
      "599\n",
      "601\n",
      "607\n",
      "613\n",
      "617\n",
      "619\n",
      "631\n",
      "641\n",
      "643\n",
      "647\n",
      "653\n",
      "659\n",
      "661\n",
      "673\n",
      "677\n",
      "683\n",
      "691\n",
      "701\n",
      "709\n",
      "719\n",
      "727\n",
      "733\n",
      "739\n",
      "743\n",
      "751\n",
      "757\n",
      "761\n",
      "769\n",
      "773\n",
      "787\n",
      "797\n",
      "809\n",
      "811\n",
      "821\n",
      "823\n",
      "827\n",
      "829\n",
      "839\n",
      "853\n",
      "857\n",
      "859\n",
      "863\n",
      "877\n",
      "881\n",
      "883\n",
      "887\n",
      "907\n",
      "911\n",
      "919\n",
      "929\n",
      "937\n",
      "941\n",
      "947\n",
      "953\n",
      "967\n",
      "971\n",
      "977\n",
      "983\n",
      "991\n",
      "997\n"
     ]
    }
   ],
   "source": [
    "#answer 5\n",
    "\n",
    "def primenot(num):\n",
    "    for j in range(num):\n",
    "        for i in range(2,j):\n",
    "            if (j%i == 0):\n",
    "                break\n",
    "        else:\n",
    "            \n",
    "            yield j\n",
    "\n",
    "prime = primenot(100)\n",
    "primeiter = iter(list(prime))\n",
    "for i in range(1,21):\n",
    "    print(next(primeiter))\n",
    "    \n",
    "prime = primenot(1000)  \n",
    "for i in prime:\n",
    "    print(i)\n",
    "    \n",
    "      "
   ]
  },
  {
   "cell_type": "code",
   "execution_count": 51,
   "id": "2dea82ea-8dcb-4d43-a9ba-e3ddbdbb80c9",
   "metadata": {},
   "outputs": [
    {
     "name": "stdin",
     "output_type": "stream",
     "text": [
      "enter the numbers 10\n"
     ]
    },
    {
     "name": "stdout",
     "output_type": "stream",
     "text": [
      "0\n",
      "1\n",
      "1\n",
      "2\n",
      "3\n",
      "5\n",
      "8\n",
      "13\n",
      "21\n",
      "34\n"
     ]
    }
   ],
   "source": [
    "num = int(input(\"enter the numbers\"))\n",
    "def Fibonacci(num):\n",
    "\n",
    "\n",
    "    n1, n2 = 0, 1\n",
    "    count = 0\n",
    "    n1, n2 = 0, 1\n",
    "    count = 0\n",
    "    while count < num:\n",
    "           print(n1)\n",
    "           nth = n1 + n2\n",
    "           # update values\n",
    "           n1 = n2\n",
    "           n2 = nth\n",
    "           count += 1\n",
    "Fibonacci(num)"
   ]
  },
  {
   "cell_type": "code",
   "execution_count": 52,
   "id": "fb359b51-1e6f-4e27-9fc3-bb3d2d717dd4",
   "metadata": {},
   "outputs": [
    {
     "name": "stdout",
     "output_type": "stream",
     "text": [
      "['p', 'w', 's', 'k', 'i', 'l', 'l', 's']\n"
     ]
    }
   ],
   "source": [
    "# answer 7\n",
    "string = \"pwskills\"\n",
    "new_list = [i for i in string]\n",
    "print(new_list)"
   ]
  },
  {
   "cell_type": "code",
   "execution_count": 53,
   "id": "fa068eba-5e5e-4093-985e-e02d4692862c",
   "metadata": {},
   "outputs": [
    {
     "name": "stdin",
     "output_type": "stream",
     "text": [
      "Enter a letter: 9909\n"
     ]
    },
    {
     "name": "stdout",
     "output_type": "stream",
     "text": [
      "The letter is not a palindrome\n"
     ]
    }
   ],
   "source": [
    "# answwer 8\n",
    "string=input((\"Enter a letter:\"))  \n",
    "if(string==string[::-1]):  \n",
    "      print(\"The letter is a palindrome\")  \n",
    "else:  \n",
    "      print(\"The letter is not a palindrome\")  "
   ]
  },
  {
   "cell_type": "code",
   "execution_count": 54,
   "id": "520cdf90-c10a-47fa-a8b4-da036c988e96",
   "metadata": {},
   "outputs": [
    {
     "name": "stdout",
     "output_type": "stream",
     "text": [
      "[1, 3, 5, 7, 9, 11, 13, 15, 17, 19, 21, 23, 25, 27, 29, 31, 33, 35, 37, 39, 41, 43, 45, 47, 49, 51, 53, 55, 57, 59, 61, 63, 65, 67, 69, 71, 73, 75, 77, 79, 81, 83, 85, 87, 89, 91, 93, 95, 97, 99]\n"
     ]
    }
   ],
   "source": [
    "# answer 9\n",
    "new = [i for i in range(1,101) if i % 2 != 0]\n",
    "print(new)\n"
   ]
  },
  {
   "cell_type": "code",
   "execution_count": null,
   "id": "a2e4b81b-2aa9-4182-b30c-abf1a51e46b7",
   "metadata": {},
   "outputs": [],
   "source": []
  }
 ],
 "metadata": {
  "kernelspec": {
   "display_name": "Python 3 (ipykernel)",
   "language": "python",
   "name": "python3"
  },
  "language_info": {
   "codemirror_mode": {
    "name": "ipython",
    "version": 3
   },
   "file_extension": ".py",
   "mimetype": "text/x-python",
   "name": "python",
   "nbconvert_exporter": "python",
   "pygments_lexer": "ipython3",
   "version": "3.10.6"
  }
 },
 "nbformat": 4,
 "nbformat_minor": 5
}
