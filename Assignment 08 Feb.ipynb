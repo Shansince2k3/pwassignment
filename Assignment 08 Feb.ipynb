{
 "cells": [
  {
   "cell_type": "code",
   "execution_count": 1,
   "id": "57192711-da13-4b5c-8e14-8768213a1a0f",
   "metadata": {},
   "outputs": [],
   "source": [
    "# answer 1\n",
    "# Abstraction means to show only the functionality that the end-user needs. The rest of the background functionality should be hidden.\n",
    "# abstraction can be achieved through the use of abstract classes and interfaces provided by the abc module. The abc module stands for \"Abstract Base Classes\" and\n",
    "# allows you to define abstract classes and interfaces.\n"
   ]
  },
  {
   "cell_type": "code",
   "execution_count": 2,
   "id": "78538fff-276b-4997-b766-11ac96f25b86",
   "metadata": {},
   "outputs": [
    {
     "name": "stdout",
     "output_type": "stream",
     "text": [
      "Woof!\n",
      "Meow!\n"
     ]
    }
   ],
   "source": [
    "from abc import ABC, abstractmethod\n",
    "\n",
    "class Animal(ABC):\n",
    "    @abstractmethod\n",
    "    def sound(self):\n",
    "        pass\n",
    "\n",
    "class Dog(Animal):\n",
    "    def sound(self):\n",
    "        return \"Woof!\"\n",
    "\n",
    "class Cat(Animal):\n",
    "    def sound(self):\n",
    "        return \"Meow!\"\n",
    "\n",
    "# Creating objects of concrete classes\n",
    "dog = Dog()\n",
    "cat = Cat()\n",
    "\n",
    "print(dog.sound())  # Output: Woof!\n",
    "print(cat.sound())  # Output: Meow!\n"
   ]
  },
  {
   "cell_type": "code",
   "execution_count": 6,
   "id": "794150a4-7d89-4bce-a89b-77242c9ddd7b",
   "metadata": {},
   "outputs": [
    {
     "name": "stdout",
     "output_type": "stream",
     "text": [
      "78.5\n",
      "24\n",
      "\n",
      "\n",
      "John\n",
      "25\n",
      "Alice\n",
      "30\n"
     ]
    }
   ],
   "source": [
    "# answer 2\n",
    "\n",
    "\"\"\"\n",
    "Abstraction:\n",
    "\n",
    "Abstraction focuses on hiding unnecessary details and complexity, allowing us to represent essential features and behaviors.\n",
    "It is achieved through abstract classes and interfaces, which provide a clear interface and a set of operations without specifying the implementation details.\n",
    "Abstraction helps in creating a higher-level view of an object or system, emphasizing what an object does rather than how it does it.\n",
    "It helps in managing complexity, promoting modularity, and facilitating code reusability.  \"\"\"\n",
    "\n",
    "from abc import ABC, abstractmethod\n",
    "\n",
    "class Shape(ABC):\n",
    "    @abstractmethod\n",
    "    def area(self):\n",
    "        pass\n",
    "\n",
    "class Circle(Shape):\n",
    "    def __init__(self, radius):\n",
    "        self.radius = radius\n",
    "    \n",
    "    def area(self):\n",
    "        return 3.14 * self.radius**2\n",
    "\n",
    "class Rectangle(Shape):\n",
    "    def __init__(self, length, width):\n",
    "        self.length = length\n",
    "        self.width = width\n",
    "    \n",
    "    def area(self):\n",
    "        return self.length * self.width\n",
    "\n",
    "# Creating objects of concrete classes\n",
    "circle = Circle(5)\n",
    "rectangle = Rectangle(4, 6)\n",
    "\n",
    "print(circle.area())     \n",
    "print(rectangle.area())  \n",
    "\n",
    "print(\"\\n\")\n",
    "\n",
    "\n",
    "'''\n",
    "\n",
    "Encapsulation:\n",
    "\n",
    "Encapsulation focuses on bundling data and related methods together, hiding internal details and providing controlled access to the data.\n",
    "It involves the use of classes and access modifiers (such as public, private, and protected) to define the visibility and accessibility of class members.\n",
    "Encapsulation helps in achieving data encapsulation, data hiding, and data protection, preventing unauthorized access and modifications to the internal state of\n",
    "an object.\n",
    "It enhances code maintainability, reusability, and security by enforcing encapsulation boundaries and encapsulating related data and behavior within a class. '''\n",
    "\n",
    "class Person:\n",
    "    def __init__(self, name, age):\n",
    "        self._name = name  # Protected attribute\n",
    "        self._age = age    # Protected attribute\n",
    "    \n",
    "    def get_name(self):\n",
    "        return self._name\n",
    "    \n",
    "    def set_name(self, name):\n",
    "        self._name = name\n",
    "    \n",
    "    def get_age(self):\n",
    "        return self._age\n",
    "    \n",
    "    def set_age(self, age):\n",
    "        self._age = age\n",
    "\n",
    "# Creating an object of the Person class\n",
    "person = Person(\"John\", 25)\n",
    "\n",
    "print(person.get_name())  \n",
    "print(person.get_age())   \n",
    "\n",
    "person.set_name(\"Alice\")\n",
    "person.set_age(30)\n",
    "\n",
    "print(person.get_name()) \n",
    "print(person.get_age())   \n"
   ]
  },
  {
   "cell_type": "code",
   "execution_count": 7,
   "id": "7eab117d-2efe-4271-8b56-9e1db3612bfa",
   "metadata": {},
   "outputs": [],
   "source": [
    "# answer 3"
   ]
  },
  {
   "cell_type": "code",
   "execution_count": 9,
   "id": "6a241c2a-ac0b-48bb-9a7a-bfa745455cc6",
   "metadata": {},
   "outputs": [
    {
     "name": "stdout",
     "output_type": "stream",
     "text": [
      "\n"
     ]
    }
   ],
   "source": [
    "\"\"\"\n",
    "the abc module in Python stands for \"Abstract Base Classes.\" It is a built-in module that provides mechanisms for defining abstract base classes (ABCs)\n",
    "and abstract methods. \n",
    "The abc module is part of the standard library, so it comes pre-installed with Python.\n",
    "The abc module is used to enforce abstraction and provide a way to define abstract classes and interfaces.\n",
    "It allows you to define abstract base classes that serve as blueprints for other classes and specify a common interface that derived classes must adhere to.\n",
    "\"\"\"\n",
    "print(\"\")"
   ]
  },
  {
   "cell_type": "code",
   "execution_count": 11,
   "id": "efda75f9-46d7-41cc-bc75-510fe2f01b31",
   "metadata": {},
   "outputs": [],
   "source": [
    "# answer 4"
   ]
  },
  {
   "cell_type": "code",
   "execution_count": 12,
   "id": "e0f00631-bbca-4671-8f4c-062a79da9ca1",
   "metadata": {},
   "outputs": [
    {
     "data": {
      "text/plain": [
       "'\\nBy employing these techniques, you can achieve data abstraction in programming.\\n1. Classes and Objects\\n2. Access Modifiers\\n3. Encapsulation\\n4. Abstract Classes and Interfaces\\n5. Getter and Setter Methods '"
      ]
     },
     "execution_count": 12,
     "metadata": {},
     "output_type": "execute_result"
    }
   ],
   "source": [
    "'''\n",
    "By employing these techniques, you can achieve data abstraction in programming.\n",
    "1. Classes and Objects\n",
    "2. Access Modifiers\n",
    "3. Encapsulation\n",
    "4. Abstract Classes and Interfaces\n",
    "5. Getter and Setter Methods '''"
   ]
  },
  {
   "cell_type": "code",
   "execution_count": 13,
   "id": "5e647d1f-41d2-453e-b666-00676179ac39",
   "metadata": {},
   "outputs": [],
   "source": [
    "# answer 5"
   ]
  },
  {
   "cell_type": "code",
   "execution_count": 14,
   "id": "846e68e2-ee7b-480d-a691-6065d2c2a859",
   "metadata": {},
   "outputs": [
    {
     "ename": "TypeError",
     "evalue": "Can't instantiate abstract class Shape with abstract method area",
     "output_type": "error",
     "traceback": [
      "\u001b[0;31m---------------------------------------------------------------------------\u001b[0m",
      "\u001b[0;31mTypeError\u001b[0m                                 Traceback (most recent call last)",
      "Cell \u001b[0;32mIn [14], line 19\u001b[0m\n\u001b[1;32m     16\u001b[0m         \u001b[38;5;28;01mreturn\u001b[39;00m \u001b[38;5;28mself\u001b[39m\u001b[38;5;241m.\u001b[39mlength \u001b[38;5;241m*\u001b[39m \u001b[38;5;28mself\u001b[39m\u001b[38;5;241m.\u001b[39mwidth\n\u001b[1;32m     18\u001b[0m \u001b[38;5;66;03m# Attempt to create an instance of the abstract class\u001b[39;00m\n\u001b[0;32m---> 19\u001b[0m shape \u001b[38;5;241m=\u001b[39m \u001b[43mShape\u001b[49m\u001b[43m(\u001b[49m\u001b[43m)\u001b[49m\n",
      "\u001b[0;31mTypeError\u001b[0m: Can't instantiate abstract class Shape with abstract method area"
     ]
    }
   ],
   "source": [
    "# No, we cannot create an instance of an abstract class in most programming languages,\n",
    "# hey are meant to be inherited from and serve as a blueprint for creating concrete derived classes.\n",
    "\n",
    "from abc import ABC, abstractmethod\n",
    "\n",
    "class Shape(ABC):\n",
    "    @abstractmethod\n",
    "    def area(self):\n",
    "        pass\n",
    "\n",
    "class Rectangle(Shape):\n",
    "    def __init__(self, length, width):\n",
    "        self.length = length\n",
    "        self.width = width\n",
    "\n",
    "    def area(self):\n",
    "        return self.length * self.width\n",
    "\n",
    "# Attempt to create an instance of the abstract class\n",
    "shape = Shape()  # This will raise a TypeError\n",
    "\n",
    "'''\n",
    "\n",
    "programming languages enforce these design principles and\n",
    "promote a clearer separation of responsibilities between abstract and concrete classes.\n",
    "It encourages developers to create derived classes that provide the necessary implementations and fulfill the contracts defined by the abstract class. '''\n",
    "\n",
    "\n",
    "\n",
    "\n",
    "\n"
   ]
  },
  {
   "cell_type": "code",
   "execution_count": null,
   "id": "2238cba9-d1db-4d83-b747-c66ea25f8c42",
   "metadata": {},
   "outputs": [],
   "source": []
  }
 ],
 "metadata": {
  "kernelspec": {
   "display_name": "Python 3 (ipykernel)",
   "language": "python",
   "name": "python3"
  },
  "language_info": {
   "codemirror_mode": {
    "name": "ipython",
    "version": 3
   },
   "file_extension": ".py",
   "mimetype": "text/x-python",
   "name": "python",
   "nbconvert_exporter": "python",
   "pygments_lexer": "ipython3",
   "version": "3.10.6"
  }
 },
 "nbformat": 4,
 "nbformat_minor": 5
}
