{
 "cells": [
  {
   "cell_type": "code",
   "execution_count": 1,
   "id": "18e84ded-bed3-41d5-a932-af7e69f1ab08",
   "metadata": {},
   "outputs": [],
   "source": [
    "# Q1, Create a vehicle class with an init method having instance variables as name_of_vehicle, max_speed\n",
    "# and average_of_vehicle."
   ]
  },
  {
   "cell_type": "code",
   "execution_count": 17,
   "id": "a10532f6-a577-43e1-9c77-eb065ca66c26",
   "metadata": {},
   "outputs": [
    {
     "name": "stdout",
     "output_type": "stream",
     "text": [
      "name of vehicle buagti\n",
      "MAX speed of vehicle is 1000 km/h\n",
      "average of vehicle is 2 \n",
      "\n",
      "\n",
      "name of vehicle apache 310rr\n",
      "MAX speed of vehicle is 180 km/h\n",
      "average of vehicle is 30km \n"
     ]
    }
   ],
   "source": [
    "# answer 1\n",
    "class vehicle:\n",
    "    \n",
    "    def __init__(self,name_of_vehicle,max_speed,average_of_vehicle):\n",
    "        self.name_of_vehicle = name_of_vehicle\n",
    "        self.max_speed = max_speed\n",
    "        self.average_of_vehicle = average_of_vehicle\n",
    "        \n",
    "    \n",
    "    def vehicleshow(self):\n",
    "        print(\"name of vehicle {}\".format(self.name_of_vehicle))\n",
    "        print(\"MAX speed of vehicle is {} km/h\".format(self.max_speed))\n",
    "        print(\"average of vehicle is {} \".format(self.average_of_vehicle))\n",
    "        \n",
    "\n",
    "veh1 = vehicle(\"buagti\",\"1000\",\"2\")\n",
    "veh1.vehicleshow()\n",
    "print('\\n')\n",
    "veh2=vehicle(\"apache 310rr\",\"180\",\"30km\")\n",
    "veh2.vehicleshow()"
   ]
  },
  {
   "cell_type": "code",
   "execution_count": 19,
   "id": "760d7c57-cee1-4e1b-a3f6-96fe9aabb9c4",
   "metadata": {},
   "outputs": [],
   "source": [
    "# Q2. Create a child class car from the vehicle class created in Que 1, which will inherit the vehicle class.\n",
    "# Create a method named seating_capacity which takes capacity as an argument and returns the name of\n",
    "# the vehicle and its seating capacity."
   ]
  },
  {
   "cell_type": "code",
   "execution_count": 20,
   "id": "df954a11-c6fd-442a-b8ad-4f34eebeaec9",
   "metadata": {},
   "outputs": [],
   "source": [
    "# answer 2"
   ]
  },
  {
   "cell_type": "code",
   "execution_count": 35,
   "id": "7540a1dd-37a3-49b7-bf28-e628cf52b7ea",
   "metadata": {},
   "outputs": [
    {
     "name": "stdout",
     "output_type": "stream",
     "text": [
      "vehicle name apache310rr 2 seater\n",
      "vehicle name r15r v2 2 seater\n"
     ]
    }
   ],
   "source": [
    "class vehicle:\n",
    "    def __init__(self,name_of_vehicle,max_speed,average_of_vehicle):\n",
    "        self.name_of_vehicle = name_of_vehicle\n",
    "        self.max_speed = max_speed\n",
    "        self.average_of_vehicle = average_of_vehicle\n",
    "        \n",
    "    \n",
    "    def vehicleshow(self):\n",
    "        print(\"name of vehicle {}\".format(self.name_of_vehicle))\n",
    "        print(\"MAX speed of vehicle is {} km/h\".format(self.max_speed))\n",
    "        print(\"average of vehicle is {} \".format(self.average_of_vehicle))\n",
    "        \n",
    "class setcapacity(vehicle):\n",
    "    \n",
    "    def __init__(self,name_of_vehicle,max_speed,average_of_vehicle,seat):\n",
    "        vehicle.__init__(self,name_of_vehicle,max_speed,average_of_vehicle)\n",
    "        self.seat =seat\n",
    "    def seater(self):\n",
    "        print(\"vehicle name {0} {1} seater\".format(self.name_of_vehicle,self.seat))\n",
    "        \n",
    "veh1=setcapacity(\"apache310rr\",\"180\",\"30km\",'2')\n",
    "veh2=setcapacity(\"r15r v2\",\"150\",\"40km\",'2')\n",
    "\n",
    "veh1.seater()\n",
    "veh2.seater()\n",
    "              "
   ]
  },
  {
   "cell_type": "code",
   "execution_count": 36,
   "id": "e5b335ab-f918-458c-a3a8-10f9bc2e63bb",
   "metadata": {},
   "outputs": [],
   "source": [
    "# Q3. What is multiple inheritance? Write a python code to demonstrate multiple inheritance."
   ]
  },
  {
   "cell_type": "code",
   "execution_count": 37,
   "id": "78a0b862-5979-4c27-ad2d-1467c27aea65",
   "metadata": {},
   "outputs": [],
   "source": [
    "# answer 3"
   ]
  },
  {
   "cell_type": "code",
   "execution_count": 74,
   "id": "da0a0c78-6a1a-490a-ab65-08e14c560a37",
   "metadata": {},
   "outputs": [
    {
     "name": "stdout",
     "output_type": "stream",
     "text": [
      " father name Dad\n",
      " father age 40\n",
      " father job plumber\n",
      "\n",
      " Mother name mom\n",
      " Mother age 18\n",
      " Mother job stepmom\n",
      "\n",
      " child name child\n",
      " child age 16\n",
      " child job student\n",
      "\n"
     ]
    }
   ],
   "source": [
    "class Dad:\n",
    "    def __init__(self,fname,fage,fjob):\n",
    "        self.fname = fname\n",
    "        self.fage = fage\n",
    "        self.fjob = fjob\n",
    "        \n",
    "    def Fshow(self):\n",
    "        print(\" father name {0}\\n father age {1}\\n father job {2}\\n\".format(self.fname,self.fage,self.fjob))\n",
    "\t\n",
    "\n",
    "class Mom:\n",
    "    def __init__(self,mname,mage,mjob):\n",
    "        self.mname = mname\n",
    "        self.mage = mage\n",
    "        self.mjob = mjob\n",
    "        \n",
    "    def Mshow(self):\n",
    "        print(\" Mother name {0}\\n Mother age {1}\\n Mother job {2}\\n\".format(self.mname,self.mage,self.mjob))\n",
    "    \n",
    "class Child(Dad, Mom):\n",
    "    def __init__(self,fname,fage,fjob,mname,mage,mjob,cname,cage,cjob):\n",
    "        \n",
    "        Dad.__init__(self,fname,fage,fjob)\n",
    "        Mom.__init__(self,mname,mage,mjob)\n",
    "        \n",
    "        self.cname = cname\n",
    "        self.cage = cage\n",
    "        self.cjob = cjob\n",
    "    \n",
    "    def Cshow(self):\n",
    "        self.Fshow()\n",
    "        self.Mshow()\n",
    "        print(\" child name {0}\\n child age {1}\\n child job {2}\\n\".format(self.cname,self.cage,self.cjob))\n",
    "\n",
    "\n",
    "child = Child('Dad','40','plumber','mom','18','stepmom','child','16','student')\n",
    "child.Cshow()"
   ]
  },
  {
   "cell_type": "code",
   "execution_count": 68,
   "id": "5045d7c6-e103-405a-bfb6-4662c84c234f",
   "metadata": {},
   "outputs": [],
   "source": [
    "# Q4. What are getter and setter in python? Create a class and create a getter and a setter method in this class."
   ]
  },
  {
   "cell_type": "code",
   "execution_count": 1,
   "id": "f1403dda-60ef-4ca4-bf7b-27a2c8578e7f",
   "metadata": {},
   "outputs": [
    {
     "name": "stdout",
     "output_type": "stream",
     "text": [
      "setter method called\n",
      "getter method called\n",
      "10\n",
      "setter method called\n",
      "getter method called\n",
      "19\n"
     ]
    }
   ],
   "source": [
    "# Python program showing a\n",
    "# use of property() function\n",
    "\n",
    "class Geeks:\n",
    "\tdef __init__(self):\n",
    "\t\tself._age = 0\n",
    "\t\n",
    "\t# function to get value of _age\n",
    "\tdef get_age(self):\n",
    "\t\tprint(\"getter method called\")\n",
    "\t\treturn self._age\n",
    "\t\n",
    "\t# function to set value of _age\n",
    "\tdef set_age(self, a):\n",
    "\t\tprint(\"setter method called\")\n",
    "\t\tself._age = a\n",
    "\n",
    "\t# function to delete _age attribute\n",
    "\tdef del_age(self):\n",
    "\t\tdel self._age\n",
    "\t\n",
    "\tage = property(get_age, set_age, del_age)\n",
    "\n",
    "mark = Geeks()\n",
    "\n",
    "mark.age = 10\n",
    "\n",
    "print(mark.age)\n",
    "\n",
    "# ------------------------------------------------------\n",
    "\n",
    "\n",
    "\n",
    "# Python program showing the use of\n",
    "# @property\n",
    "\n",
    "class Geeks:\n",
    "\tdef __init__(self):\n",
    "\t\tself._age = 0\n",
    "\t\n",
    "\t# using property decorator\n",
    "\t# a getter function\n",
    "\t@property\n",
    "\tdef age(self):\n",
    "\t\tprint(\"getter method called\")\n",
    "\t\treturn self._age\n",
    "\t\n",
    "\t# a setter function\n",
    "\t@age.setter\n",
    "\tdef age(self, a):\n",
    "\t\tif(a < 18):\n",
    "\t\t\traise ValueError(\"Sorry you age is below eligibility criteria\")\n",
    "\t\tprint(\"setter method called\")\n",
    "\t\tself._age = a\n",
    "\n",
    "mark = Geeks()\n",
    "\n",
    "mark.age = 19\n",
    "\n",
    "print(mark.age)\n",
    "\n"
   ]
  },
  {
   "cell_type": "code",
   "execution_count": 2,
   "id": "bab308ae-adf0-4759-91bb-574c0e85a5cf",
   "metadata": {},
   "outputs": [],
   "source": [
    "# Q5.What is method overriding in python? Write a python code to demonstrate method overriding."
   ]
  },
  {
   "cell_type": "code",
   "execution_count": 3,
   "id": "c5639825-d16a-4310-8f7b-999bd93a985d",
   "metadata": {},
   "outputs": [],
   "source": [
    "# answer 5"
   ]
  },
  {
   "cell_type": "code",
   "execution_count": 4,
   "id": "02233a53-55d6-475e-9c36-5e760b0712f8",
   "metadata": {},
   "outputs": [
    {
     "name": "stdout",
     "output_type": "stream",
     "text": [
      "Inside Parent\n",
      "Inside Child\n"
     ]
    }
   ],
   "source": [
    "# Python program to demonstrate\n",
    "# method overriding\n",
    "\n",
    "\n",
    "# Defining parent class\n",
    "class Parent():\n",
    "\t\n",
    "\t# Constructor\n",
    "\tdef __init__(self):\n",
    "\t\tself.value = \"Inside Parent\"\n",
    "\t\t\n",
    "\t# Parent's show method\n",
    "\tdef show(self):\n",
    "\t\tprint(self.value)\n",
    "\t\t\n",
    "# Defining child class\n",
    "class Child(Parent):\n",
    "\t\n",
    "\t# Constructor\n",
    "\tdef __init__(self):\n",
    "\t\tself.value = \"Inside Child\"\n",
    "\t\t\n",
    "\t# Child's show method\n",
    "\tdef show(self):\n",
    "\t\tprint(self.value)\n",
    "\t\t\n",
    "\t\t\n",
    "# Driver's code\n",
    "obj1 = Parent()\n",
    "obj2 = Child()\n",
    "\n",
    "\n",
    "obj1.show()\n",
    "obj2.show()\n"
   ]
  },
  {
   "cell_type": "code",
   "execution_count": null,
   "id": "a91efa94-40a1-48f8-ae4e-fe004de0adab",
   "metadata": {},
   "outputs": [],
   "source": []
  }
 ],
 "metadata": {
  "kernelspec": {
   "display_name": "Python 3 (ipykernel)",
   "language": "python",
   "name": "python3"
  },
  "language_info": {
   "codemirror_mode": {
    "name": "ipython",
    "version": 3
   },
   "file_extension": ".py",
   "mimetype": "text/x-python",
   "name": "python",
   "nbconvert_exporter": "python",
   "pygments_lexer": "ipython3",
   "version": "3.10.6"
  }
 },
 "nbformat": 4,
 "nbformat_minor": 5
}
