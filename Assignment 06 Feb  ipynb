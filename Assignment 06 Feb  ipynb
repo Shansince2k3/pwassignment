{
 "cells": [
  {
   "cell_type": "code",
   "execution_count": null,
   "id": "0509bb1c-aa79-4576-801b-61f69a187d39",
   "metadata": {},
   "outputs": [],
   "source": [
    "# Answer 1"
   ]
  },
  {
   "cell_type": "code",
   "execution_count": 7,
   "id": "081bfceb-0d7d-4a12-81bf-f57219a34068",
   "metadata": {},
   "outputs": [
    {
     "name": "stdout",
     "output_type": "stream",
     "text": [
      "[1, 2, 3, 4, 44, 55, 66, 34, 56, 78, 89, 34, 1, 2, 3, 34, 1, 55, 67, 78, 89, 4, 45, 22, 61, 34, 1, 4, 56]\n",
      "the sum of flat list is 1023\n"
     ]
    }
   ],
   "source": [
    "from functools import reduce\n",
    "\n",
    "nested_list = [1,2,3,4, [44,55,66, True], False, (34,56,78,89,34), {1,2,3,3,2,1}, {1:34, \"key2\": [55, 67, 78, 89], 4: (45,\n",
    "22, 61, 34)}, [56, 'data science'], 'Machine Learning']\n",
    "flat_list = []\n",
    "\n",
    "def checkdict(x):\n",
    "    if type(x) == dict:\n",
    "        return True    \n",
    "def checkfunc(x):\n",
    "    if hasattr(x,'__iter__'):\n",
    "        return True    \n",
    "def typeint(x):\n",
    "    if type(x) == int:\n",
    "        return True\n",
    "    \n",
    "def dictfun(sublist):  \n",
    "    for k,i in sublist.items():\n",
    "    \n",
    "#     dict item iterable or nor iterable\n",
    "#     check key is int or not\n",
    "\n",
    "        if typeint(k):\n",
    "            if typeint(i):\n",
    "                flat_list.append(i)\n",
    "            flat_list.append(k)\n",
    "                \n",
    "        if checkfunc(i):\n",
    "            # check inner dic is nested ?\n",
    "            # flat_list.append(i)\n",
    "            for j in i:\n",
    "                if typeint(j):\n",
    "                    flat_list.append(j)\n",
    "                else:\n",
    "                    flat_list.append(i)\n",
    "          \n",
    "        \n",
    "        \n",
    "\n",
    "for sublist in nested_list:\n",
    "    \n",
    "#     check the nested list present or not\n",
    "        \n",
    "    if checkfunc(sublist):       \n",
    "#--------- check dic present or not in nested list ----------\n",
    "        if checkdict(sublist):\n",
    "            dictfun(sublist)    \n",
    "# ------------------------------------------------------\n",
    "            \n",
    "        for element in sublist:\n",
    "#      obj is iterable but type is int then append the list\n",
    "            if typeint(element):\n",
    "                flat_list.append(element)\n",
    "    else:\n",
    "        if typeint(sublist):\n",
    "            flat_list.append(sublist)\n",
    "print(flat_list)\n",
    "\n",
    "sumres = reduce(lambda x,y:x+y,flat_list)           \n",
    "print(\"the sum of flat list is {}\".format(sumres))\n",
    "\n"
   ]
  },
  {
   "cell_type": "code",
   "execution_count": 1,
   "id": "c3612f07-32cd-46cd-a8de-6d68cceac2da",
   "metadata": {},
   "outputs": [],
   "source": [
    "# answer 2"
   ]
  },
  {
   "cell_type": "code",
   "execution_count": 20,
   "id": "e8f8bc52-3517-4072-b1be-fce2d4ad29d3",
   "metadata": {},
   "outputs": [
    {
     "name": "stdin",
     "output_type": "stream",
     "text": [
      "enter the message I want to become a Data Scientist.\n"
     ]
    },
    {
     "name": "stdout",
     "output_type": "stream",
     "text": [
      "\n",
      "\n",
      "encrpyted message > l$zdqw$wr$ehfrph$d$gdwd$vflhqwlvw;\n",
      "decrpyted messeage > i want to become a data scientist.\n",
      "\n",
      "\n",
      "encrpyted message > n$2fsy$yt$gjhtrj$f$ifyf$xhnjsynxy=\n",
      "decrpyted messeage > i want to become a data scientist.\n",
      "\n",
      "\n",
      "encrpyted message > m$1erx$xs$figsqi$e$hexe$wgmirxmwx<\n",
      "decrpyted messeage > i want to become a data scientist.\n"
     ]
    }
   ],
   "source": [
    "import random\n",
    "\n",
    "def mess():\n",
    "    mess = input(\"enter the message\").lower()\n",
    "    return mess\n",
    "\n",
    "def messkey():\n",
    "    key = random.randint(3, 9)\n",
    "    return key\n",
    "\n",
    "\n",
    "def encrypt(message,key):\n",
    "    encry = ''\n",
    "    \n",
    "    alpha1 = 'abcdefghijklmnopqrstuvwxyz1234567890\"'\n",
    "    alpha2 = \"!'#$%&*+, -./:;<=>?@[\\]^_`{|}~\"\n",
    "    alpha = alpha1+alpha2\n",
    "    \n",
    "    for i in message:\n",
    "        \n",
    "        pos = alpha.find(i)\n",
    "        if(pos==46):\n",
    "            encry+=\"$\"\n",
    "        else:\n",
    "            newpos = (pos+int(key))%67\n",
    "            encry+=alpha[newpos] \n",
    "    return encry\n",
    "\n",
    "\n",
    "def decrypt(message,key ):\n",
    "    \n",
    "    decry = ''\n",
    "    alpha1 = 'abcdefghijklmnopqrstuvwxyz1234567890\"'\n",
    "    alpha2 = \"!'#$%&*+, -./:;<=>?@[\\]^_`{|}~\"\n",
    "    alpha = alpha1+alpha2\n",
    "    for i in message:\n",
    "        \n",
    "        pos=alpha.find(i)\n",
    "        if (pos==40):\n",
    "            decry+=\" \"\n",
    "        else:\n",
    "            newpos = (pos-int(key))%67\n",
    "            decry+=alpha[newpos]\n",
    "        \n",
    "    return decry\n",
    "\n",
    "# send the same message to multiple friends but encryption is differnt\n",
    "\n",
    "message = mess()  \n",
    "\n",
    "def sendrecive(message,key):\n",
    "    encryp = encrypt(message,key)\n",
    "    print(\"encrpyted message > {}\".format(encryp))\n",
    "    decryp = decrypt(encryp,key)\n",
    "    print(\"decrpyted messeage > {}\".format(decryp))\n",
    "    \n",
    "for i in range(3):\n",
    "    print('\\n')\n",
    "    key = messkey() \n",
    "    sendrecive(message,key)\n",
    "    "
   ]
  },
  {
   "cell_type": "code",
   "execution_count": null,
   "id": "58cab40e-a434-4c3d-9d0e-f04580371d39",
   "metadata": {},
   "outputs": [],
   "source": []
  }
 ],
 "metadata": {
  "kernelspec": {
   "display_name": "Python 3 (ipykernel)",
   "language": "python",
   "name": "python3"
  },
  "language_info": {
   "codemirror_mode": {
    "name": "ipython",
    "version": 3
   },
   "file_extension": ".py",
   "mimetype": "text/x-python",
   "name": "python",
   "nbconvert_exporter": "python",
   "pygments_lexer": "ipython3",
   "version": "3.10.6"
  }
 },
 "nbformat": 4,
 "nbformat_minor": 5
}
