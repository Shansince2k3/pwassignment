{
 "cells": [
  {
   "cell_type": "code",
   "execution_count": 10,
   "id": "db7c6634-f2aa-4221-b4b9-cf7f9c974e04",
   "metadata": {},
   "outputs": [],
   "source": [
    "#answer 1"
   ]
  },
  {
   "cell_type": "code",
   "execution_count": 13,
   "id": "36f2f467-3f47-48ca-9ba1-28629634752b",
   "metadata": {},
   "outputs": [
    {
     "name": "stdin",
     "output_type": "stream",
     "text": [
      " 77\n"
     ]
    },
    {
     "name": "stdout",
     "output_type": "stream",
     "text": [
      "grade c\n"
     ]
    }
   ],
   "source": [
    "percentage = float(input())\n",
    "if (90<=percentage):\n",
    "    print(\"grade A\")\n",
    "elif(80<=percentage):\n",
    "    print(\"grade b\")\n",
    "elif(60<percentage):\n",
    "    print('grade c')\n",
    "else:\n",
    "    print('grade d')\n"
   ]
  },
  {
   "cell_type": "code",
   "execution_count": 17,
   "id": "8d56543f-745f-40cf-bc3b-752221a562c5",
   "metadata": {},
   "outputs": [],
   "source": [
    "# Answer 2"
   ]
  },
  {
   "cell_type": "code",
   "execution_count": 16,
   "id": "418dbd7e-b578-4752-984e-acf3d2206595",
   "metadata": {},
   "outputs": [
    {
     "name": "stdin",
     "output_type": "stream",
     "text": [
      " 600\n"
     ]
    },
    {
     "name": "stdout",
     "output_type": "stream",
     "text": [
      "tax 5%\n"
     ]
    }
   ],
   "source": [
    "cost = int(input())\n",
    "if (100000<cost):\n",
    "    print(\"tax 15%\")\n",
    "elif(50000<cost):\n",
    "    print(\"tax 10%\")\n",
    "\n",
    "else:\n",
    "    print('tax 5%')\n"
   ]
  },
  {
   "cell_type": "code",
   "execution_count": 17,
   "id": "9125371c-afe5-4c36-bfc0-b8662bce1e8e",
   "metadata": {},
   "outputs": [],
   "source": [
    "# Answer 3"
   ]
  },
  {
   "cell_type": "code",
   "execution_count": 21,
   "id": "3c11bfce-e2b1-41fc-abe3-0fa90d310eea",
   "metadata": {},
   "outputs": [
    {
     "name": "stdin",
     "output_type": "stream",
     "text": [
      " Agra\n"
     ]
    },
    {
     "name": "stdout",
     "output_type": "stream",
     "text": [
      "Taj mahal\n"
     ]
    }
   ],
   "source": [
    "city = input()\n",
    "if (\"Delhi\" == city):\n",
    "    print(\"Red fort\")\n",
    "elif (\"Agra\" == city):\n",
    "    print(\"Taj mahal\")\n",
    "elif (\"jaipur\" == city):\n",
    "    print(\"jal mahal\")"
   ]
  },
  {
   "cell_type": "code",
   "execution_count": 17,
   "id": "21f9e300-ff64-451d-bcc7-25eef21bb12f",
   "metadata": {},
   "outputs": [],
   "source": [
    "# Answer 4"
   ]
  },
  {
   "cell_type": "code",
   "execution_count": 25,
   "id": "38169fe7-f6b1-4bd3-8d3f-6efdffcab74f",
   "metadata": {},
   "outputs": [
    {
     "name": "stdin",
     "output_type": "stream",
     "text": [
      " 180\n"
     ]
    },
    {
     "name": "stdout",
     "output_type": "stream",
     "text": [
      "Total iteration required 3\n"
     ]
    }
   ],
   "source": [
    "a = int(input())\n",
    "count = 0\n",
    "\n",
    "while a > 10:\n",
    "    b = a/3\n",
    "    a = b\n",
    "    count = count + 1\n",
    "print('Total iteration required', count)"
   ]
  },
  {
   "cell_type": "code",
   "execution_count": 26,
   "id": "f0f37782-e5b6-4078-9229-7581e6af1324",
   "metadata": {},
   "outputs": [],
   "source": [
    "# Answeer 5"
   ]
  },
  {
   "cell_type": "code",
   "execution_count": 9,
   "id": "b678b526-bd43-4f14-92c4-356b37ddf09b",
   "metadata": {},
   "outputs": [
    {
     "name": "stdin",
     "output_type": "stream",
     "text": [
      "chose the number 0 to 5 4\n"
     ]
    },
    {
     "name": "stdout",
     "output_type": "stream",
     "text": [
      "try next\n"
     ]
    },
    {
     "name": "stdin",
     "output_type": "stream",
     "text": [
      "chose the number 0 to 5 3\n"
     ]
    },
    {
     "name": "stdout",
     "output_type": "stream",
     "text": [
      "try next\n"
     ]
    },
    {
     "name": "stdin",
     "output_type": "stream",
     "text": [
      "chose the number 0 to 5 2\n"
     ]
    },
    {
     "name": "stdout",
     "output_type": "stream",
     "text": [
      "try next\n"
     ]
    },
    {
     "name": "stdin",
     "output_type": "stream",
     "text": [
      "chose the number 0 to 5 6\n"
     ]
    },
    {
     "name": "stdout",
     "output_type": "stream",
     "text": [
      "try next\n"
     ]
    },
    {
     "name": "stdin",
     "output_type": "stream",
     "text": [
      "chose the number 0 to 5 2\n"
     ]
    },
    {
     "name": "stdout",
     "output_type": "stream",
     "text": [
      "try next\n"
     ]
    },
    {
     "name": "stdin",
     "output_type": "stream",
     "text": [
      "chose the number 0 to 5 1\n"
     ]
    },
    {
     "name": "stdout",
     "output_type": "stream",
     "text": [
      "try next\n"
     ]
    },
    {
     "name": "stdin",
     "output_type": "stream",
     "text": [
      "chose the number 0 to 5 2\n"
     ]
    },
    {
     "name": "stdout",
     "output_type": "stream",
     "text": [
      "try next\n"
     ]
    },
    {
     "name": "stdin",
     "output_type": "stream",
     "text": [
      "chose the number 0 to 5 3\n"
     ]
    },
    {
     "name": "stdout",
     "output_type": "stream",
     "text": [
      "try next\n"
     ]
    },
    {
     "name": "stdin",
     "output_type": "stream",
     "text": [
      "chose the number 0 to 5 4\n"
     ]
    },
    {
     "name": "stdout",
     "output_type": "stream",
     "text": [
      "you win the lottery\n"
     ]
    }
   ],
   "source": [
    "# When we do not already have information about start, stop and both to run the loop, then we use while loop.\n",
    "import random\n",
    "while True:\n",
    "    a = random.randint(0,5)\n",
    "    inp = int(input(\"chose the number 0 to 5\"))\n",
    "    if a == inp:\n",
    "        print(\"you win the lottery\") \n",
    "        break\n",
    "    else:\n",
    "        print(\"try next\"  )\n"
   ]
  },
  {
   "cell_type": "code",
   "execution_count": 10,
   "id": "864a9278-132f-4ba4-95a5-14dfe29aa4d8",
   "metadata": {},
   "outputs": [],
   "source": [
    "# answer 6"
   ]
  },
  {
   "cell_type": "code",
   "execution_count": 28,
   "id": "7944d7cc-96f5-4989-beac-42e588047f4c",
   "metadata": {},
   "outputs": [
    {
     "name": "stdout",
     "output_type": "stream",
     "text": [
      "0 1 2 3 4 \n",
      "\n",
      "5 6 7 8 9 \n",
      "\n",
      "10 11 12 13 14 \n",
      "\n",
      "15 16 17 18 19 \n",
      "\n",
      "20 21 22 23 24 \n",
      "\n"
     ]
    }
   ],
   "source": [
    "i = 5\n",
    "\n",
    "a = 0\n",
    "while(i):\n",
    "    j= 5\n",
    "    while(j):\n",
    "        print(a,end = ' ')\n",
    "        a+=1\n",
    "        j-=1\n",
    "    print(\"\\n\")\n",
    "    \n",
    "    i-=1"
   ]
  },
  {
   "cell_type": "code",
   "execution_count": 27,
   "id": "4714fe4a-b55d-451c-accd-d7b37af8bf45",
   "metadata": {},
   "outputs": [
    {
     "name": "stdout",
     "output_type": "stream",
     "text": [
      "1 \n",
      "\n",
      "1 2 \n",
      "\n",
      "1 2 3 \n",
      "\n",
      "1 2 3 4 \n",
      "\n",
      "1 2 3 4 5 \n",
      "\n"
     ]
    }
   ],
   "source": [
    "\n",
    "i=1\n",
    "while i<=5:\n",
    "    j=1\n",
    "    while j<=i:\n",
    "        print(j,end=\" \")\n",
    "        j=j+1\n",
    "    print(\"\\n\")\n",
    "    i=i+1"
   ]
  },
  {
   "cell_type": "code",
   "execution_count": 29,
   "id": "ff2084cf-b909-487d-a1da-3a165e9318ea",
   "metadata": {},
   "outputs": [],
   "source": [
    "# answer 7"
   ]
  },
  {
   "cell_type": "code",
   "execution_count": 30,
   "id": "5320860d-6586-4dd3-b791-a890aa961596",
   "metadata": {},
   "outputs": [
    {
     "name": "stdout",
     "output_type": "stream",
     "text": [
      "10\n",
      "9\n",
      "8\n",
      "7\n",
      "6\n",
      "5\n",
      "4\n",
      "3\n",
      "2\n",
      "1\n"
     ]
    }
   ],
   "source": [
    "a = 10\n",
    "while (a):\n",
    "    print(a)\n",
    "    a-=1"
   ]
  },
  {
   "cell_type": "code",
   "execution_count": null,
   "id": "411a8a95-c1d8-485d-8b92-55cbca27053f",
   "metadata": {},
   "outputs": [],
   "source": []
  }
 ],
 "metadata": {
  "kernelspec": {
   "display_name": "Python 3 (ipykernel)",
   "language": "python",
   "name": "python3"
  },
  "language_info": {
   "codemirror_mode": {
    "name": "ipython",
    "version": 3
   },
   "file_extension": ".py",
   "mimetype": "text/x-python",
   "name": "python",
   "nbconvert_exporter": "python",
   "pygments_lexer": "ipython3",
   "version": "3.10.6"
  }
 },
 "nbformat": 4,
 "nbformat_minor": 5
}
