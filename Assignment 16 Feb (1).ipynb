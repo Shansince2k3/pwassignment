{
 "cells": [
  {
   "cell_type": "markdown",
   "id": "110e7cd3-d102-4900-95d8-088423acccc5",
   "metadata": {},
   "source": [
    "# Q1. What is a database? Differentiate between SQL and NoSQL databases."
   ]
  },
  {
   "cell_type": "raw",
   "id": "2ae11294-bfee-43c7-8ec0-0ad429ef1235",
   "metadata": {},
   "source": [
    "Ans Database: Colllection of data in organised manner.\n",
    "\n",
    "SQL: (Structured Query Language)\n",
    "\n",
    "1. Based on RDBMS.\n",
    "2. Tabular form of data\n",
    "3. edefined schema\n",
    "4. vertically scalable\n",
    "5. NoSQL: (Not only SQL)\n",
    "\n",
    "NoSQL: (Not only SQL)\n",
    "\n",
    "1. Non-relational DB\n",
    "2. key value pair (json) form of data\n",
    "3. no predefined schema\n",
    "4. horizontally scalabl"
   ]
  },
  {
   "cell_type": "markdown",
   "id": "85b43d26-b99f-4da4-a1f5-1d128391964b",
   "metadata": {},
   "source": [
    "# Q2. What is DDL? Explain why CREATE, DROP, ALTER, and TRUNCATE are used with an example."
   ]
  },
  {
   "cell_type": "markdown",
   "id": "b214ec64-4c7b-4e28-ad3c-97617b3a611e",
   "metadata": {},
   "source": [
    "\n",
    "#### DDL stands for Data Definition Language, and it is a subset of SQL (Structured Query Language) used to define and manage the structure of a database. DDL commands are used to create, modify, and delete database objects such as tables, indexes, and constraints.\n",
    "\n",
    "1. CREATE: Used to create a new database object. For example, \"CREATE TABLE\" creates a new table in the database.\n",
    "2. DROP: Used to delete an existing database object. For example, \"DROP TABLE\" deletes a table from the database.\n",
    "3. ALTER: Used to modify the structure of an existing database object. For example, \"ALTER TABLE\" is used to add or remove columns from a table.\n",
    "4. TRUNCATE: Used to delete all the data in a table while keeping its structure intact. For example, \"TRUNCATE TABLE\" removes all rows from a table, but the table itself remains"
   ]
  },
  {
   "cell_type": "markdown",
   "id": "a144c141-8c3e-49b8-990a-708a6713f987",
   "metadata": {},
   "source": [
    "# Q3. What is DML? Explain INSERT, UPDATE, and DELETE with an example."
   ]
  },
  {
   "cell_type": "markdown",
   "id": "bed7218c-c700-4c4e-9c89-77381df38f18",
   "metadata": {
    "tags": []
   },
   "source": [
    "#### Ans DML stands for Data Manipulation Language, which is a subset of SQL (Structured Query Language) used to manipulate data within a database\n",
    "\n",
    "1. INSERT: Used to insert new records into a table. For example:\n",
    "##### INSERT INTO customers (name, email) VALUES ('John Doe', 'john@example.com');\n",
    "\n",
    "2. UPDATE: Used to modify existing records in a table. For example:\n",
    "##### UPDATE customers SET email = 'newemail@example.com' WHERE id = 1;\n",
    "\n",
    "3. DELETE: Used to remove records from a table. For example:\n",
    "##### DELETE FROM customers WHERE id = 1;\n"
   ]
  },
  {
   "cell_type": "markdown",
   "id": "d255134d-ee2a-48d4-b0db-4d3b0b4437a7",
   "metadata": {},
   "source": [
    "# Q4. What is DQL? Explain SELECT with an example."
   ]
  },
  {
   "cell_type": "markdown",
   "id": "63367bd1-031c-4165-9035-6b832d431cec",
   "metadata": {},
   "source": [
    "#### Ans DQL stands for Data Query Language, which is a subset of SQL (Structured Query Language) used to retrieve and query data from a database. The most commonly used DQL command is SELECT, which retrieves data from one or more tables based on specified conditions.\n",
    "SELECT * FROM customers WHERE age > 30;\n"
   ]
  },
  {
   "cell_type": "markdown",
   "id": "09d8b6e0-07ee-4cf4-98d7-528470820f93",
   "metadata": {},
   "source": [
    "\n",
    "# Q5. Explain Primary Key and Foreign Key."
   ]
  },
  {
   "cell_type": "markdown",
   "id": "6e5ab855-68b7-4695-9f31-411a7ddd0f70",
   "metadata": {},
   "source": [
    "#### Ans\n",
    "1. Primary Key: Unique identifier for each row in a table.\n",
    "2. foreign key is used to connect two tables or maintain the relationship between them."
   ]
  },
  {
   "cell_type": "markdown",
   "id": "679e9779-6242-4ee8-88c8-14b5a094da0a",
   "metadata": {},
   "source": [
    "# Q6. Write a python code to connect MySQL to python. Explain the cursor() and execute() method."
   ]
  },
  {
   "cell_type": "code",
   "execution_count": null,
   "id": "1b4c72e5-c3fb-45d8-96e2-5c3776cf099c",
   "metadata": {},
   "outputs": [],
   "source": [
    "import mysql.connector\n",
    "\n",
    "# Establish the connection\n",
    "cnx = mysql.connector.connect(\n",
    "    host=\"your_host\",\n",
    "    user=\"your_username\",\n",
    "    password=\"your_password\",\n",
    "    database=\"your_database\"\n",
    ")\n",
    "\n",
    "# Create a cursor object\n",
    "cursor = cnx.cursor()\n",
    "\n",
    "# Execute SQL queries (SQL commands)\n",
    "query = \"SELECT * FROM your_table\"\n",
    "cursor.execute(query)\n",
    "\n",
    "# Fetch and print the results\n",
    "results = cursor.fetchall()\n",
    "for row in results:\n",
    "    print(row)\n",
    "\n",
    "# Close the cursor and connection\n",
    "cursor.close()\n",
    "cnx.close()\n"
   ]
  },
  {
   "cell_type": "markdown",
   "id": "fba1d269-d2f5-4a21-9ac2-503952a84609",
   "metadata": {},
   "source": [
    "# Q7. Give the order of execution of SQL clauses in an SQL query."
   ]
  },
  {
   "cell_type": "markdown",
   "id": "f595d023-f198-4b89-96b6-57335dddf2d0",
   "metadata": {},
   "source": [
    "#### Ans\n",
    "1. FROM: Specifies the table(s) from which the data will be retrieved.\n",
    "2. WHERE: Filters the rows based on specified conditions.\n",
    "3. GROUP BY: Groups the rows based on specified columns.\n",
    "4. HAVING: Filters the grouped rows based on specified conditions.\n",
    "5. SELECT: Specifies the columns to be included in the result set.\n",
    "6. ORDER BY: Sorts the result set based on specified columns.\n",
    "7. LIMIT/OFFSET: Restricts the number of rows returned or specifies the starting point for the result set.\n",
    "\n"
   ]
  },
  {
   "cell_type": "code",
   "execution_count": null,
   "id": "7da4c3e8-a451-4076-b019-ae3a72d17938",
   "metadata": {},
   "outputs": [],
   "source": []
  }
 ],
 "metadata": {
  "kernelspec": {
   "display_name": "Python 3 (ipykernel)",
   "language": "python",
   "name": "python3"
  },
  "language_info": {
   "codemirror_mode": {
    "name": "ipython",
    "version": 3
   },
   "file_extension": ".py",
   "mimetype": "text/x-python",
   "name": "python",
   "nbconvert_exporter": "python",
   "pygments_lexer": "ipython3",
   "version": "3.10.6"
  }
 },
 "nbformat": 4,
 "nbformat_minor": 5
}
