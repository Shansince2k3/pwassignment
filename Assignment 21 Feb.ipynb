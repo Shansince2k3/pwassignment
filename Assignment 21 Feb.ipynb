{
 "cells": [
  {
   "cell_type": "markdown",
   "id": "e6875b0e-3431-448c-932d-a309753c32c1",
   "metadata": {},
   "source": [
    "### Q1. What is Web Scraping? Why is it Used? Give three areas where Web Scraping is used to get data."
   ]
  },
  {
   "cell_type": "markdown",
   "id": "d0c82436-0426-41db-babc-b4afa9fda62a",
   "metadata": {},
   "source": [
    "#### Ans \n",
    "Web scraping is an automated process that extracts data from a website .\n",
    "web scraping is commonly used to gather data: for - Data Extraction , Business Intelligence , Lead Generation ,Machine learning , Research and Analysis are used for a variety of reasons.\n",
    "\n",
    "NOTE : APIs may not always expose all the data or provide the necessary level of granularity required for specific use cases.\n"
   ]
  },
  {
   "cell_type": "markdown",
   "id": "f4d42704-17f2-41c8-85d5-e0fd2c52b086",
   "metadata": {},
   "source": [
    "### Q2 What are the different methods used for Web Scraping?"
   ]
  },
  {
   "cell_type": "markdown",
   "id": "a30b9a79-6f44-4cd7-bfbc-b7153bd1c40b",
   "metadata": {},
   "source": [
    "# Ans\n",
    "There are several methods and techniques used for web scraping.\n",
    "1. Manual Copy-Pasting:- Manual Copy-Pasting:\n",
    "2. Regular Expression Matching:(regex) can be used to extract specific patterns or structured data from HTML source code. \n",
    "3. In Python : BeautifulSoup,Requests,Selenium ,Scapy,pyquery\n",
    "4. API-Based Scraping: In some cases, websites provide APIs that allow access to structured data.\n"
   ]
  },
  {
   "cell_type": "markdown",
   "id": "10bb11c8-7a93-40a8-a243-3c6d42cf446f",
   "metadata": {},
   "source": [
    "### Q3. What is Beautiful Soup? Why is it used?\n"
   ]
  },
  {
   "cell_type": "markdown",
   "id": "4af2588c-1672-4f0a-ad49-10d3c4703d07",
   "metadata": {},
   "source": [
    "#### Ans\n",
    "BeautifulSoup simplifies the process of web scraping and data extraction from HTML or XML documents.\n",
    "Beautiful Soup is used for several reasons.\n",
    "HTML Parsing: HTML Parsing: Navigating HTML Structure Handling Complex Web Pages."
   ]
  },
  {
   "cell_type": "code",
   "execution_count": 32,
   "id": "38d26e19-476f-45a4-ac33-d87b7ebb0098",
   "metadata": {},
   "outputs": [
    {
     "name": "stdout",
     "output_type": "stream",
     "text": [
      "Title: APPLE iPhone 12 Pro Max (Silver, 512 GB)\n",
      "Price: ₹1,23,299\n",
      "Product link Purchase link \n",
      " https://www.flipkart.com/apple-iphone-12-pro-max-silver-512-gb/p/itm5d3d37892544f?pid=MOBFWBYZW38NGPNM&lid=LSTMOBFWBYZW38NGPNMWD1NPD&marketplace=FLIPKART&q=iphone12pro&store=tyy%2F4io&srno=s_1_1&otracker=search&fm=organic&iid=93f4cbd6-1698-459b-b4d1-f1d7e189934b.MOBFWBYZW38NGPNM.SEARCH&ppt=None&ppn=None&ssid=2pl9gwpmtc0000001687165959770&qH=712933e6bd68e7b9\n",
      "--------------------------------\n",
      "Title: APPLE iPhone 12 Pro (Silver, 512 GB)\n",
      "Price: ₹1,06,699\n",
      "Product link Purchase link \n",
      " https://www.flipkart.com/apple-iphone-12-pro-silver-512-gb/p/itm0ccf9fc219a71?pid=MOBFWBYZ5UY6ZBVA&lid=LSTMOBFWBYZ5UY6ZBVAWNVLCR&marketplace=FLIPKART&q=iphone12pro&store=tyy%2F4io&srno=s_1_2&otracker=search&fm=organic&iid=93f4cbd6-1698-459b-b4d1-f1d7e189934b.MOBFWBYZ5UY6ZBVA.SEARCH&ppt=None&ppn=None&ssid=2pl9gwpmtc0000001687165959770&qH=712933e6bd68e7b9\n",
      "--------------------------------\n",
      "Title: APPLE iPhone 12 Pro (Silver, 256 GB)\n",
      "Price: ₹88,199\n",
      "Product link Purchase link \n",
      " https://www.flipkart.com/apple-iphone-12-pro-silver-256-gb/p/itm41ac927e82906?pid=MOBFWBYZMZTJZTWK&lid=LSTMOBFWBYZMZTJZTWKASW35U&marketplace=FLIPKART&q=iphone12pro&store=tyy%2F4io&srno=s_1_3&otracker=search&fm=organic&iid=93f4cbd6-1698-459b-b4d1-f1d7e189934b.MOBFWBYZMZTJZTWK.SEARCH&ppt=None&ppn=None&ssid=2pl9gwpmtc0000001687165959770&qH=712933e6bd68e7b9\n",
      "--------------------------------\n",
      "Title: APPLE iPhone 12 Pro (Gold, 512 GB)\n",
      "Price: ₹1,06,699\n",
      "Product link Purchase link \n",
      " https://www.flipkart.com/apple-iphone-12-pro-gold-512-gb/p/itm157b3be191fd1?pid=MOBFWBYZGKFYVTWH&lid=LSTMOBFWBYZGKFYVTWHR65UKC&marketplace=FLIPKART&q=iphone12pro&store=tyy%2F4io&srno=s_1_4&otracker=search&fm=organic&iid=93f4cbd6-1698-459b-b4d1-f1d7e189934b.MOBFWBYZGKFYVTWH.SEARCH&ppt=None&ppn=None&ssid=2pl9gwpmtc0000001687165959770&qH=712933e6bd68e7b9\n",
      "--------------------------------\n",
      "Title: APPLE iPhone 12 Pro (Graphite, 256 GB)\n",
      "Price: ₹88,199\n",
      "Product link Purchase link \n",
      " https://www.flipkart.com/apple-iphone-12-pro-graphite-256-gb/p/itm4fa4da575698c?pid=MOBFWBYZBA36UB7G&lid=LSTMOBFWBYZBA36UB7GZYS7EA&marketplace=FLIPKART&q=iphone12pro&store=tyy%2F4io&srno=s_1_5&otracker=search&fm=organic&iid=93f4cbd6-1698-459b-b4d1-f1d7e189934b.MOBFWBYZBA36UB7G.SEARCH&ppt=None&ppn=None&ssid=2pl9gwpmtc0000001687165959770&qH=712933e6bd68e7b9\n",
      "--------------------------------\n"
     ]
    }
   ],
   "source": [
    "#Dealer price Comparsion \n",
    "import requests\n",
    "from bs4 import BeautifulSoup\n",
    "string = str(input(\"enter the mobile name\"))       \n",
    "url = \"https://www.flipkart.com/search?q=\"+string\n",
    "\n",
    "response = requests.get(url)\n",
    "soup = BeautifulSoup(response.content, \"html.parser\")\n",
    "\n",
    "product_titles = soup.find_all(\"div\", {\"class\": \"_4rR01T\"})\n",
    "product_prices = soup.find_all(\"div\", {\"class\": \"_30jeq3 _1_WHN1\"})\n",
    "product_link = soup.find_all(\"a\",{\"class\":\"_1fQZEK\"})\n",
    "\n",
    "\n",
    "for i in range(5):\n",
    "\n",
    "    print(\"Title:\", product_titles[i].text)\n",
    "    print(\"Price:\", product_prices[i].text)\n",
    "    href = product_link[i].get(\"href\")\n",
    "    print(\"Product link Purchase link \\n\",\"https://www.flipkart.com\" + href)\n",
    "    print(\"-------------------------------------\")\n",
    "    \n"
   ]
  },
  {
   "cell_type": "markdown",
   "id": "92213c5c-d55e-432b-8b0f-5c3c9969b433",
   "metadata": {},
   "source": [
    "### Q4. Why is flask used in this Web Scraping project? "
   ]
  },
  {
   "cell_type": "markdown",
   "id": "93346112-bc7d-4fe9-b23f-ee55e716bd05",
   "metadata": {},
   "source": [
    "### Ans \n",
    "##### Flask is used in this web scraping project for its simplicity and lightweight nature.\n",
    "###### -It provides routing and request handling capabilities for web applications.\n",
    "###### -Flask integrates well with Python, making it compatible with other web scraping libraries.\n",
    "###### -It allows for flexibility and customization in structuring the web scraping project.\n",
    "###### -Flask enables fast development and prototyping of web scraping applications."
   ]
  },
  {
   "cell_type": "markdown",
   "id": "78f6bb74-adc5-477d-86e1-51a8bbffda41",
   "metadata": {},
   "source": [
    "# Q5. Write the names of AWS services used in this project. Also, explain the use of each service."
   ]
  },
  {
   "cell_type": "markdown",
   "id": "859fb372-c7ed-4bbe-8e82-f0ed3e891cf6",
   "metadata": {},
   "source": [
    "#### Ans\n",
    ": Services used are:\n",
    "\n",
    "1. Codepipeline: It is a continuous delivery service that we can use to model, visualize, and automate the steps required to release any software.\n",
    "\n",
    "2. Beanstalk: it is service by AWS for deploying and scaling web applications and services."
   ]
  },
  {
   "cell_type": "code",
   "execution_count": null,
   "id": "5d30c8a0-b564-423a-a54d-a151076a9a81",
   "metadata": {},
   "outputs": [],
   "source": []
  }
 ],
 "metadata": {
  "kernelspec": {
   "display_name": "Python 3 (ipykernel)",
   "language": "python",
   "name": "python3"
  },
  "language_info": {
   "codemirror_mode": {
    "name": "ipython",
    "version": 3
   },
   "file_extension": ".py",
   "mimetype": "text/x-python",
   "name": "python",
   "nbconvert_exporter": "python",
   "pygments_lexer": "ipython3",
   "version": "3.10.6"
  }
 },
 "nbformat": 4,
 "nbformat_minor": 5
}
