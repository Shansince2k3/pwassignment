{
 "cells": [
  {
   "cell_type": "code",
   "execution_count": 20,
   "id": "a0c6e4fe-5a1e-4506-81b8-51f36ba99a97",
   "metadata": {},
   "outputs": [],
   "source": [
    "# answer 1"
   ]
  },
  {
   "cell_type": "code",
   "execution_count": 20,
   "id": "f5c6cc9a-56e1-4eae-90ef-b7165bbac504",
   "metadata": {},
   "outputs": [
    {
     "name": "stdin",
     "output_type": "stream",
     "text": [
      "enter the password ArshanKhan761#@$\n",
      "enter the password ArshanKhan761#@$\n"
     ]
    },
    {
     "name": "stdout",
     "output_type": "stream",
     "text": [
      "Valid Password\n",
      "password is strong\n"
     ]
    }
   ],
   "source": [
    "def setpass():\n",
    "    return str(input(\"enter the password\"))\n",
    "\n",
    "def validornot(key,inputkey):\n",
    "    if key == inputkey:\n",
    "        print(\"Valid Password\")\n",
    "    else:\n",
    "        print(\"Invalid Password\")\n",
    "                \n",
    "            \n",
    "        \n",
    "def secureornot(inputkey):\n",
    "    up,lo,spe,nu=0,0,0,0\n",
    "    num = ('0','1','2','3','4','5','6','7','8','9','0')\n",
    "    special =  ('!', '@', '#', '$', '%', '^', '&','*')\n",
    "    if (len(inputkey)>=10):\n",
    "        lispass = tuple(map(lambda x:x,inputkey))\n",
    "        for ele in inputkey: \n",
    "            if (ele.isupper()):\n",
    "                up+=1\n",
    "            elif (ele.islower() ):\n",
    "                lo+=1\n",
    "            elif (ele in special):\n",
    "                spe+=1\n",
    "            elif (ele in num ):\n",
    "                nu+=1\n",
    "        if (up>=2 and lo >= 2 and nu >= 1 and spe >= 3):\n",
    "            return True\n",
    "        else:\n",
    "            return False\n",
    "            \n",
    "    else:\n",
    "        return False\n",
    "        \n",
    "# set the password\n",
    "key = setpass() \n",
    "\n",
    "# checking password correct or not\n",
    "validornot(key,setpass())\n",
    "\n",
    "# check the key strong or not the condition\n",
    "if secureornot(key):\n",
    "    print(\"password is strong\")\n",
    "else:\n",
    "    print('Note: Password not strong \\n1. The Password should contain at least two uppercase letters and at least two lowercase letters.\\n2. The Password should contain at least a number and three special characters.\\n3. The length of the password should be 10 characters long.')\n",
    "       \n",
    "\n",
    "\n",
    "\n",
    "\n",
    "\n",
    "            \n",
    "        "
   ]
  },
  {
   "cell_type": "code",
   "execution_count": 20,
   "id": "58b11d1d-c295-4e0e-bb7c-4af47762978d",
   "metadata": {},
   "outputs": [],
   "source": [
    "# answer 2\n"
   ]
  },
  {
   "cell_type": "code",
   "execution_count": 19,
   "id": "ca89d594-6298-446b-8455-624c84eedab8",
   "metadata": {},
   "outputs": [
    {
     "name": "stdout",
     "output_type": "stream",
     "text": [
      "['apple']\n",
      "['123', '456', '789']\n",
      "[('orange', 80), ('mango', 99), ('grapes', 1000)]\n",
      "[1, 4, 9, 16, 25, 36, 49, 64, 81, 100]\n",
      "[1.0, 8.0, 27.0, 64.0, 125.0, 216.0, 343.0, 512.0, 729.0, 1000.0]\n",
      "False\n",
      "[1, 3, 5, 7, 9]\n",
      "[1, 2, 3, 4, 5, 6]\n",
      "[-1, -2, -3, -4, -5]\n"
     ]
    }
   ],
   "source": [
    "# Check if the string starts with a particular letter\n",
    "string_list = [\"apple\", \"banana\", \"cherry\", \"orange\"]\n",
    "letter = \"a\"\n",
    "starts_with_letter = list(filter(lambda s: s.startswith(letter), string_list))\n",
    "print(starts_with_letter)  \n",
    "\n",
    "# Check if the string is numeric:\n",
    "\n",
    "string_list = [\"123\", \"abc\", \"456\", \"789\"]\n",
    "is_numeric = list(filter(lambda s: s.isnumeric(), string_list))\n",
    "print(is_numeric)  \n",
    "\n",
    "# Sort a list of tuples having fruit names and their quantity:\n",
    "\n",
    "fruit_list = [(\"mango\", 99), (\"orange\", 80), (\"grapes\", 1000)]\n",
    "sorted_list = sorted(fruit_list, key=lambda x: x[1])\n",
    "print(sorted_list)  \n",
    "\n",
    "# Find the squares of numbers from 1 to 10:\n",
    "squares = [x**2 for x in range(1, 11)]\n",
    "print(squares) \n",
    "\n",
    "# Find the cube root of numbers from 1 to 10:\n",
    "\n",
    "import math\n",
    "cube_roots = [math.pow(x, 3) for x in range(1, 11)]\n",
    "print(cube_roots) \n",
    "\n",
    "# Check if a given number is even:\n",
    "number = 7\n",
    "is_even = number % 2 == 0\n",
    "print(is_even)  \n",
    "\n",
    "# Filter odd numbers from the given list:\n",
    "numbers = [1, 2, 3, 4, 5, 6, 7, 8, 9, 10]\n",
    "odd_numbers = list(filter(lambda x: x % 2 != 0, numbers))\n",
    "print(odd_numbers) \n",
    "\n",
    "# Sort a list of integers into positive and negative integers lists:\n",
    "numbers = [1, 2, 3, 4, 5, 6, -1, -2, -3, -4, -5, 0]\n",
    "\n",
    "positive_integers = [x for x in numbers if x > 0]\n",
    "negative_integers = [x for x in numbers if x < 0]\n",
    "\n",
    "print(positive_integers) \n",
    "print(negative_integers) \n"
   ]
  }
 ],
 "metadata": {
  "kernelspec": {
   "display_name": "Python 3 (ipykernel)",
   "language": "python",
   "name": "python3"
  },
  "language_info": {
   "codemirror_mode": {
    "name": "ipython",
    "version": 3
   },
   "file_extension": ".py",
   "mimetype": "text/x-python",
   "name": "python",
   "nbconvert_exporter": "python",
   "pygments_lexer": "ipython3",
   "version": "3.10.6"
  }
 },
 "nbformat": 4,
 "nbformat_minor": 5
}
