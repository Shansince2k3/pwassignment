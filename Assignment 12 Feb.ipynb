{
 "cells": [
  {
   "cell_type": "markdown",
   "id": "8069f94a-d3d3-43be-a7b8-e772146828a1",
   "metadata": {},
   "source": [
    "# Q1. What is an Exception in python? Write the difference between Exceptions and syntax errors."
   ]
  },
  {
   "cell_type": "markdown",
   "id": "9dfb37fe-90fa-41d8-b3fb-1ebca512411e",
   "metadata": {},
   "source": [
    "ans An exception is an event, which occurs during the execution of a program that disrupts the normal flow of the program's instructions.\n",
    "ans syntax error occur at run time"
   ]
  },
  {
   "cell_type": "code",
   "execution_count": 4,
   "id": "214fe848-b686-4a2f-8582-0ce3b8f3b2fa",
   "metadata": {},
   "outputs": [
    {
     "name": "stdin",
     "output_type": "stream",
     "text": [
      "enter the number arsh\n"
     ]
    },
    {
     "ename": "ValueError",
     "evalue": "invalid literal for int() with base 10: 'arsh'",
     "output_type": "error",
     "traceback": [
      "\u001b[0;31m---------------------------------------------------------------------------\u001b[0m",
      "\u001b[0;31mValueError\u001b[0m                                Traceback (most recent call last)",
      "Cell \u001b[0;32mIn [4], line 1\u001b[0m\n\u001b[0;32m----> 1\u001b[0m i \u001b[38;5;241m=\u001b[39m \u001b[38;5;28;43mint\u001b[39;49m\u001b[43m(\u001b[49m\u001b[38;5;28;43minput\u001b[39;49m\u001b[43m(\u001b[49m\u001b[38;5;124;43m\"\u001b[39;49m\u001b[38;5;124;43menter the number\u001b[39;49m\u001b[38;5;124;43m\"\u001b[39;49m\u001b[43m)\u001b[49m\u001b[43m)\u001b[49m\n\u001b[1;32m      2\u001b[0m \u001b[38;5;28mprint\u001b[39m(i)\n",
      "\u001b[0;31mValueError\u001b[0m: invalid literal for int() with base 10: 'arsh'"
     ]
    }
   ],
   "source": [
    "# example of exception case \n",
    "i = int(input(\"enter the number\"))\n",
    "print(i)\n",
    "# this error occur at runtime"
   ]
  },
  {
   "cell_type": "code",
   "execution_count": 2,
   "id": "5d593a8f-70b8-4673-b7c6-7a9dd400cdc1",
   "metadata": {},
   "outputs": [
    {
     "ename": "NameError",
     "evalue": "name 'printt' is not defined",
     "output_type": "error",
     "traceback": [
      "\u001b[0;31m---------------------------------------------------------------------------\u001b[0m",
      "\u001b[0;31mNameError\u001b[0m                                 Traceback (most recent call last)",
      "Cell \u001b[0;32mIn [2], line 2\u001b[0m\n\u001b[1;32m      1\u001b[0m \u001b[38;5;66;03m# syntX ERROR\u001b[39;00m\n\u001b[0;32m----> 2\u001b[0m \u001b[43mprintt\u001b[49m(\u001b[38;5;124m'\u001b[39m\u001b[38;5;124mhello\u001b[39m\u001b[38;5;124m'\u001b[39m)\n",
      "\u001b[0;31mNameError\u001b[0m: name 'printt' is not defined"
     ]
    }
   ],
   "source": [
    "# syntX ERROR\n",
    "printt('hello')\n"
   ]
  },
  {
   "cell_type": "code",
   "execution_count": null,
   "id": "f7e83148-5de7-4102-a32f-b8cff175f431",
   "metadata": {},
   "outputs": [],
   "source": [
    "# Q2. What happens when an exception is not handled? Explain with an example."
   ]
  },
  {
   "cell_type": "code",
   "execution_count": 6,
   "id": "f8dd9b65-fcce-481b-8031-ff657596e988",
   "metadata": {},
   "outputs": [
    {
     "name": "stdout",
     "output_type": "stream",
     "text": [
      "division by zero\n"
     ]
    }
   ],
   "source": [
    "# the runtime system will abort the program (i.e. crash) and an exception message will print to the console.\n",
    "# Eg.\n",
    "# a = 10/0 #Shows error as : ZeroDivisionError\n",
    "\n",
    "try:\n",
    "    a = 10/0\n",
    "except ZeroDivisionError as e:\n",
    "    print(e)  \n",
    "# no error occurs"
   ]
  },
  {
   "cell_type": "code",
   "execution_count": 7,
   "id": "f3950921-26e1-4d86-9bf0-6fa732e84cc5",
   "metadata": {},
   "outputs": [],
   "source": [
    "# Q3. Which python statements are used to catch and handle exceptions? Explain with an example."
   ]
  },
  {
   "cell_type": "raw",
   "id": "8070d623-8a1d-4c7c-bd0a-9553926f82e3",
   "metadata": {},
   "source": [
    "Ans: 'try' and 'except' used to catch and handle exceptions in python."
   ]
  },
  {
   "cell_type": "code",
   "execution_count": 4,
   "id": "26813682-22e5-4136-8af5-ea5caff4ecc0",
   "metadata": {},
   "outputs": [
    {
     "name": "stdin",
     "output_type": "stream",
     "text": [
      "enter the number  7\n"
     ]
    },
    {
     "name": "stdout",
     "output_type": "stream",
     "text": [
      "this is integer\n"
     ]
    }
   ],
   "source": [
    "try:\n",
    "    n = int(input(\"enter the number \"))\n",
    "    if (type(n) == int):\n",
    "        print(\"this is integer\")\n",
    "except Exception as e:\n",
    "    print(e)"
   ]
  },
  {
   "cell_type": "markdown",
   "id": "3a265a69-a8a6-4f5f-947b-59f4241fa216",
   "metadata": {},
   "source": [
    "# Q4. Explain with an example:\n",
    "# a. try and else\n",
    "# b. finally\n",
    "# c. raise"
   ]
  },
  {
   "cell_type": "code",
   "execution_count": 6,
   "id": "2c71b3c9-3f71-450a-b87a-b7a3793e14da",
   "metadata": {},
   "outputs": [
    {
     "name": "stdout",
     "output_type": "stream",
     "text": [
      "hey i m data scientist\n"
     ]
    }
   ],
   "source": [
    "# a. try and else\n",
    "try:\n",
    "    a = 10/2\n",
    "except Exception as e:\n",
    "    print(\"e\")\n",
    "else:\n",
    "    print(\"hey i m data scientist\")\n",
    "    # will executed when 'try' block is executed without error.\n",
    "    "
   ]
  },
  {
   "cell_type": "code",
   "execution_count": 15,
   "id": "fc03de14-f2b0-4568-996e-aa7de198496f",
   "metadata": {},
   "outputs": [
    {
     "name": "stdout",
     "output_type": "stream",
     "text": [
      " error:  division by zero\n",
      "The is finally block \n",
      "5.0\n",
      "The finally block will execute for sure\n"
     ]
    }
   ],
   "source": [
    "# b. finally -> if error occur even then finally block are executed \n",
    "try:\n",
    "    a = 10/0\n",
    "    print(a)\n",
    "\n",
    "except Exception as e:\n",
    "    print(\" error: \",e)\n",
    "    \n",
    "finally: \n",
    "    print (\"The is finally block \")\n",
    "    \n",
    " #--------------------------------------    \n",
    "# here no error occur then finally block also executed\n",
    "try:\n",
    "    a = 10/2\n",
    "    print(a)\n",
    "\n",
    "except Exception as e:\n",
    "    print(\"There is an error: \",e)\n",
    "    \n",
    "finally: \n",
    "    print (\"The finally block will execute for sure\")\n"
   ]
  },
  {
   "cell_type": "code",
   "execution_count": 3,
   "id": "0a104036-4374-48fa-93f9-54d934f33552",
   "metadata": {},
   "outputs": [
    {
     "name": "stdin",
     "output_type": "stream",
     "text": [
      "enter your age 19\n"
     ]
    },
    {
     "name": "stdout",
     "output_type": "stream",
     "text": [
      "your are eligiblel\n"
     ]
    }
   ],
   "source": [
    "# raise -> basiclly raise is used to handle a custom exception \n",
    "\n",
    "class customclass(Exception):\n",
    "    def __init__(self,msg):\n",
    "        self.msg = msg\n",
    "        \n",
    "# inherit the exceptionn class \n",
    "\n",
    "def validateage(age):\n",
    "    if age < 0:\n",
    "        raise customclass(\"entered age is negative\")\n",
    "    elif age > 18:\n",
    "        raise customclass(\"your are eligiblel\")\n",
    "    else:\n",
    "        print('you are not eligible')\n",
    "        \n",
    "try:\n",
    "    age = int(input('enter your age'))\n",
    "    validateage(age)\n",
    "except customclass as e:\n",
    "    print(e)\n",
    "    \n"
   ]
  },
  {
   "cell_type": "markdown",
   "id": "51b54797-4834-4cb4-9aca-58df4018f098",
   "metadata": {},
   "source": [
    "# Q5. What are custom exceptions in python? Why do we need custom exceptions? Explain with an example."
   ]
  },
  {
   "cell_type": "code",
   "execution_count": 4,
   "id": "6afe02e9-9676-4313-aa41-25ee4a255fc7",
   "metadata": {},
   "outputs": [
    {
     "name": "stdin",
     "output_type": "stream",
     "text": [
      "enter your age -8\n"
     ]
    },
    {
     "name": "stdout",
     "output_type": "stream",
     "text": [
      "entered age is negative\n"
     ]
    }
   ],
   "source": [
    "# we can define custom exceptions by creating a new class that is derived from the built-in Exception class\n",
    "# We want to input age of person, but someone input is negative occur, then there should be custom error that will show, no negative age.\n",
    "\n",
    "class customclass(Exception):\n",
    "    def __init__(self,msg):\n",
    "        self.msg = msg\n",
    "        \n",
    "# inherit the exceptionn class \n",
    "\n",
    "def validateage(age):\n",
    "    if age < 0:\n",
    "        raise customclass(\"entered age is negative\")\n",
    "    elif age > 18:\n",
    "        raise customclass(\"your are eligiblel\")\n",
    "    else:\n",
    "        print('you are not eligible')\n",
    "        \n",
    "try:\n",
    "    age = int(input('enter your age'))\n",
    "    validateage(age)\n",
    "except customclass as e:\n",
    "    print(e)\n",
    "    "
   ]
  },
  {
   "cell_type": "markdown",
   "id": "0a77396b-96f8-46b3-9d50-06637b950618",
   "metadata": {},
   "source": [
    "# 6. Create a custom exception class. Use this class to handle an exception."
   ]
  },
  {
   "cell_type": "code",
   "execution_count": 6,
   "id": "94975399-e134-4db4-9c15-01097c029d8e",
   "metadata": {},
   "outputs": [
    {
     "name": "stdin",
     "output_type": "stream",
     "text": [
      "enter your age 77\n"
     ]
    },
    {
     "name": "stdout",
     "output_type": "stream",
     "text": [
      "you are not eligible\n"
     ]
    }
   ],
   "source": [
    "class customclass(Exception):\n",
    "    def __init__(self,msg):\n",
    "        self.msg = msg\n",
    "        \n",
    "# inherit the exceptionn class \n",
    "\n",
    "def insurance(age):\n",
    "    if age < 0:\n",
    "        raise customclass(\"entered age is negative\")\n",
    "    elif age > 18 and age < 50:\n",
    "        raise customclass(\"your are eligiblel\")\n",
    "    else:\n",
    "        print('you are not eligible')\n",
    "        \n",
    "try:\n",
    "    age = int(input('enter your age'))\n",
    "    insurance(age)\n",
    "except customclass as e:\n",
    "    print(e)\n",
    "    "
   ]
  },
  {
   "cell_type": "code",
   "execution_count": null,
   "id": "648838d0-a1af-4198-b614-dad4f04460da",
   "metadata": {},
   "outputs": [],
   "source": []
  }
 ],
 "metadata": {
  "kernelspec": {
   "display_name": "Python 3 (ipykernel)",
   "language": "python",
   "name": "python3"
  },
  "language_info": {
   "codemirror_mode": {
    "name": "ipython",
    "version": 3
   },
   "file_extension": ".py",
   "mimetype": "text/x-python",
   "name": "python",
   "nbconvert_exporter": "python",
   "pygments_lexer": "ipython3",
   "version": "3.10.6"
  }
 },
 "nbformat": 4,
 "nbformat_minor": 5
}
