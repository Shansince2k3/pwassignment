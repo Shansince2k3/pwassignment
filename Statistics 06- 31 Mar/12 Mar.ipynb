{
 "cells": [
  {
   "cell_type": "markdown",
   "id": "85a3f21a-48b4-49d6-a9f0-b490837db915",
   "metadata": {},
   "source": [
    "## Q1. Calculate the 95% confidence interval for a sample of data with a mean of 50 and a standard deviation of 5 using Python. Interpret the results."
   ]
  },
  {
   "cell_type": "code",
   "execution_count": 1,
   "id": "4dcf3781-4425-42d2-a002-0de3d9a36a7d",
   "metadata": {},
   "outputs": [
    {
     "name": "stdout",
     "output_type": "stream",
     "text": [
      "95% Confidence Interval: (48.1329693162095, 51.8670306837905)\n"
     ]
    }
   ],
   "source": [
    "import scipy.stats as stats\n",
    "\n",
    "# Sample mean and standard deviation\n",
    "sample_mean = 50\n",
    "sample_stddev = 5\n",
    "\n",
    "# Sample size (you need to specify this)\n",
    "sample_size = 30  # You should replace this with your actual sample size\n",
    "\n",
    "# Confidence level (95% in this case)\n",
    "confidence_level = 0.95\n",
    "\n",
    "# Calculate the standard error\n",
    "standard_error = sample_stddev / (sample_size ** 0.5)\n",
    "\n",
    "# Calculate the t-score for the desired confidence level and degrees of freedom\n",
    "degrees_of_freedom = sample_size - 1\n",
    "t_score = stats.t.ppf((1 + confidence_level) / 2, df=degrees_of_freedom)\n",
    "\n",
    "# Calculate the margin of error\n",
    "margin_of_error = t_score * standard_error\n",
    "\n",
    "# Calculate the confidence interval\n",
    "confidence_interval = (sample_mean - margin_of_error, sample_mean + margin_of_error)\n",
    "\n",
    "print(\"95% Confidence Interval:\", confidence_interval)\n"
   ]
  },
  {
   "cell_type": "markdown",
   "id": "8e5b7688-7f4f-4107-b379-6a4321f2a30d",
   "metadata": {},
   "source": [
    "## Q2. Conduct a chi-square goodness of fit test to determine if the distribution of colors of M&Ms in a bag matches the expected distribution of 20% blue, 20% orange, 20% green, 10% yellow, 10% red, and 20% brown. Use Python to perform the test with a significance level of 0.05."
   ]
  },
  {
   "cell_type": "code",
   "execution_count": 4,
   "id": "238cda48-d42a-4250-a045-d123fa928760",
   "metadata": {},
   "outputs": [
    {
     "name": "stdout",
     "output_type": "stream",
     "text": [
      "Fail to reject the null hypothesis. The distribution of colors matches the expected distribution.\n"
     ]
    }
   ],
   "source": [
    "import numpy as np\n",
    "from scipy import stats\n",
    "\n",
    "# Observed frequencies of each color\n",
    "observed_frequencies = np.array([25, 15, 20, 10, 10, 20])  # Replace with your actual data\n",
    "\n",
    "# Expected frequencies based on the expected distribution\n",
    "expected_frequencies = np.array([0.2, 0.2, 0.2, 0.1, 0.1, 0.2]) * np.sum(observed_frequencies)\n",
    "\n",
    "# Perform the chi-square goodness of fit test\n",
    "chi_squared_statistic, p_value = stats.chisquare(observed_frequencies,expected_frequencies)\n",
    "\n",
    "# Set the significance level\n",
    "alpha = 0.05\n",
    "\n",
    "# Determine if the null hypothesis is rejected\n",
    "if p_value < alpha:\n",
    "    print(\"Reject the null hypothesis. The distribution of colors is not as expected.\")\n",
    "else:\n",
    "    print(\"Fail to reject the null hypothesis. The distribution of colors matches the expected distribution.\")\n"
   ]
  },
  {
   "cell_type": "markdown",
   "id": "fe93b34c-5b77-4deb-8313-bf3e04e72eba",
   "metadata": {},
   "source": [
    "## Q3. Use Python to calculate the chi-square statistic and p-value for a contingency table with the following data Interpret the results of the test."
   ]
  },
  {
   "attachments": {
    "0eb01f4d-69ef-4dc4-a5b5-0360d00b9795.png": {
     "image/png": "[encoded data removed]"
    }
   },
   "cell_type": "markdown",
   "id": "49b1ac5d-4631-4169-a4eb-cc97062d9b4c",
   "metadata": {},
   "source": [
    "![Screenshot from 2023-08-24 22-05-22.png](attachment:0eb01f4d-69ef-4dc4-a5b5-0360d00b9795.png)"
   ]
  },
  {
   "cell_type": "code",
   "execution_count": 2,
   "id": "5b3925de-47a8-4cbc-9df5-f3dbe7dda59e",
   "metadata": {},
   "outputs": [
    {
     "name": "stdout",
     "output_type": "stream",
     "text": [
      "Chi-square statistic: 5.833333333333334\n",
      "P-value: 0.05411376622282158\n",
      "Degrees of Freedom: 2\n",
      "\n",
      "Expected frequencies table:\n",
      "[[15. 20.]\n",
      " [15. 20.]\n",
      " [15. 20.]]\n"
     ]
    }
   ],
   "source": [
    "import numpy as np\n",
    "from scipy.stats import chi2_contingency\n",
    "\n",
    "# Create the contingency table\n",
    "observed = np.array([[20, 15],\n",
    "                     [10, 25],\n",
    "                     [15, 20]])\n",
    "\n",
    "# Calculate the chi-square statistic and p-value\n",
    "chi2, p, dof, expected = chi2_contingency(observed)\n",
    "\n",
    "print(\"Chi-square statistic:\", chi2)\n",
    "print(\"P-value:\", p)\n",
    "print(\"Degrees of Freedom:\", dof)\n",
    "print(\"\\nExpected frequencies table:\")\n",
    "print(expected)\n"
   ]
  },
  {
   "cell_type": "markdown",
   "id": "8b8ea73c-3a8f-4d8c-b696-71cc4f155cf4",
   "metadata": {},
   "source": [
    "# calculate manually\n",
    "\n",
    "Contingency Table:\n",
    "|           | Group A | Group B |\n",
    "|-----------|---------|---------|\n",
    "| Outcome 1 |   20    |   15    |\n",
    "| Outcome 2 |   10    |   25    |\n",
    "| Outcome 3 |   15    |   20    |\n",
    "\n",
    "Step 1: Calculate Row and Column Totals (Marginal Totals):\n",
    "\n",
    "\n",
    "|          | Group A | Group B | Row Total |\n",
    "|----------|---------|---------|-----------|\n",
    "| Outcome 1|    20   |    15   |    35     |\n",
    "| Outcome 2|    10   |    25   |    35     |\n",
    "| Outcome 3|    15   |    20   |    35     |\n",
    "| Column Total | 45  |    60   |           |\n",
    "\n",
    "\n",
    "- Step 2: Calculate Expected Frequencies for Each Cell:\n",
    "Grand Total = 45 + 60 = 105\n",
    "\n",
    ">Expected Frequency for Outcome 1 in Group A:\n",
    "(35 * 45) / 105 = 15\n",
    "\n",
    ">Expected Frequency for Outcome 1 in Group B:\n",
    "(35 * 60) / 105 = 20\n",
    "\n",
    "Calculate expected frequencies for all other cells.\n",
    "\n",
    "- Step 3: Calculate Chi-square Statistic:\n",
    "Chi-square = Σ ((Observed - Expected)² / Expected)\n",
    "\n",
    ">For Outcome 1 in Group A:\n",
    "(20 - 15)² / 15 = 5/3.0 = 1.67\n",
    "\n",
    ">For Outcome 1 in Group B:\n",
    "(15 - 20)² / 20 = 25/20 = 1.25\n",
    "\n",
    "Repeat for all other cells, then sum up these values to get Total Chi-square.\n",
    "\n",
    "- Step 4: Degrees of Freedom (dof):\n",
    "dof = (Number of Rows - 1) * (Number of Columns - 1) = (3 - 1) * (2 - 1) = 2\n",
    "\n",
    "- Step 5: Look up Critical Chi-square Value:\n",
    "Use a chi-square distribution table for your chosen significance level (e.g., 0.05) and degrees of freedom (2) to find the critical chi-square value.\n",
    "\n",
    "- Step 6: Compare Calculated Chi-square to Critical Chi-square:\n",
    ">If Total Chi-square > Critical Chi-square, reject the null hypothesis; otherwise, fail to reject it.\n"
   ]
  },
  {
   "cell_type": "markdown",
   "id": "5426b776-4a16-4c6c-be62-c5c5c0b33069",
   "metadata": {},
   "source": [
    "# Q4. A study of the prevalence of smoking in a population of 500 individuals found that 60 individuals smoked. Use Python to calculate the 95% confidence interval for the true proportion of individuals in the population who smoke."
   ]
  },
  {
   "cell_type": "code",
   "execution_count": 5,
   "id": "66f5b89f-e267-470a-a4b7-0282fb9c56b2",
   "metadata": {},
   "outputs": [
    {
     "name": "stdout",
     "output_type": "stream",
     "text": [
      "Sample proportion (p_hat): 0.12\n",
      "Margin of error: 0.028483611128692923\n",
      "95% Confidence Interval: 0.09151638887130707 to 0.1484836111286929\n"
     ]
    }
   ],
   "source": [
    "import scipy.stats as stats\n",
    "\n",
    "# Sample proportion\n",
    "p_hat = 60 / 500\n",
    "\n",
    "# Sample size\n",
    "n = 500\n",
    "\n",
    "# Desired confidence level (95%)\n",
    "confidence_level = 0.95\n",
    "\n",
    "# Calculate the standard error\n",
    "standard_error = (p_hat * (1 - p_hat) / n) ** 0.5\n",
    "\n",
    "# Calculate the Z-score for the desired confidence level\n",
    "z_score = stats.norm.ppf(1 - (1 - confidence_level) / 2)\n",
    "\n",
    "# Calculate the margin of error\n",
    "margin_of_error = z_score * standard_error\n",
    "\n",
    "# Calculate the confidence interval\n",
    "lower_bound = p_hat - margin_of_error\n",
    "upper_bound = p_hat + margin_of_error\n",
    "\n",
    "# Print the results\n",
    "print(\"Sample proportion (p_hat):\", p_hat)\n",
    "print(\"Margin of error:\", margin_of_error)\n",
    "print(\"95% Confidence Interval:\", lower_bound, \"to\", upper_bound)\n"
   ]
  },
  {
   "cell_type": "markdown",
   "id": "000abd70-f433-483a-958e-461feea47040",
   "metadata": {},
   "source": [
    "## Q5. Calculate the 90% confidence interval for a sample of data with a mean of 75 and a standard deviation of 12 using Python. Interpret the results."
   ]
  },
  {
   "cell_type": "markdown",
   "id": "75cccd02-8e2a-4e28-bb45-fb3745faa05c",
   "metadata": {},
   "source": [
    "#\n",
    "$[ \\text{Confidence Interval} = \\bar{X} \\pm Z \\left(\\frac{\\sigma}{\\sqrt{n}}\\right) $]\n",
    "\n",
    "Where:\n",
    "- $(\\bar{X}$) is the sample mean.\n",
    "- \\(Z\\) is the Z-score corresponding to the desired confidence level (90% confidence corresponds to a Z-score of approximately 1.645).\n",
    "- $(\\sigma$) is the known population standard deviation.\n",
    "- \\(n\\) is the sample size.\n",
    "\n",
    "In your case:\n",
    "- Sample mean ($(\\bar{X}$)) is 75.\n",
    "- Population standard deviation ($(\\sigma$)) is 12.\n",
    "- The desired confidence level corresponds to a Z-score of approximately 1.645 for a 90% confidence interval.\n",
    "- Sample size (\\(n\\)) is not given. You'll need the sample size to complete the calculation.\n"
   ]
  },
  {
   "cell_type": "code",
   "execution_count": 6,
   "id": "b8fab011-e44d-4124-b881-0349149201ab",
   "metadata": {},
   "outputs": [
    {
     "name": "stdout",
     "output_type": "stream",
     "text": [
      "Sample mean: 75\n",
      "Population standard deviation: 12\n",
      "90% Confidence Interval: 71.39630625889797 to 78.60369374110203\n"
     ]
    }
   ],
   "source": [
    "import scipy.stats as stats\n",
    "\n",
    "# Given values\n",
    "sample_mean = 75\n",
    "population_stddev = 12\n",
    "confidence_level = 0.90  # 90% confidence level\n",
    "\n",
    "# Z-score for a 90% confidence level\n",
    "z_score = stats.norm.ppf(1 - (1 - confidence_level) / 2)\n",
    "\n",
    "# Assumed sample size (you should replace this with your actual sample size)\n",
    "sample_size = 30\n",
    "\n",
    "# Calculate the margin of error\n",
    "margin_of_error = z_score * (population_stddev / (sample_size ** 0.5))\n",
    "\n",
    "# Calculate the confidence interval\n",
    "lower_bound = sample_mean - margin_of_error\n",
    "upper_bound = sample_mean + margin_of_error\n",
    "\n",
    "# Print the results\n",
    "print(\"Sample mean:\", sample_mean)\n",
    "print(\"Population standard deviation:\", population_stddev)\n",
    "print(\"90% Confidence Interval:\", lower_bound, \"to\", upper_bound)\n"
   ]
  },
  {
   "cell_type": "markdown",
   "id": "7acdc9aa-c8fa-4ecf-bdbf-b608bd756c7a",
   "metadata": {},
   "source": [
    "## Q6. Use Python to plot the chi-square distribution with 10 degrees of freedom. Label the axes and shade the area corresponding to a chi-square statistic of 15."
   ]
  },
  {
   "cell_type": "code",
   "execution_count": 10,
   "id": "33eff20e-8d5c-4535-b402-3d591b5edf93",
   "metadata": {},
   "outputs": [
    {
     "data": {
      "image/png": "[encoded data removed]",
      "text/plain": [
       "<Figure size 800x400 with 1 Axes>"
      ]
     },
     "metadata": {},
     "output_type": "display_data"
    }
   ],
   "source": [
    "import numpy as np\n",
    "import matplotlib.pyplot as plt\n",
    "import scipy.stats as stats\n",
    "\n",
    "# Degrees of freedom\n",
    "df = 10\n",
    "\n",
    "# Generate x values for the chi-square distribution\n",
    "x = np.linspace(0, 30, 1000)  # Adjust the range as needed\n",
    "\n",
    "# Calculate the probability density function (PDF) for the chi-square distribution\n",
    "pdf = stats.chi2.pdf(x, df)\n",
    "\n",
    "# Create a plot\n",
    "plt.figure(figsize=(8, 4))\n",
    "#first \n",
    "plt.plot(x, pdf, label=f'Chi-square Distribution (df={df})', color='b')\n",
    "\n",
    "# Shade the area corresponding to a chi-square statistic of 15\n",
    "x_shaded = np.linspace(0, 15, 1000)\n",
    "pdf_shaded = stats.chi2.pdf(x_shaded, df)\n",
    "plt.fill_between(x_shaded, pdf_shaded, color='gray', alpha=0.5, label='Chi-square Statistic = 15 or less')\n",
    "\n",
    "# Label the axes\n",
    "plt.xlabel('Chi-square Statistic')\n",
    "plt.ylabel('Probability Density Function')\n",
    "plt.title('Chi-square Distribution with 10 Degrees of Freedom')\n",
    "# last\n",
    "plt.axvline(x=15, color='r', linestyle='--', label='Chi-square Statistic = 15', lw=1)\n",
    "\n",
    "# Add a legend\n",
    "plt.legend()\n",
    "# Show the plot\n",
    "plt.grid(True)\n",
    "plt.show()"
   ]
  },
  {
   "cell_type": "markdown",
   "id": "92400583-72c9-48f7-b897-1bc486e98fdb",
   "metadata": {},
   "source": [
    "## Q7. A random sample of 1000 people was asked if they preferred Coke or Pepsi. Of the sample, 520 preferred Coke. Calculate a 99% confidence interval for the true proportion of people in the population who prefer Coke."
   ]
  },
  {
   "cell_type": "code",
   "execution_count": 11,
   "id": "b44f39d9-16f0-41ca-a8e4-9fe26fc77ce2",
   "metadata": {},
   "outputs": [
    {
     "name": "stdout",
     "output_type": "stream",
     "text": [
      "Sample proportion (p_hat): 0.52\n",
      "Margin of error: 0.040694842322030134\n",
      "99% Confidence Interval: 0.4793051576779699 to 0.5606948423220302\n"
     ]
    }
   ],
   "source": [
    "import scipy.stats as stats\n",
    "\n",
    "# Sample proportion\n",
    "p_hat = 520 / 1000\n",
    "\n",
    "# Sample size\n",
    "n = 1000\n",
    "\n",
    "# Desired confidence level (99%)\n",
    "confidence_level = 0.99\n",
    "\n",
    "# Calculate the standard error\n",
    "standard_error = (p_hat * (1 - p_hat) / n) ** 0.5\n",
    "\n",
    "# Calculate the Z-score for the desired confidence level\n",
    "z_score = stats.norm.ppf(1 - (1 - confidence_level) / 2)\n",
    "\n",
    "# Calculate the margin of error\n",
    "margin_of_error = z_score * standard_error\n",
    "\n",
    "# Calculate the confidence interval\n",
    "lower_bound = p_hat - margin_of_error\n",
    "upper_bound = p_hat + margin_of_error\n",
    "\n",
    "# Print the results\n",
    "print(\"Sample proportion (p_hat):\", p_hat)\n",
    "print(\"Margin of error:\", margin_of_error)\n",
    "print(\"99% Confidence Interval:\", lower_bound, \"to\", upper_bound)\n"
   ]
  },
  {
   "cell_type": "markdown",
   "id": "043cde1b-d36f-4664-9c09-c21e041b498c",
   "metadata": {},
   "source": [
    "## Q8. A researcher hypothesizes that a coin is biased towards tails. They flip the coin 100 times and observe 45 tails. Conduct a chi-square goodness of fit test to determine if the observed frequencies match the expected frequencies of a fair coin. Use a significance level of 0.05."
   ]
  },
  {
   "cell_type": "code",
   "execution_count": 12,
   "id": "ba1ee1bf-058f-4245-bd56-28c5fdfdc18b",
   "metadata": {},
   "outputs": [
    {
     "name": "stdout",
     "output_type": "stream",
     "text": [
      "Fail to reject the null hypothesis. There's no evidence that the coin is biased towards tails.\n",
      "Chi-square statistic: 1.0\n",
      "Critical chi-square value: 3.841458820694124\n",
      "P-value: 0.31731050786291415\n"
     ]
    }
   ],
   "source": [
    "import numpy as np\n",
    "from scipy.stats import chi2\n",
    "\n",
    "# Observed and expected frequencies\n",
    "observed = np.array([45, 55])  # 45 tails, 55 heads\n",
    "expected = np.array([50, 50])  # Expected frequencies for a fair coin\n",
    "\n",
    "# Calculate the chi-square statistic\n",
    "chi_square_statistic = np.sum((observed - expected) ** 2 / expected)\n",
    "\n",
    "# Degrees of freedom\n",
    "df = 1  # Number of categories - 1\n",
    "\n",
    "# Calculate the critical chi-square value for a significance level of 0.05 and 1 degree of freedom\n",
    "critical_chi_square = chi2.ppf(1 - 0.05, df)\n",
    "\n",
    "# Calculate the p-value\n",
    "p_value = 1 - chi2.cdf(chi_square_statistic, df)\n",
    "\n",
    "# Determine whether to reject the null hypothesis\n",
    "if chi_square_statistic > critical_chi_square:\n",
    "    result = \"Reject the null hypothesis. The coin is biased towards tails.\"\n",
    "else:\n",
    "    result = \"Fail to reject the null hypothesis. There's no evidence that the coin is biased towards tails.\"\n",
    "\n",
    "# Print the results\n",
    "print(result)\n",
    "print(\"Chi-square statistic:\", chi_square_statistic)\n",
    "print(\"Critical chi-square value:\", critical_chi_square)\n",
    "print(\"P-value:\", p_value)"
   ]
  },
  {
   "cell_type": "markdown",
   "id": "41b8ee7e-a27e-47b1-91eb-5f891340ff88",
   "metadata": {},
   "source": [
    "\n",
    "**Step 1:** Define the hypotheses:\n",
    "   - Null Hypothesis ($(H_0$)): The coin is fair (observed frequencies match expected frequencies).\n",
    "   - Alternative Hypothesis ($(H_1$)): The coin is biased towards tails (observed frequencies do not match expected frequencies).\n",
    "\n",
    "**Step 2:** Specify the significance level ($(\\alpha$)): In this case, $(\\alpha = 0.05$).\n",
    "\n",
    "**Step 3:** Calculate the expected frequencies for a fair coin for 100 flips:\n",
    "   - Expected frequency for tails: $(0.5 \\times 100 = 50$)\n",
    "   - Expected frequency for heads: $(0.5 \\times 100 = 50$)\n",
    "\n",
    "**Step 4:** Create a contingency table with observed and expected frequencies:\n",
    "\n",
    "```\n",
    "           Observed    Expected\n",
    "Tails       45         50\n",
    "Heads       55         50\n",
    "```\n",
    "\n",
    "**Step 5:** Calculate the chi-square statistic:\n",
    "\n",
    "$[\n",
    "\\chi^2 = \\sum \\frac{{(\\text{Observed} - \\text{Expected})^2}}{{\\text{Expected}}}\n",
    "$]\n",
    "\n",
    "For tails:\n",
    "$[\n",
    "\\frac{{(45 - 50)^2}}{{50}} = \\frac{{25}}{{50}} = 0.5\n",
    "$]\n",
    "\n",
    "For heads:\n",
    "$[\n",
    "\\frac{{(55 - 50)^2}}{{50}} = \\frac{{25}}{{50}} = 0.5\n",
    "$]\n",
    "\n",
    "Now, sum up these values:\n",
    "$[\n",
    "\\chi^2 = 0.5 + 0.5 = 1.0\n",
    "$]\n",
    "\n",
    "**Step 6:** Calculate the degrees of freedom ($(df$)): $(df = \\text{number of categories} - 1 = 2 - 1 = 1$).\n",
    "\n",
    "**Step 7:** Calculate the critical chi-square value for $(\\alpha = 0.05$) and $(df = 1$)\n",
    ">(using a chi-square distribution table or calculator). For a significance level of 0.05, the critical chi-square value is approximately 3.841.\n",
    "\n",
    "**Step 8:** Compare the chi-square statistic (1.0) to the critical chi-square value (3.841).\n",
    "\n",
    "Since $(1.0 < 3.841$), we fail to reject the null hypothesis.\n",
    "\n",
    "**Step 9:** Calculate the p-value.\n",
    "> The p-value is the probability of observing a chi-square statistic as extreme as the one calculated (1.0) under the null hypothesis.\n",
    "\n",
    "calculator to find the p-value associated with $(\\chi^2 = 1.0$) and $(df = 1$). For $(\\chi^2 = 1.0$) and $(df = 1$), the p-value is approximately 0.317.\n",
    "\n",
    "**Step 10:** Make a decision based on the p-value and significance level:\n",
    "- If $(p \\leq \\alpha$), reject the null hypothesis.\n",
    "- If $(p > \\alpha$), fail to reject the null hypothesis.\n",
    "\n",
    "In this case, $(0.317 > 0.05$), so we fail to reject the null hypothesis. There is no significant evidence to conclude that the coin is biased towards tails based on the given data."
   ]
  },
  {
   "attachments": {
    "149e79f9-5255-4bea-9ec5-9dac816ee813.png": {
     "image/png": "[encoded data removed]"
    }
   },
   "cell_type": "markdown",
   "id": "8ca82cb4-2e3f-4d8a-a10c-c55fd62080d3",
   "metadata": {},
   "source": [
    "## Q9. A study was conducted to determine if there is an association between smoking status (smoker or non-smoker) and lung cancer diagnosis (yes or no). The results are shown in the contingency table below. Conduct a chi-square test for independence to determine if there is a significant association between smoking status and lung cancer diagnosis.Use a significance level of 0.05.![Screenshot from 2023-08-25 00-26-57.png](attachment:149e79f9-5255-4bea-9ec5-9dac816ee813.png)"
   ]
  },
  {
   "cell_type": "code",
   "execution_count": 24,
   "id": "d8e22144-ce24-40f6-8603-e54d9055bda0",
   "metadata": {},
   "outputs": [
    {
     "name": "stdout",
     "output_type": "stream",
     "text": [
      "Reject the null hypothesis. There is a significant association between smoking status and lung cancer diagnosis.\n",
      "Chi-square statistic: <scipy.stats._continuous_distns.chi2_gen object at 0x7f068f5570a0>\n",
      "Critical chi-square value: 3.841458820694124\n",
      "P-value: 0.0005158863863703744\n"
     ]
    }
   ],
   "source": [
    "import numpy as np\n",
    "from scipy.stats import chi2_contingency, chi2\n",
    "\n",
    "# Observed frequencies\n",
    "observed = np.array([[60, 140], [30, 170]])\n",
    "\n",
    "# Perform the chi-square test for independence\n",
    "chi2_stats, p, dof, expected = chi2_contingency(observed)\n",
    "\n",
    "# Significance level\n",
    "alpha = 0.05\n",
    "\n",
    "# Calculate the critical chi-square value\n",
    "critical_chi2_value = chi2.ppf(1 - alpha, dof)\n",
    "\n",
    "# Compare the chi-square statistic to the critical chi-square value\n",
    "if chi2_stats > critical_chi2_value:\n",
    "    result = \"Reject the null hypothesis. There is a significant association between smoking status and lung cancer diagnosis.\"\n",
    "else:\n",
    "    result = \"Fail to reject the null hypothesis. There is no significant association between smoking status and lung cancer diagnosis.\"\n",
    "\n",
    "# Print the results\n",
    "print(result)\n",
    "print(\"Chi-square statistic:\", chi2)\n",
    "print(\"Critical chi-square value:\", critical_chi2_value)\n",
    "print(\"P-value:\", p)\n"
   ]
  },
  {
   "attachments": {
    "d66b3246-389f-48ba-aa60-0ffe74b7eb97.png": {
     "image/png": "[encoded data removed]"
    }
   },
   "cell_type": "markdown",
   "id": "0834ccf7-56f8-4e6a-b5c1-12dfa24139a2",
   "metadata": {},
   "source": [
    "## Q10. A study was conducted to determine if the proportion of people who prefer milk chocolate, dark chocolate, or white chocolate is different in the U.S. versus the U.K. A random sample of 500 people from the U.S. and a random sample of 500 people from the U.K. were surveyed. The results are shown in the contingency table below. Conduct a chi-square test for independence to determine if there is a significant association between chocolate preference and country of origin.\n",
    "![Screenshot from 2023-08-25 01-06-21.png](attachment:d66b3246-389f-48ba-aa60-0ffe74b7eb97.png)"
   ]
  },
  {
   "cell_type": "code",
   "execution_count": 23,
   "id": "191842c5-b943-4e97-95f6-f0e76604d422",
   "metadata": {},
   "outputs": [
    {
     "name": "stdout",
     "output_type": "stream",
     "text": [
      "Reject the null hypothesis. There is a significant association between chocolate preference and country of origin.\n",
      "Chi-square statistic: 13.393665158371041\n",
      "Critical chi-square value: 9.21034037197618\n",
      "P-value: 0.0012348168997745918\n"
     ]
    }
   ],
   "source": [
    "import numpy as np\n",
    "from scipy.stats import chi2_contingency, chi2\n",
    "\n",
    "# Observed frequencies\n",
    "observed = np.array([[200, 150, 150], [225, 175, 100]])\n",
    "\n",
    "# Perform the chi-square test for independence\n",
    "chi2_statistic, p, dof, expected = chi2_contingency(observed)\n",
    "\n",
    "# Significance level\n",
    "alpha = 0.01\n",
    "\n",
    "# Calculate the critical chi-square value\n",
    "critical_chi2_value = chi2.ppf(1 - alpha, dof)\n",
    "\n",
    "# Compare the chi-square statistic to the critical chi-square value\n",
    "if chi2_statistic > critical_chi2_value:\n",
    "    result = \"Reject the null hypothesis. There is a significant association between chocolate preference and country of origin.\"\n",
    "else:\n",
    "    result = \"Fail to reject the null hypothesis. There is no significant association between chocolate preference and country of origin.\"\n",
    "\n",
    "# Print the results\n",
    "print(result)\n",
    "print(\"Chi-square statistic:\", chi2_statistic)\n",
    "print(\"Critical chi-square value:\", critical_chi2_value)\n",
    "print(\"P-value:\", p)\n"
   ]
  },
  {
   "cell_type": "markdown",
   "id": "e8819e09-9b66-4bf8-8791-0e69a1a1d579",
   "metadata": {},
   "source": [
    "## Q11. A random sample of 30 people was selected from a population with an unknown mean and standard deviation. The sample mean was found to be 72 and the sample standard deviation was found to be 10. Conduct a hypothesis test to determine if the population mean is significantly different from 70. Use a significance level of 0.05."
   ]
  },
  {
   "cell_type": "code",
   "execution_count": 25,
   "id": "950141a7-9b28-43d6-bae5-65b63262f104",
   "metadata": {},
   "outputs": [
    {
     "name": "stdout",
     "output_type": "stream",
     "text": [
      "Fail to reject the null hypothesis. There is no significant difference in the population mean.\n",
      "T-statistic: 1.0954451150103321\n",
      "Critical t-value: 2.045229642132703\n",
      "P-value: 0.2823362372860698\n"
     ]
    }
   ],
   "source": [
    "import numpy as np\n",
    "from scipy.stats import t\n",
    "\n",
    "# Given data\n",
    "sample_mean = 72\n",
    "hypothesized_mean = 70\n",
    "sample_std = 10\n",
    "sample_size = 30\n",
    "alpha = 0.05\n",
    "\n",
    "# Calculate the t-statistic\n",
    "t_statistic = (sample_mean - hypothesized_mean) / (sample_std / (sample_size ** 0.5))\n",
    "\n",
    "# Calculate degrees of freedom\n",
    "df = sample_size - 1\n",
    "\n",
    "# Calculate the critical t-value for a two-tailed test at alpha/2\n",
    "critical_t_value = t.ppf(1 - alpha / 2, df)\n",
    "\n",
    "# Calculate the p-value\n",
    "p_value = 2 * (1 - t.cdf(abs(t_statistic), df))\n",
    "\n",
    "# Determine whether to reject the null hypothesis\n",
    "if abs(t_statistic) > critical_t_value or p_value < alpha:\n",
    "    result = \"Reject the null hypothesis. The population mean is significantly different from 70.\"\n",
    "else:\n",
    "    result = \"Fail to reject the null hypothesis. There is no significant difference in the population mean.\"\n",
    "\n",
    "# Print the results\n",
    "print(result)\n",
    "print(\"T-statistic:\", t_statistic)\n",
    "print(\"Critical t-value:\", critical_t_value)\n",
    "print(\"P-value:\", p_value)\n"
   ]
  },
  {
   "cell_type": "code",
   "execution_count": null,
   "id": "faa5f247-cfd5-4c65-b31d-c07845b20b59",
   "metadata": {},
   "outputs": [],
   "source": []
  }
 ],
 "metadata": {
  "kernelspec": {
   "display_name": "Python 3 (ipykernel)",
   "language": "python",
   "name": "python3"
  },
  "language_info": {
   "codemirror_mode": {
    "name": "ipython",
    "version": 3
   },
   "file_extension": ".py",
   "mimetype": "text/x-python",
   "name": "python",
   "nbconvert_exporter": "python",
   "pygments_lexer": "ipython3",
   "version": "3.10.6"
  }
 },
 "nbformat": 4,
 "nbformat_minor": 5
}
