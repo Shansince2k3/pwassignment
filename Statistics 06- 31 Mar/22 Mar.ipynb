{
 "cells": [
  {
   "cell_type": "markdown",
   "id": "45180c1d-f5ce-4cd1-a6ce-1f53137f8ce6",
   "metadata": {},
   "source": [
    "##  Q1. Pearson correlation coefficient is a measure of the linear relationship between two variables. Suppose you have collected data on the amount of time students spend studying for an exam and their final exam scores. Calculate the Pearson correlation coefficient between these two variables and interpret the result."
   ]
  },
  {
   "cell_type": "markdown",
   "id": "bb4e10e8-7974-400f-8869-e24e3cbf65d1",
   "metadata": {},
   "source": [
    "## Ans\n",
    "-------- \n",
    "\n",
    "The Pearson correlation coefficient, often denoted as \"r,\" measures the strength and direction of the linear relationship between two continuous variables. It ranges from -1 to 1, where:\n",
    "\n",
    "- r = 1 indicates a perfect positive linear relationship.\n",
    "- r = -1 indicates a perfect negative linear relationship.\n",
    "- r ≈ 0 indicates little to no linear relationship.\n",
    "\n",
    "To calculate the Pearson correlation coefficient between the amount of time students spend studying for an exam and their final exam scores, you can use Python and the `numpy` library. Here's how you can do it and interpret the result:\n",
    "\n",
    "Interpretation:\n",
    "- The Pearson correlation coefficient is approximately 0.846, which is close to 1.\n",
    "- This indicates a strong positive linear relationship between the amount of time students spend studying for the exam and their final exam scores.\n",
    "- In other words, as students increase the amount of time they spend studying, their exam scores tend to increase."
   ]
  },
  {
   "cell_type": "code",
   "execution_count": 10,
   "id": "7b5b997e-d9fb-4ccc-b41b-2660bee7d011",
   "metadata": {},
   "outputs": [
    {
     "name": "stdout",
     "output_type": "stream",
     "text": [
      "Pearson Correlation Coefficient: 0.9903596113910779\n",
      "Interpretat There is a positive linear relationship between study time and exam scores.\n"
     ]
    }
   ],
   "source": [
    "import numpy as np\n",
    "import pandas as pd\n",
    "# Sample data (replace with your dataset)\n",
    "study_time = [2, 4, 3, 5, 6, 4, 7, 8, 5, 3]  # Amount of time spent studying (continuous)\n",
    "exam_scores = [60, 70, 65, 75, 80, 72, 85, 90, 78, 68]  # Final exam scores (continuous)\n",
    "\n",
    "# Calculate the Pearson correlation coefficient\n",
    "correlation_coefficient = np.corrcoef(study_time, exam_scores)[0, 1]\n",
    "# cor = df.corr()[0,1]\n",
    "\n",
    "# Interpretation:\n",
    "if correlation_coefficient > 0:\n",
    "    interpretation = \"There is a positive linear relationship between study time and exam scores.\"\n",
    "elif correlation_coefficient < 0:\n",
    "    interpretation = \"There is a negative linear relationship between study time and exam scores.\"\n",
    "else:\n",
    "    interpretation = \"There is little to no linear relationship between study time and exam scores.\"\n",
    "\n",
    "print(\"Pearson Correlation Coefficient:\", correlation_coefficient)\n",
    "print(\"Interpretat\",interpretation)"
   ]
  },
  {
   "cell_type": "code",
   "execution_count": 11,
   "id": "f6e4275e-c1f6-42f6-ab1c-1e83b80ef453",
   "metadata": {},
   "outputs": [
    {
     "data": {
      "text/plain": [
       "<AxesSubplot: title={'center': 'Time studied vs Score'}, xlabel='study_time', ylabel='exam_scores'>"
      ]
     },
     "execution_count": 11,
     "metadata": {},
     "output_type": "execute_result"
    },
    {
     "data": {
      "image/png": "[encoded data removed]",
      "text/plain": [
       "<Figure size 640x480 with 1 Axes>"
      ]
     },
     "metadata": {},
     "output_type": "display_data"
    }
   ],
   "source": [
    "df.plot(kind='scatter',x='study_time',y='exam_scores',title = 'Time studied vs Score',alpha=0.6)"
   ]
  },
  {
   "cell_type": "markdown",
   "id": "78194be8-71b0-4654-8fd3-7fffbaee0124",
   "metadata": {},
   "source": [
    "## Q2. Spearman's rank correlation is a measure of the monotonic relationship between two variables. Suppose you have collected data on the amount of sleep individuals get each night and their overall job satisfaction level on a scale of 1 to 10. Calculate the Spearman's rank correlation between these two variables and interpret the result."
   ]
  },
  {
   "cell_type": "markdown",
   "id": "d16b3eff-f97d-49ce-a43e-c6e01e885161",
   "metadata": {},
   "source": [
    "## Ans\n",
    "-----------"
   ]
  },
  {
   "cell_type": "markdown",
   "id": "5e7c0ee9-11ec-4116-8cac-76fc73aeabe8",
   "metadata": {},
   "source": [
    "Spearman's rank correlation coefficient, often denoted as \"ρ\" (rho), measures the strength and direction of the monotonic relationship between two variables. Unlike the Pearson correlation coefficient, Spearman's correlation is appropriate for both continuous and ordinal data and does not assume linearity. It's calculated based on the ranked values of the variables.\n",
    "\n",
    "Here's how you can calculate Spearman's rank correlation coefficient between the amount of sleep individuals get each night and their overall job satisfaction level:\n",
    "\n",
    "Spearman's Rank Correlation Coefficient (ρ): 0.5454545454545454\n",
    "Interpretation: There is a positive monotonic relationship between sleep hours and job satisfaction.\n",
    "```\n",
    "\n",
    "Interpretation:\n",
    "- The Spearman's rank correlation coefficient (ρ) is approximately 0.545, which is greater than 0.\n",
    "- This indicates a positive monotonic relationship between the amount of sleep individuals get each night and their overall job satisfaction level.\n",
    "- In simpler terms, as the amount of sleep increases, job satisfaction tends to increase as well, or as the amount of sleep decreases, job satisfaction tends to decrease.\n",
    "\n",
    "Spearman's rank correlation is suitable when dealing with ordinal data or when you want to assess monotonic relationships that may not be linear."
   ]
  },
  {
   "cell_type": "code",
   "execution_count": 6,
   "id": "8b826b4f-167c-42e4-a9f5-e25a29a85f78",
   "metadata": {},
   "outputs": [
    {
     "name": "stdout",
     "output_type": "stream",
     "text": [
      "Spearman's Rank Correlation Coefficient (ρ): 0.912266047778496\n",
      "Interpretation: There is a positive monotonic relationship between sleep hours and job satisfaction.\n"
     ]
    }
   ],
   "source": [
    "import scipy.stats as stats\n",
    "\n",
    "# Sample data (replace with your dataset)\n",
    "sleep_hours = [7, 6, 8, 5, 6, 7, 9, 5, 8, 7]  # Amount of sleep (continuous)\n",
    "job_satisfaction = [5, 4, 7, 3, 6, 5, 8, 3, 7, 6]  # Job satisfaction level (ordinal)\n",
    "\n",
    "# Calculate Spearman's rank correlation coefficient\n",
    "rho, _ = stats.spearmanr(sleep_hours, job_satisfaction)\n",
    "\n",
    "# Interpretation:\n",
    "if rho > 0:\n",
    "    interpretation = \"There is a positive monotonic relationship between sleep hours and job satisfaction.\"\n",
    "elif rho < 0:\n",
    "    interpretation = \"There is a negative monotonic relationship between sleep hours and job satisfaction.\"\n",
    "else:\n",
    "    interpretation = \"There is little to no monotonic relationship between sleep hours and job satisfaction.\"\n",
    "\n",
    "print(\"Spearman's Rank Correlation Coefficient (ρ):\", rho)\n",
    "print(\"Interpretation:\", interpretation)"
   ]
  },
  {
   "cell_type": "markdown",
   "id": "f34a9fb0-8d43-41f9-9b8c-875db8796904",
   "metadata": {},
   "source": [
    "## Q3. Suppose you are conducting a study to examine the relationship between the number of hours of exercise per week and body mass index (BMI) in a sample of adults. You collected data on both variables for 50 participants. Calculate the Pearson correlation coefficient and the Spearman's rank correlation between these two variables and compare the results."
   ]
  },
  {
   "cell_type": "code",
   "execution_count": 13,
   "id": "0f434677-b714-4242-9d86-3924d1286583",
   "metadata": {},
   "outputs": [],
   "source": [
    "import numpy as np\n",
    "\n",
    "#generate random data\n",
    "num_of_hours = np.random.normal(5, 2, 50) \n",
    "#50 random numbers of normal distribution with mean 5 and standard deviation 2\n",
    "\n",
    "bmi = np.random.normal(25, 5, 50)\n",
    "#50 random numbers of normal distribution with mean 25 and standard deviation 5\n",
    "\n",
    "df = pd.DataFrame({\n",
    "    'num_of_hours': num_of_hours,\n",
    "    'bmi': bmi\n",
    "})"
   ]
  },
  {
   "cell_type": "code",
   "execution_count": 23,
   "id": "acc28117-9272-4779-8d86-4cc87edffbf1",
   "metadata": {},
   "outputs": [
    {
     "data": {
      "text/html": [
       "<div>\n",
       "<style scoped>\n",
       "    .dataframe tbody tr th:only-of-type {\n",
       "        vertical-align: middle;\n",
       "    }\n",
       "\n",
       "    .dataframe tbody tr th {\n",
       "        vertical-align: top;\n",
       "    }\n",
       "\n",
       "    .dataframe thead th {\n",
       "        text-align: right;\n",
       "    }\n",
       "</style>\n",
       "<table border=\"1\" class=\"dataframe\">\n",
       "  <thead>\n",
       "    <tr style=\"text-align: right;\">\n",
       "      <th></th>\n",
       "      <th>num_of_hours</th>\n",
       "      <th>bmi</th>\n",
       "    </tr>\n",
       "  </thead>\n",
       "  <tbody>\n",
       "    <tr>\n",
       "      <th>num_of_hours</th>\n",
       "      <td>1.000000</td>\n",
       "      <td>0.203265</td>\n",
       "    </tr>\n",
       "    <tr>\n",
       "      <th>bmi</th>\n",
       "      <td>0.203265</td>\n",
       "      <td>1.000000</td>\n",
       "    </tr>\n",
       "  </tbody>\n",
       "</table>\n",
       "</div>"
      ],
      "text/plain": [
       "              num_of_hours       bmi\n",
       "num_of_hours      1.000000  0.203265\n",
       "bmi               0.203265  1.000000"
      ]
     },
     "execution_count": 23,
     "metadata": {},
     "output_type": "execute_result"
    }
   ],
   "source": [
    "pearson_corr = df.corr(method='pearson')\n",
    "spearman_corr = df.corr(method='spearman')\n",
    "spearman_corr"
   ]
  },
  {
   "cell_type": "code",
   "execution_count": 24,
   "id": "3a9a490c-9004-4064-b360-f2716ca4cfb5",
   "metadata": {},
   "outputs": [
    {
     "data": {
      "text/html": [
       "<div>\n",
       "<style scoped>\n",
       "    .dataframe tbody tr th:only-of-type {\n",
       "        vertical-align: middle;\n",
       "    }\n",
       "\n",
       "    .dataframe tbody tr th {\n",
       "        vertical-align: top;\n",
       "    }\n",
       "\n",
       "    .dataframe thead th {\n",
       "        text-align: right;\n",
       "    }\n",
       "</style>\n",
       "<table border=\"1\" class=\"dataframe\">\n",
       "  <thead>\n",
       "    <tr style=\"text-align: right;\">\n",
       "      <th></th>\n",
       "      <th>num_of_hours</th>\n",
       "      <th>bmi</th>\n",
       "    </tr>\n",
       "  </thead>\n",
       "  <tbody>\n",
       "    <tr>\n",
       "      <th>num_of_hours</th>\n",
       "      <td>1.000000</td>\n",
       "      <td>0.125279</td>\n",
       "    </tr>\n",
       "    <tr>\n",
       "      <th>bmi</th>\n",
       "      <td>0.125279</td>\n",
       "      <td>1.000000</td>\n",
       "    </tr>\n",
       "  </tbody>\n",
       "</table>\n",
       "</div>"
      ],
      "text/plain": [
       "              num_of_hours       bmi\n",
       "num_of_hours      1.000000  0.125279\n",
       "bmi               0.125279  1.000000"
      ]
     },
     "execution_count": 24,
     "metadata": {},
     "output_type": "execute_result"
    }
   ],
   "source": [
    "pearson_corr"
   ]
  },
  {
   "cell_type": "code",
   "execution_count": 26,
   "id": "a9e3e2ac-fed2-4959-9eba-744f6fddc3df",
   "metadata": {},
   "outputs": [
    {
     "data": {
      "text/plain": [
       "<AxesSubplot: title={'center': 'BMI vs Exercise Hours'}, xlabel='num_of_hours', ylabel='bmi'>"
      ]
     },
     "execution_count": 26,
     "metadata": {},
     "output_type": "execute_result"
    },
    {
     "data": {
      "image/png": "[encoded data removed]",
      "text/plain": [
       "<Figure size 640x480 with 1 Axes>"
      ]
     },
     "metadata": {},
     "output_type": "display_data"
    }
   ],
   "source": [
    "df.plot(kind='scatter',x='num_of_hours',y='bmi',title='BMI vs Exercise Hours')"
   ]
  },
  {
   "cell_type": "code",
   "execution_count": 29,
   "id": "70c3b082-10df-43d1-8a1f-5931ce60d1d7",
   "metadata": {},
   "outputs": [
    {
     "data": {
      "text/plain": [
       "<AxesSubplot: xlabel='num_of_hours', ylabel='bmi'>"
      ]
     },
     "execution_count": 29,
     "metadata": {},
     "output_type": "execute_result"
    },
    {
     "data": {
      "image/png": "[encoded data removed]",
      "text/plain": [
       "<Figure size 640x480 with 1 Axes>"
      ]
     },
     "metadata": {},
     "output_type": "display_data"
    }
   ],
   "source": [
    "import seaborn as sns\n",
    "sns.regplot(data=df,x='num_of_hours',y='bmi',line_kws={\"color\": \"red\"},ci=95)"
   ]
  },
  {
   "cell_type": "markdown",
   "id": "0012402e-4d4d-468f-bea3-ca0c612b08e0",
   "metadata": {},
   "source": [
    "## **Pearson Correlation**:\n",
    "- Measures the strength and direction of a linear relationship between two continuous variables.\n",
    "- Assumes the data follows a normal distribution.\n",
    "- Ranges from -1 (perfect negative correlation) to 1 (perfect positive correlation), with 0 indicating no linear correlation.\n",
    "- Example: Studying the relationship between exercise hours and BMI in adults when you expect a consistent linear trend.\n",
    "\n",
    "## **Spearman's Rank Correlation**:\n",
    "- Measures the strength and direction of a monotonic relationship between two variables.\n",
    "- Monotonic relationships involve variables moving in the same relative direction but not necessarily at a constant rate.\n",
    "- Ranges from -1 (perfect negative correlation) to 1 (perfect positive correlation), with 0 indicating no monotonic correlation.\n",
    "- Example: Assessing the relationship between the ranks of students in different subjects to determine if students who rank higher in one subject tend to rank higher in another."
   ]
  },
  {
   "cell_type": "markdown",
   "id": "169d5634-e0a8-40b8-b471-bf753652ad0d",
   "metadata": {},
   "source": [
    "## Q4. A researcher is interested in examining the relationship between the number of hours individuals spend watching television per day and their level of physical activity. The researcher collected data on both variables from a sample of 50 participants. Calculate the Pearson correlation coefficient between these two variables."
   ]
  },
  {
   "cell_type": "code",
   "execution_count": 30,
   "id": "40537945-96de-48bc-b574-c40ccc97ed4f",
   "metadata": {},
   "outputs": [
    {
     "name": "stdout",
     "output_type": "stream",
     "text": [
      "   tv_hours  physical_activity\n",
      "0  1.914369           6.541393\n",
      "1  3.997345           2.713702\n",
      "2  3.282978           6.312734\n",
      "3  1.493705           9.244079\n",
      "4  2.421400           6.224447\n",
      "\n",
      "===========================================================\n",
      "\n",
      "Pearson correlation coefficient: -0.5795118368116692\n",
      "p-value: 1.0347687880405448e-05\n"
     ]
    }
   ],
   "source": [
    "import numpy as np\n",
    "import pandas as pd\n",
    "from scipy.stats import pearsonr\n",
    "\n",
    "# Set the random seed for reproducibility\n",
    "np.random.seed(123)\n",
    "\n",
    "# Generate synthetic data for hours of TV watching and physical activity\n",
    "tv_hours = np.random.normal(3, 1, 50)\n",
    "physical_activity = 15/tv_hours + np.random.normal(0,1,50)\n",
    "\n",
    "# Showing Dataframe\n",
    "df = pd.DataFrame({'tv_hours':tv_hours,'physical_activity':physical_activity})\n",
    "print(df.head())\n",
    "\n",
    "print('\\n===========================================================\\n')\n",
    "\n",
    "# Compute the Pearson correlation coefficient and p-value\n",
    "corr, pval = pearsonr(tv_hours, physical_activity)\n",
    "\n",
    "# Print the results\n",
    "print(\"Pearson correlation coefficient:\", corr)\n",
    "print(\"p-value:\", pval)"
   ]
  },
  {
   "cell_type": "code",
   "execution_count": 32,
   "id": "353fd714-ff72-46b5-9f91-13444b74f924",
   "metadata": {},
   "outputs": [
    {
     "data": {
      "text/plain": [
       "<AxesSubplot: xlabel='tv_hours', ylabel='physical_activity'>"
      ]
     },
     "execution_count": 32,
     "metadata": {},
     "output_type": "execute_result"
    },
    {
     "data": {
      "image/png": "[encoded data removed]",
      "text/plain": [
       "<Figure size 640x480 with 1 Axes>"
      ]
     },
     "metadata": {},
     "output_type": "display_data"
    }
   ],
   "source": [
    "import seaborn as sns\n",
    "sns.regplot(data=df,x='tv_hours',y='physical_activity',line_kws={'color':'red'},ci=95)"
   ]
  },
  {
   "cell_type": "markdown",
   "id": "57c73633-e8ab-4722-9185-27c418919d49",
   "metadata": {},
   "source": [
    "## Q5. A survey was conducted to examine the relationship between age and preference for a particular brand of soft drink. The survey results are shown below:"
   ]
  },
  {
   "attachments": {
    "52c14744-0fe9-4172-87bd-a8b9578c30a7.png": {
     "image/png": "[encoded data removed]"
    }
   },
   "cell_type": "markdown",
   "id": "4552590f-b02c-49d5-89af-bc1e4420ec5f",
   "metadata": {},
   "source": [
    "![Screenshot 2023-10-27 235455.png](attachment:52c14744-0fe9-4172-87bd-a8b9578c30a7.png)"
   ]
  },
  {
   "cell_type": "code",
   "execution_count": 39,
   "id": "510445d6-817d-47da-bba5-77f27c99fed9",
   "metadata": {},
   "outputs": [
    {
     "data": {
      "text/html": [
       "<div>\n",
       "<style scoped>\n",
       "    .dataframe tbody tr th:only-of-type {\n",
       "        vertical-align: middle;\n",
       "    }\n",
       "\n",
       "    .dataframe tbody tr th {\n",
       "        vertical-align: top;\n",
       "    }\n",
       "\n",
       "    .dataframe thead th {\n",
       "        text-align: right;\n",
       "    }\n",
       "</style>\n",
       "<table border=\"1\" class=\"dataframe\">\n",
       "  <thead>\n",
       "    <tr style=\"text-align: right;\">\n",
       "      <th></th>\n",
       "      <th>Age(Years)</th>\n",
       "      <th>Soft Drink Preference Enc</th>\n",
       "    </tr>\n",
       "  </thead>\n",
       "  <tbody>\n",
       "    <tr>\n",
       "      <th>Age(Years)</th>\n",
       "      <td>1.000000</td>\n",
       "      <td>0.769175</td>\n",
       "    </tr>\n",
       "    <tr>\n",
       "      <th>Soft Drink Preference Enc</th>\n",
       "      <td>0.769175</td>\n",
       "      <td>1.000000</td>\n",
       "    </tr>\n",
       "  </tbody>\n",
       "</table>\n",
       "</div>"
      ],
      "text/plain": [
       "                           Age(Years)  Soft Drink Preference Enc\n",
       "Age(Years)                   1.000000                   0.769175\n",
       "Soft Drink Preference Enc    0.769175                   1.000000"
      ]
     },
     "execution_count": 39,
     "metadata": {},
     "output_type": "execute_result"
    }
   ],
   "source": [
    "df = pd.DataFrame({\n",
    "    \"Age(Years)\": [25, 42, 37, 19, 31, 28],\n",
    "    \"Soft Drink Preference\": ['Coke', 'Pepsi', 'Mountain Dew', 'Coke', 'Pepsi', 'Coke']\n",
    "})\n",
    "\n",
    "from sklearn.preprocessing import LabelEncoder\n",
    "\n",
    "encoder = LabelEncoder()\n",
    "encoded_col = encoder.fit_transform(df['Soft Drink Preference'])\n",
    "df_encoded = pd.DataFrame(encoded_col, columns=['Soft Drink Preference Enc'])\n",
    "df_new = pd.concat([df, df_encoded], axis=1)\n",
    "df_new = df_new.drop('Soft Drink Preference', axis=1)\n",
    "df_new.corr(method='pearson')"
   ]
  },
  {
   "cell_type": "code",
   "execution_count": 38,
   "id": "55593695-1b4b-45cc-a4a6-5d77f4ff70f5",
   "metadata": {},
   "outputs": [
    {
     "data": {
      "text/html": [
       "<div>\n",
       "<style scoped>\n",
       "    .dataframe tbody tr th:only-of-type {\n",
       "        vertical-align: middle;\n",
       "    }\n",
       "\n",
       "    .dataframe tbody tr th {\n",
       "        vertical-align: top;\n",
       "    }\n",
       "\n",
       "    .dataframe thead th {\n",
       "        text-align: right;\n",
       "    }\n",
       "</style>\n",
       "<table border=\"1\" class=\"dataframe\">\n",
       "  <thead>\n",
       "    <tr style=\"text-align: right;\">\n",
       "      <th></th>\n",
       "      <th>Age(Years)</th>\n",
       "      <th>Soft Drink Preference Enc</th>\n",
       "    </tr>\n",
       "  </thead>\n",
       "  <tbody>\n",
       "    <tr>\n",
       "      <th>0</th>\n",
       "      <td>25</td>\n",
       "      <td>0</td>\n",
       "    </tr>\n",
       "    <tr>\n",
       "      <th>1</th>\n",
       "      <td>42</td>\n",
       "      <td>2</td>\n",
       "    </tr>\n",
       "    <tr>\n",
       "      <th>2</th>\n",
       "      <td>37</td>\n",
       "      <td>1</td>\n",
       "    </tr>\n",
       "    <tr>\n",
       "      <th>3</th>\n",
       "      <td>19</td>\n",
       "      <td>0</td>\n",
       "    </tr>\n",
       "    <tr>\n",
       "      <th>4</th>\n",
       "      <td>31</td>\n",
       "      <td>2</td>\n",
       "    </tr>\n",
       "    <tr>\n",
       "      <th>5</th>\n",
       "      <td>28</td>\n",
       "      <td>0</td>\n",
       "    </tr>\n",
       "  </tbody>\n",
       "</table>\n",
       "</div>"
      ],
      "text/plain": [
       "   Age(Years)  Soft Drink Preference Enc\n",
       "0          25                          0\n",
       "1          42                          2\n",
       "2          37                          1\n",
       "3          19                          0\n",
       "4          31                          2\n",
       "5          28                          0"
      ]
     },
     "execution_count": 38,
     "metadata": {},
     "output_type": "execute_result"
    }
   ],
   "source": [
    "df_new"
   ]
  },
  {
   "cell_type": "code",
   "execution_count": 40,
   "id": "6848b550-bed2-4bd2-a172-4c358be846c2",
   "metadata": {},
   "outputs": [
    {
     "data": {
      "text/html": [
       "<div>\n",
       "<style scoped>\n",
       "    .dataframe tbody tr th:only-of-type {\n",
       "        vertical-align: middle;\n",
       "    }\n",
       "\n",
       "    .dataframe tbody tr th {\n",
       "        vertical-align: top;\n",
       "    }\n",
       "\n",
       "    .dataframe thead th {\n",
       "        text-align: right;\n",
       "    }\n",
       "</style>\n",
       "<table border=\"1\" class=\"dataframe\">\n",
       "  <thead>\n",
       "    <tr style=\"text-align: right;\">\n",
       "      <th></th>\n",
       "      <th>Age(Years)</th>\n",
       "      <th>Soft Drink Preference</th>\n",
       "    </tr>\n",
       "  </thead>\n",
       "  <tbody>\n",
       "    <tr>\n",
       "      <th>0</th>\n",
       "      <td>25</td>\n",
       "      <td>Coke</td>\n",
       "    </tr>\n",
       "    <tr>\n",
       "      <th>1</th>\n",
       "      <td>42</td>\n",
       "      <td>Pepsi</td>\n",
       "    </tr>\n",
       "    <tr>\n",
       "      <th>2</th>\n",
       "      <td>37</td>\n",
       "      <td>Mountain Dew</td>\n",
       "    </tr>\n",
       "    <tr>\n",
       "      <th>3</th>\n",
       "      <td>19</td>\n",
       "      <td>Coke</td>\n",
       "    </tr>\n",
       "    <tr>\n",
       "      <th>4</th>\n",
       "      <td>31</td>\n",
       "      <td>Pepsi</td>\n",
       "    </tr>\n",
       "    <tr>\n",
       "      <th>5</th>\n",
       "      <td>28</td>\n",
       "      <td>Coke</td>\n",
       "    </tr>\n",
       "  </tbody>\n",
       "</table>\n",
       "</div>"
      ],
      "text/plain": [
       "   Age(Years) Soft Drink Preference\n",
       "0          25                  Coke\n",
       "1          42                 Pepsi\n",
       "2          37          Mountain Dew\n",
       "3          19                  Coke\n",
       "4          31                 Pepsi\n",
       "5          28                  Coke"
      ]
     },
     "execution_count": 40,
     "metadata": {},
     "output_type": "execute_result"
    }
   ],
   "source": [
    "df"
   ]
  },
  {
   "cell_type": "markdown",
   "id": "6429b5a4-32ae-4b00-866e-313c29bedc55",
   "metadata": {},
   "source": [
    "## Q6. A company is interested in examining the relationship between the number of sales calls made per day and the number of sales made per week. The company collected data on both variables from a sample of 30 sales representatives. Calculate the Pearson correlation coefficient between these two variables."
   ]
  },
  {
   "cell_type": "code",
   "execution_count": null,
   "id": "ea57ae30-c66e-4c9f-a933-5cdb6fe3177a",
   "metadata": {},
   "outputs": [],
   "source": []
  }
 ],
 "metadata": {
  "kernelspec": {
   "display_name": "Python 3 (ipykernel)",
   "language": "python",
   "name": "python3"
  },
  "language_info": {
   "codemirror_mode": {
    "name": "ipython",
    "version": 3
   },
   "file_extension": ".py",
   "mimetype": "text/x-python",
   "name": "python",
   "nbconvert_exporter": "python",
   "pygments_lexer": "ipython3",
   "version": "3.10.6"
  }
 },
 "nbformat": 4,
 "nbformat_minor": 5
}
