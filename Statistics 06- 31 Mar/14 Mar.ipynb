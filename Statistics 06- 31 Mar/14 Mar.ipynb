{
 "cells": [
  {
   "cell_type": "markdown",
   "id": "fe9100ab-fe89-4e46-86db-03aea24a714a",
   "metadata": {},
   "source": [
    "## Q1. Write a Python function that takes in two arrays of data and calculates the F-value for a variance ratio test. The function should return the F-value and the corresponding p-value for the test."
   ]
  },
  {
   "cell_type": "markdown",
   "id": "d870bea7-19e4-4aa0-98b7-771d38d19bdc",
   "metadata": {},
   "source": [
    "## Ans\n",
    "-----"
   ]
  },
  {
   "cell_type": "code",
   "execution_count": 1,
   "id": "f52d8738-e557-40a3-9d8d-1dea585a8530",
   "metadata": {},
   "outputs": [
    {
     "name": "stdout",
     "output_type": "stream",
     "text": [
      "F-value: 1.5482456140350875\n",
      "P-value: 0.34112994460959056\n"
     ]
    }
   ],
   "source": [
    "import numpy as np\n",
    "from scipy.stats import f\n",
    "\n",
    "def variance_ratio_test(data1, data2):\n",
    "    # Calculate the variances of the two datasets\n",
    "    var1 = np.var(data1, ddof=1)  # ddof=1 for sample variance\n",
    "    var2 = np.var(data2, ddof=1)\n",
    "\n",
    "    # Ensure var1 >= var2 to avoid negative F-value\n",
    "    if var1 < var2:\n",
    "        var1, var2 = var2, var1  # Swap var1 and var2\n",
    "\n",
    "    # Calculate the F-value\n",
    "    F = var1 / var2\n",
    "\n",
    "    # Calculate the degrees of freedom\n",
    "    df1 = len(data1) - 1\n",
    "    df2 = len(data2) - 1\n",
    "\n",
    "    # Calculate the p-value\n",
    "    p_value = 1 - f.cdf(F, df1, df2)\n",
    "\n",
    "    return F, p_value\n",
    "\n",
    "# Example usage:\n",
    "data1 = [15, 18, 20, 25, 30]\n",
    "data2 = [10, 12, 15, 18, 22]\n",
    "\n",
    "F, p_value = variance_ratio_test(data1, data2)\n",
    "print(f\"F-value: {F}\")\n",
    "print(f\"P-value: {p_value}\")"
   ]
  },
  {
   "cell_type": "markdown",
   "id": "50acccb2-e74a-4ac5-ab20-0f803a15fbf7",
   "metadata": {},
   "source": [
    "## Q2. Given a significance level of 0.05 and the degrees of freedom for the numerator and denominator of an F-distribution, write a Python function that returns the critical F-value for a two-tailed test."
   ]
  },
  {
   "cell_type": "markdown",
   "id": "a6e80333-46b9-4a00-8a32-8473a01322e0",
   "metadata": {},
   "source": [
    "## Ans\n",
    "------"
   ]
  },
  {
   "cell_type": "code",
   "execution_count": 2,
   "id": "57e4f4db-6ba9-4c8d-9086-226da55a0530",
   "metadata": {},
   "outputs": [
    {
     "name": "stdout",
     "output_type": "stream",
     "text": [
      "Critical F-value: 4.825621493405406\n"
     ]
    }
   ],
   "source": [
    "from scipy.stats import f\n",
    "\n",
    "def critical_f_value(alpha, df1, df2):\n",
    "    # Calculate the critical F-value for a two-tailed test\n",
    "    f_critical = f.ppf(1 - alpha / 2, df1, df2)\n",
    "    \n",
    "    return f_critical\n",
    "\n",
    "# Example usage:\n",
    "alpha = 0.05\n",
    "df1 = 3  # Degrees of freedom for the numerator\n",
    "df2 = 10  # Degrees of freedom for the denominator\n",
    "\n",
    "critical_f = critical_f_value(alpha, df1, df2)\n",
    "print(f\"Critical F-value: {critical_f}\")"
   ]
  },
  {
   "cell_type": "markdown",
   "id": "4b184267-9b91-4036-b694-002a575645dc",
   "metadata": {},
   "source": [
    "## Q3. Write a Python program that generates random samples from two normal distributions with known variances and uses an F-test to determine if the variances are equal. The program should output the F- value, degrees of freedom, and p-value for the test."
   ]
  },
  {
   "cell_type": "markdown",
   "id": "8a4e5d1d-9444-4753-9287-145ef87fa6d7",
   "metadata": {},
   "source": [
    "## Ans\n",
    "-------"
   ]
  },
  {
   "cell_type": "code",
   "execution_count": 3,
   "id": "7992c3e4-0918-4628-9f8f-2b25e0579ea7",
   "metadata": {},
   "outputs": [
    {
     "name": "stdout",
     "output_type": "stream",
     "text": [
      "F-value: 0.7848185885960284\n",
      "Degrees of freedom (numerator): 29\n",
      "Degrees of freedom (denominator): 39\n",
      "P-value: 1.498176647616317\n",
      "Fail to reject the null hypothesis: Variances are equal.\n"
     ]
    }
   ],
   "source": [
    "import numpy as np\n",
    "from scipy.stats import f\n",
    "\n",
    "# Set the random seed for reproducibility\n",
    "np.random.seed(42)\n",
    "\n",
    "# Parameters\n",
    "sample_size1 = 30\n",
    "sample_size2 = 40\n",
    "variance1 = 4.0\n",
    "variance2 = 5.0\n",
    "alpha = 0.05  # Significance level\n",
    "\n",
    "# Generate random samples from two normal distributions\n",
    "data1 = np.random.normal(0, np.sqrt(variance1), sample_size1)\n",
    "data2 = np.random.normal(0, np.sqrt(variance2), sample_size2)\n",
    "\n",
    "# Perform the F-test\n",
    "F = np.var(data1, ddof=1) / np.var(data2, ddof=1)  # Calculate the F-value\n",
    "df1 = sample_size1 - 1\n",
    "df2 = sample_size2 - 1\n",
    "p_value = 2 * (1 - f.cdf(F, df1, df2))  # Calculate the two-tailed p-value\n",
    "\n",
    "# Output the results\n",
    "print(f\"F-value: {F}\")\n",
    "print(f\"Degrees of freedom (numerator): {df1}\")\n",
    "print(f\"Degrees of freedom (denominator): {df2}\")\n",
    "print(f\"P-value: {p_value}\")\n",
    "\n",
    "# Determine if the variances are equal based on the significance level\n",
    "if p_value < alpha:\n",
    "    print(\"Reject the null hypothesis: Variances are not equal.\")\n",
    "else:\n",
    "    print(\"Fail to reject the null hypothesis: Variances are equal.\")"
   ]
  },
  {
   "cell_type": "markdown",
   "id": "9982cef1-ec0c-40da-834b-cbb6768460bd",
   "metadata": {},
   "source": [
    "## Q4.The variances of two populations are known to be 10 and 15. A sample of 12 observations is taken from each population. Conduct an F-test at the 5% significance level to determine if the variances are significantly different."
   ]
  },
  {
   "cell_type": "markdown",
   "id": "ec0a3e27-b8f7-4216-a9b1-b6c04907f00f",
   "metadata": {},
   "source": [
    "## Ans\n",
    "-------"
   ]
  },
  {
   "cell_type": "code",
   "execution_count": 4,
   "id": "e4046866-b550-4369-82f7-94327f5e3c88",
   "metadata": {},
   "outputs": [
    {
     "name": "stdout",
     "output_type": "stream",
     "text": [
      "Fail to reject the null hypothesis: Variances are not significantly different.\n"
     ]
    }
   ],
   "source": [
    "import scipy.stats as stats\n",
    "\n",
    "# Given data\n",
    "variance1 = 10\n",
    "variance2 = 15\n",
    "sample_size1 = 12\n",
    "sample_size2 = 12\n",
    "alpha = 0.05\n",
    "\n",
    "# Calculate the F-statistic\n",
    "F_statistic = variance1 / variance2\n",
    "\n",
    "# Calculate degrees of freedom\n",
    "df1 = sample_size1 - 1\n",
    "df2 = sample_size2 - 1\n",
    "\n",
    "# Calculate the critical F-value\n",
    "critical_F = stats.f.ppf(1 - alpha / 2, df1, df2)\n",
    "\n",
    "# Perform the F-test\n",
    "if F_statistic > critical_F:\n",
    "    print(\"Reject the null hypothesis: Variances are significantly different.\")\n",
    "else:\n",
    "    print(\"Fail to reject the null hypothesis: Variances are not significantly different.\")\n"
   ]
  },
  {
   "cell_type": "markdown",
   "id": "a6d2b3d4-2a52-4b47-85b5-c70b0c04d1a0",
   "metadata": {},
   "source": [
    "## Q5. A manufacturer claims that the variance of the diameter of a certain product is 0.005. A sample of 25 products is taken, and the sample variance is found to be 0.006. Conduct an F-test at the 1% significance level to determine if the claim is justified."
   ]
  },
  {
   "cell_type": "code",
   "execution_count": 5,
   "id": "635a9389-dfd8-4398-b211-8ac671095ac5",
   "metadata": {},
   "outputs": [
    {
     "name": "stdout",
     "output_type": "stream",
     "text": [
      "Fail to reject the null hypothesis: The claim is justified.\n"
     ]
    }
   ],
   "source": [
    "import scipy.stats as stats\n",
    "\n",
    "# Given data\n",
    "claimed_variance = 0.005\n",
    "sample_size = 25\n",
    "sample_variance = 0.006\n",
    "alpha = 0.01\n",
    "\n",
    "# Calculate the F-statistic\n",
    "F_statistic = sample_variance / claimed_variance\n",
    "\n",
    "# Calculate degrees of freedom\n",
    "df1 = sample_size - 1\n",
    "\n",
    "# Calculate the critical F-value\n",
    "critical_F = stats.f.ppf(1 - alpha, df1, 1)  # df2=1 because we're comparing with a known population variance\n",
    "\n",
    "# Perform the F-test\n",
    "if F_statistic > critical_F:\n",
    "    print(\"Reject the null hypothesis: The claim is not justified.\")\n",
    "else:\n",
    "    print(\"Fail to reject the null hypothesis: The claim is justified.\")\n"
   ]
  },
  {
   "cell_type": "markdown",
   "id": "db401f9c-1405-4936-a21d-2c2b83c7ca7e",
   "metadata": {},
   "source": [
    "## Q6. Write a Python function that takes in the degrees of freedom for the numerator and denominator of an F-distribution and calculates the mean and variance of the distribution. The function should return the mean and variance as a tuple."
   ]
  },
  {
   "cell_type": "markdown",
   "id": "e7324537-6729-4a35-a748-efb9a2f24443",
   "metadata": {},
   "source": [
    "## Ans\n",
    "-------"
   ]
  },
  {
   "cell_type": "code",
   "execution_count": 6,
   "id": "a049e9f0-7599-48d1-908e-41dfe85d747a",
   "metadata": {},
   "outputs": [
    {
     "name": "stdout",
     "output_type": "stream",
     "text": [
      "Mean: 1.25\n",
      "Variance: 1.3541666666666667\n"
     ]
    }
   ],
   "source": [
    "def f_distribution_mean_variance(df1, df2):\n",
    "    if df2 <= 2 or df2 <= 4:\n",
    "        raise ValueError(\"The F-distribution mean and variance are undefined for the given degrees of freedom.\")\n",
    "\n",
    "    mean = df2 / (df2 - 2)\n",
    "    variance = (2 * (df2 ** 2) * (df1 + df2 - 2)) / (df1 * ((df2 - 2) ** 2) * (df2 - 4))\n",
    "    \n",
    "    return mean, variance\n",
    "\n",
    "# Example usage:\n",
    "df1 = 5  # Degrees of freedom for the numerator\n",
    "df2 = 10  # Degrees of freedom for the denominator\n",
    "\n",
    "mean, variance = f_distribution_mean_variance(df1, df2)\n",
    "print(f\"Mean: {mean}\")\n",
    "print(f\"Variance: {variance}\")\n"
   ]
  },
  {
   "cell_type": "markdown",
   "id": "a3f377fe-0545-485f-89fd-d9af8cf72030",
   "metadata": {},
   "source": [
    "## Q7. A random sample of 10 measurements is taken from a normal population with unknown variance. The sample variance is found to be 25. Another random sample of 15 measurements is taken from another normal population with unknown variance, and the sample variance is found to be 20. Conduct an F-test at the 10% significance level to determine if the variances are significantly different."
   ]
  },
  {
   "cell_type": "markdown",
   "id": "79638419-0bdd-491a-acec-559fb8ad4263",
   "metadata": {},
   "source": [
    "## Ans\n",
    "-----"
   ]
  },
  {
   "cell_type": "code",
   "execution_count": 7,
   "id": "fa1d6858-93d7-4ba8-8a5e-e3359f9120ce",
   "metadata": {},
   "outputs": [
    {
     "name": "stdout",
     "output_type": "stream",
     "text": [
      "Reject the null hypothesis: Variances are significantly different.\n"
     ]
    }
   ],
   "source": [
    "import scipy.stats as stats\n",
    "\n",
    "# Given data\n",
    "sample_size1 = 10\n",
    "sample_variance1 = 25\n",
    "sample_size2 = 15\n",
    "sample_variance2 = 20\n",
    "alpha = 0.10\n",
    "\n",
    "# Calculate the F-statistic\n",
    "F_statistic = sample_variance1 / sample_variance2\n",
    "\n",
    "# Calculate degrees of freedom\n",
    "df1 = sample_size1 - 1\n",
    "df2 = sample_size2 - 1\n",
    "\n",
    "# Calculate the critical F-value\n",
    "critical_F_lower = stats.f.ppf(alpha / 2, df1, df2)\n",
    "critical_F_upper = 1 / stats.f.ppf(1 - alpha / 2, df2, df1)\n",
    "\n",
    "# Perform the F-test\n",
    "if F_statistic < critical_F_lower or F_statistic > critical_F_upper:\n",
    "    print(\"Reject the null hypothesis: Variances are significantly different.\")\n",
    "else:\n",
    "    print(\"Fail to reject the null hypothesis: Variances are not significantly different.\")"
   ]
  },
  {
   "cell_type": "markdown",
   "id": "70a99a8a-6433-4c2b-851e-4e22e577f544",
   "metadata": {},
   "source": [
    "## Q8. The following data represent the waiting times in minutes at two different restaurants on a Saturday night: Restaurant A: 24, 25, 28, 23, 22, 20, 27; Restaurant B: 31, 33, 35, 30, 32, 36. Conduct an F-test at the 5% significance level to determine if the variances are significantly different."
   ]
  },
  {
   "cell_type": "markdown",
   "id": "a5417708-ec31-4c27-bb5b-c0623f00c16b",
   "metadata": {},
   "source": [
    "## Ans\n",
    "------ "
   ]
  },
  {
   "cell_type": "code",
   "execution_count": 8,
   "id": "2cd96cbb-9fc3-4f2b-9d2e-f111c623642e",
   "metadata": {},
   "outputs": [
    {
     "name": "stdout",
     "output_type": "stream",
     "text": [
      "Reject the null hypothesis: Variances are significantly different.\n"
     ]
    }
   ],
   "source": [
    "import numpy as np\n",
    "import scipy.stats as stats\n",
    "\n",
    "# Data\n",
    "waiting_times_A = np.array([24, 25, 28, 23, 22, 20, 27])\n",
    "waiting_times_B = np.array([31, 33, 35, 30, 32, 36])\n",
    "\n",
    "# Significance level\n",
    "alpha = 0.05\n",
    "\n",
    "# Calculate sample variances\n",
    "variance_A = np.var(waiting_times_A, ddof=1)\n",
    "variance_B = np.var(waiting_times_B, ddof=1)\n",
    "\n",
    "# Calculate the F-statistic\n",
    "F_statistic = variance_A / variance_B\n",
    "\n",
    "# Degrees of freedom\n",
    "df1 = len(waiting_times_A) - 1\n",
    "df2 = len(waiting_times_B) - 1\n",
    "\n",
    "# Calculate the critical F-value\n",
    "critical_F_lower = stats.f.ppf(alpha / 2, df1, df2)\n",
    "critical_F_upper = 1 / stats.f.ppf(1 - alpha / 2, df2, df1)\n",
    "\n",
    "# Perform the F-test\n",
    "if F_statistic < critical_F_lower or F_statistic > critical_F_upper:\n",
    "    print(\"Reject the null hypothesis: Variances are significantly different.\")\n",
    "else:\n",
    "    print(\"Fail to reject the null hypothesis: Variances are not significantly different.\")"
   ]
  },
  {
   "cell_type": "markdown",
   "id": "3f3a985b-7740-4e8c-a726-96c4d2c3d7a9",
   "metadata": {},
   "source": [
    "## Q9. The following data represent the test scores of two groups of students: Group A: 80, 85, 90, 92, 87, 83; Group B: 75, 78, 82, 79, 81, 84. Conduct an F-test at the 1% significance level to determine if the variances are significantly different."
   ]
  },
  {
   "cell_type": "markdown",
   "id": "455e4004-ad66-4c03-808d-40e7d63c73bc",
   "metadata": {},
   "source": [
    "## Ans\n",
    "------"
   ]
  },
  {
   "cell_type": "code",
   "execution_count": 9,
   "id": "c1a19c95-4ba7-48d1-9389-0818e5b935fd",
   "metadata": {},
   "outputs": [
    {
     "name": "stdout",
     "output_type": "stream",
     "text": [
      "Reject the null hypothesis: Variances are significantly different.\n"
     ]
    }
   ],
   "source": [
    "import numpy as np\n",
    "import scipy.stats as stats\n",
    "\n",
    "# Data\n",
    "group_A_scores = np.array([80, 85, 90, 92, 87, 83])\n",
    "group_B_scores = np.array([75, 78, 82, 79, 81, 84])\n",
    "\n",
    "# Significance level\n",
    "alpha = 0.01\n",
    "\n",
    "# Calculate sample variances\n",
    "variance_A = np.var(group_A_scores, ddof=1)\n",
    "variance_B = np.var(group_B_scores, ddof=1)\n",
    "\n",
    "# Calculate the F-statistic\n",
    "F_statistic = variance_A / variance_B\n",
    "\n",
    "# Degrees of freedom\n",
    "df1 = len(group_A_scores) - 1\n",
    "df2 = len(group_B_scores) - 1\n",
    "\n",
    "# Calculate the critical F-value\n",
    "critical_F_lower = stats.f.ppf(alpha / 2, df1, df2)\n",
    "critical_F_upper = 1 / stats.f.ppf(1 - alpha / 2, df2, df1)\n",
    "\n",
    "# Perform the F-test\n",
    "if F_statistic < critical_F_lower or F_statistic > critical_F_upper:\n",
    "    print(\"Reject the null hypothesis: Variances are significantly different.\")\n",
    "else:\n",
    "    print(\"Fail to reject the null hypothesis: Variances are not significantly different.\")"
   ]
  },
  {
   "cell_type": "code",
   "execution_count": null,
   "id": "3b325217-7609-4b01-9d9c-2e88d1980917",
   "metadata": {},
   "outputs": [],
   "source": []
  }
 ],
 "metadata": {
  "kernelspec": {
   "display_name": "Python 3 (ipykernel)",
   "language": "python",
   "name": "python3"
  },
  "language_info": {
   "codemirror_mode": {
    "name": "ipython",
    "version": 3
   },
   "file_extension": ".py",
   "mimetype": "text/x-python",
   "name": "python",
   "nbconvert_exporter": "python",
   "pygments_lexer": "ipython3",
   "version": "3.10.6"
  }
 },
 "nbformat": 4,
 "nbformat_minor": 5
}
