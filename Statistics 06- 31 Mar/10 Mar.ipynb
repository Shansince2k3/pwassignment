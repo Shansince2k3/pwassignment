{
 "cells": [
  {
   "cell_type": "markdown",
   "id": "b48f4aaf-c1ef-452b-9091-e2b641c8c76f",
   "metadata": {},
   "source": [
    "# DAY - 3 Statistics learning\n",
    "-------\n",
    "### Q1: What is Estimation Statistics? Explain point estimate and interval estimate.\n",
    "### Q2. Write a Python function to estimate the population mean using a sample mean and standard deviation.\n",
    "### Q3: What is Hypothesis testing? Why is it used? State the importance of Hypothesis testing.\n",
    "### Q4. Create a hypothesis that states whether the average weight of male college students is greater than the average weight of female college students.\n",
    "### Q5. Write a Python script to conduct a hypothesis test on the difference between two population means, given a sample from each population.\n",
    "## Q6: What is a null and alternative hypothesis? Give some examples.\n",
    "## Q7: Write down the steps involved in hypothesis testing.\n",
    "## Q8. Define p-value and explain its significance in hypothesis testing.\n",
    "## Q9. Generate a Student's t-distribution plot using Python's matplotlib library, with the degrees of freedom parameter set to 10.\n",
    "## Q10. Write a Python program to calculate the two-sample t-test for independent samples, given two random samples of equal size and a null hypothesis that the population means are equal.\n",
    "## Q11: What is Student’s t distribution? When to use the t-Distribution.\n",
    "## Q12: What is t-statistic? State the formula for t-statistic.\n",
    "## Q13. A coffee shop owner wants to estimate the average daily revenue for their shop. They take a random sample of 50 days and find the sample mean revenue to be $500 with a standard deviation of $50. Estimate the population mean revenue with a 95% confidence interval.\n",
    "## Q14. A researcher hypothesizes that a new drug will decrease blood pressure by 10 mmHg. They conduct a clinical trial with 100 patients and find that the sample mean decrease in blood pressure is 8 mmHg with a standard deviation of 3 mmHg. Test the hypothesis with a significance level of 0.05.\n",
    "## Q15. An electronics company produces a certain type of product with a mean weight of 5 pounds and astandard deviation of 0.5 pounds. A random sample of 25 products is taken, and the sample mean weight is found to be 4.8 pounds. Test the hypothesis that the true mean weight of the products is less than 5 pounds with a significance level of 0.01.\n",
    "## Q16. Two groups of students are given different study materials to prepare for a test. The first group (n1 =\n",
    "30) has a mean score of 80 with a standard deviation of 10, and the second group (n2 = 40) has a mean score of 75 with a standard deviation of 8. Test the hypothesis that the population means for the two groups are equal with a significance level of 0.01.\n",
    "## Q17. A marketing company wants to estimate the average number of ads watched by viewers during a TV program. They take a random sample of 50 viewers and find that the sample mean is 4 with a standard deviation of 1.5. Estimate the population mean with a 99% confidence interval."
   ]
  },
  {
   "cell_type": "markdown",
   "id": "c2c29e36-c36a-4fb6-935a-b648ac97d91d",
   "metadata": {},
   "source": [
    "## Q1: What is Estimation Statistics? Explain point estimate and interval estimate."
   ]
  },
  {
   "cell_type": "markdown",
   "id": "7327fe91-6fd9-41b3-a092-5527fc67db69",
   "metadata": {},
   "source": [
    "# Ans\n",
    "---------\n",
    "Estimation in statistics refers to the process of using sample data to make educated guesses or estimates about population parameters. Estimation allows us to draw conclusions about a population based on information from a sample, which is often more feasible to collect than data from the entire population.\n",
    "\n",
    "There are two main types of estimation in statistics: point estimate and interval estimate.\n",
    "\n",
    "1. **Point Estimate:**\n",
    "A point estimate is a single value that is used to estimate an unknown population parameter. It provides a best guess or approximation of the parameter based on the sample data. A point estimate is usually calculated using a sample statistic that corresponds to the parameter of interest. Common point estimates include the sample mean, sample proportion, and sample variance.\n",
    "\n",
    "For example, if you want to estimate the average height of students in a school, you could use the sample mean height as a point estimate.\n",
    "\n",
    "2. **Interval Estimate:**\n",
    "An interval estimate, also known as a confidence interval, provides a range of values within which the true population parameter is likely to fall. Instead of providing a single estimate, interval estimates give a range of values along with a level of confidence about the precision of the estimate.\n",
    "\n",
    "For example, you might calculate a 95% confidence interval for the average test score of students in a class. This interval might be expressed as \"between 75 and 85 with 95% confidence.\" This means that if you were to take many different samples and calculate a confidence interval for each, about 95% of those intervals would contain the true population parameter.\n",
    "\n"
   ]
  },
  {
   "cell_type": "markdown",
   "id": "3ac14ea8-d00d-41c2-874b-c92abe9ef7a4",
   "metadata": {},
   "source": [
    "## Q2. Write a Python function to estimate the population mean using a sample mean and standard deviation."
   ]
  },
  {
   "cell_type": "markdown",
   "id": "037f80a6-2706-4426-9910-d4fd74caeaa3",
   "metadata": {},
   "source": [
    "## Ans\n",
    "--------\n"
   ]
  },
  {
   "cell_type": "code",
   "execution_count": 2,
   "id": "e8f80b61-ec94-4d2c-8b15-32702945c7a3",
   "metadata": {},
   "outputs": [
    {
     "name": "stdout",
     "output_type": "stream",
     "text": [
      "Estimated Population Mean: 80\n",
      "Confidence Interval: (77.648, 82.352)\n"
     ]
    }
   ],
   "source": [
    "def estimate_population_mean(sample_mean, sample_stddev, sample_size):\n",
    "    # Calculate the standard error (standard deviation of the sample mean)\n",
    "    standard_error = sample_stddev / (sample_size ** 0.5)\n",
    "    \n",
    "    z_score = 1.96  # For a 95% confidence interval\n",
    "    margin_of_error = z_score * standard_error\n",
    "    \n",
    "    # Calculate the lower and upper bounds of the confidence interval\n",
    "    lower_bound = sample_mean - margin_of_error\n",
    "    upper_bound = sample_mean + margin_of_error\n",
    "    \n",
    "    # Return the estimated population mean and the confidence interval\n",
    "    return {\n",
    "        'estimated_population_mean': sample_mean,\n",
    "        'confidence_interval': (lower_bound, upper_bound)\n",
    "    }\n",
    "\n",
    "# Example usage\n",
    "sample_mean = 80\n",
    "sample_stddev = 12\n",
    "sample_size = 100\n",
    "\n",
    "result = estimate_population_mean(sample_mean, sample_stddev, sample_size)\n",
    "print(\"Estimated Population Mean:\", result['estimated_population_mean'])\n",
    "print(\"Confidence Interval:\", result['confidence_interval'])\n"
   ]
  },
  {
   "cell_type": "markdown",
   "id": "f80401ef-8668-4c86-9a2d-ff770cccd819",
   "metadata": {},
   "source": [
    "## Q3: What is Hypothesis testing? Why is it used? State the importance of Hypothesis testing."
   ]
  },
  {
   "cell_type": "markdown",
   "id": "c002637f-4aa1-4e75-8c3a-bba9fd005fde",
   "metadata": {},
   "source": [
    "## Ans \n",
    "________\n",
    "Hypothesis testing is a fundamental concept in statistics used to make informed decisions about population parameters based on sample data. It involves formulating two competing hypotheses, the null hypothesis (H0) and the alternative hypothesis (Ha), and then using statistical methods to determine whether there is enough evidence to reject the null hypothesis in favor of the alternative hypothesis.\n",
    "\n",
    "The main steps in hypothesis testing are as follows:\n",
    "ion:**\n",
    "\n",
    "1. **State the Hypotheses:** Formulate the null hypothesis (H0) and the alternative hypothesis (Ha) based on the research question.\n",
    "\n",
    "2. **Collect and Analyze Data:** Gather relevant data and perform initial analysis to understand data characteristics.\n",
    "\n",
    "3. **Choose a Significance Level:** Select the significance level (alpha), denoted as α, to determine the threshold for rejecting the null hypothesis.\n",
    "\n",
    "4. **Select a Test and Calculate Statistic:** Choose an appropriate statistical test and compute the test statistic based on the data.\n",
    "\n",
    "5. **Determine Critical Region/Critical Value:** Define the critical region or critical value(s) for making decisions about the null hypothesis.\n",
    "\n",
    "6. **Calculate P-value:** Calculate the probability of observing a test statistic as extreme as the obtained value, assuming the null hypothesis is true.\n",
    "\n",
    "7. **Make a Decision:** Compare the p-value or test statistic with the critical value or significance level to decide whether to reject the null hypothesis.\n",
    "\n",
    "8. **Interpret Results:** Interpret the decision in the context of the research question.\n",
    "\n",
    "9. **Draw Conclusions:** Draw conclusions about the research question based on the decision.\n",
    "\n",
    "10. **Discuss Implications:** Discuss the findings, potential applications, and limitations.\n",
    "\n",
    "\n",
    "\n",
    "The importance of hypothesis testing:\n",
    "\n",
    "1. **Data-Driven Decision Making:** Hypothesis testing provides a structured framework for making decisions based on evidence from data rather than relying solely on intuition or guesswork.\n",
    "\n",
    "2. **Scientific Inquiry:** In scientific research, hypothesis testing helps researchers determine whether their experimental results are statistically significant and not just due to chance.\n",
    "\n",
    "3. **Quality Control:** Industries use hypothesis testing to monitor and ensure the quality of products and processes by testing whether they meet predefined standards.\n",
    "\n",
    "4. **Medical Research:** Hypothesis testing is used to assess the efficacy of medical treatments and interventions, determining whether they have a significant effect compared to a placebo or control.\n",
    "\n"
   ]
  },
  {
   "cell_type": "markdown",
   "id": "0c03d741-d811-4319-8bca-17fbd780b640",
   "metadata": {},
   "source": [
    "## Q4. Create a hypothesis that states whether the average weight of male college students is greater than the average weight of female college students."
   ]
  },
  {
   "cell_type": "markdown",
   "id": "b548aeb1-181f-4f58-8509-9742a7c5c108",
   "metadata": {},
   "source": [
    "# Ans \n",
    "______\n",
    "The average weight of male college students is greater than the average weight of female college students:\n",
    "\n",
    "**Null Hypothesis (H0):**\n",
    "The average weight of male college students is not greater than the average weight of female college students.\n",
    "\n",
    "H0: μ_male ≤ μ_female\n",
    "\n",
    "**Alternative Hypothesis (Ha):**\n",
    "The average weight of male college students is greater than the average weight of female college students.\n",
    "\n",
    "Ha: μ_male > μ_female\n",
    "\n",
    "In these hypotheses, \"μ_male\" represents the population mean weight of male college students, \n",
    "and \"μ_female\" represents the population mean weight of female college students.\n",
    "\n",
    "The null hypothesis assumes that there is no significant difference in weight between male and female college students.\n",
    "The alternative hypothesis assumes that there is a significant difference in weight, and specifically that male college students have a higher average weight than female college students."
   ]
  },
  {
   "cell_type": "markdown",
   "id": "60fbc613-41ef-4db8-a9a1-be722e0abd15",
   "metadata": {},
   "source": [
    "## Qns 5 : Write a Python script to conduct a hypothesis test on the difference between two population means, given a sample from each population."
   ]
  },
  {
   "cell_type": "code",
   "execution_count": 3,
   "id": "9b11d3ef-157c-4ce5-a8c9-b91fd9e810c9",
   "metadata": {},
   "outputs": [
    {
     "name": "stdout",
     "output_type": "stream",
     "text": [
      "Sample 1 Mean: 68.4\n",
      "Sample 2 Mean: 61.6\n",
      "Sample 1 Standard Deviation: 2.701851217221259\n",
      "Sample 2 Standard Deviation: 2.701851217221259\n",
      "Test Statistic: 3.9793990046684415\n",
      "Critical Value: 1.8595480375228424\n",
      "Conclusion: Reject the null hypothesis\n"
     ]
    }
   ],
   "source": [
    "import numpy as np\n",
    "from scipy.stats import t\n",
    "\n",
    "# Sample data for two populations\n",
    "sample1 = np.array([67, 72, 65, 68, 70])\n",
    "sample2 = np.array([60, 62, 58, 65, 63])\n",
    "\n",
    "# Calculate sample means and standard deviations\n",
    "mean1 = np.mean(sample1)\n",
    "stddev1 = np.std(sample1, ddof=1)  # Use ddof=1 for sample standard deviation\n",
    "mean2 = np.mean(sample2)\n",
    "stddev2 = np.std(sample2, ddof=1)\n",
    "\n",
    "# Set significance level (alpha)\n",
    "alpha = 0.05\n",
    "\n",
    "# Calculate pooled standard deviation\n",
    "pooled_stddev = np.sqrt(((len(sample1) - 1) * stddev1**2 + (len(sample2) - 1) * stddev2**2) / (len(sample1) + len(sample2) - 2))\n",
    "\n",
    "# Calculate test statistic\n",
    "t_statistic = (mean1 - mean2) / (pooled_stddev * np.sqrt(1/len(sample1) + 1/len(sample2)))\n",
    "\n",
    "# Calculate degrees of freedom\n",
    "degrees_of_freedom = len(sample1) + len(sample2) - 2\n",
    "\n",
    "# Calculate critical value\n",
    "critical_value = t.ppf(1 - alpha, df=degrees_of_freedom)\n",
    "\n",
    "# Compare test statistic with critical value and make a decision\n",
    "if t_statistic > critical_value:\n",
    "    conclusion = \"Reject the null hypothesis\"\n",
    "else:\n",
    "    conclusion = \"Fail to reject the null hypothesis\"\n",
    "\n",
    "# Print results\n",
    "print(\"Sample 1 Mean:\", mean1)\n",
    "print(\"Sample 2 Mean:\", mean2)\n",
    "print(\"Sample 1 Standard Deviation:\", stddev1)\n",
    "print(\"Sample 2 Standard Deviation:\", stddev2)\n",
    "print(\"Test Statistic:\", t_statistic)\n",
    "print(\"Critical Value:\", critical_value)\n",
    "print(\"Conclusion:\", conclusion)\n"
   ]
  },
  {
   "cell_type": "markdown",
   "id": "40bdfad2-ad93-40f6-91c3-8dbbc10c450d",
   "metadata": {},
   "source": [
    "## Q6: What is a null and alternative hypothesis? Give some examples."
   ]
  },
  {
   "cell_type": "markdown",
   "id": "bff567ef-5c0c-4de2-b612-f6a4176a72ac",
   "metadata": {},
   "source": [
    "## Ans\n",
    "---------\n",
    "These hypotheses are used to make statistical decisions based on sample data.\n",
    "\n",
    "1. **Null Hypothesis (H0):**\n",
    "The null hypothesis is a statement that assumes there is no significant effect, difference, or relationship in the population. It often represents the default position, and the goal of hypothesis testing is to either reject or fail to reject this hypothesis.\n",
    "\n",
    "Examples of null hypotheses:\n",
    "- The average height of male and female students is the same.\n",
    "- A new drug has no effect on patients' blood pressure.\n",
    "- The mean response time of two software versions is equal.\n",
    "\n",
    "2. **Alternative Hypothesis (Ha):**\n",
    "The alternative hypothesis is a statement that suggests there is a significant effect, difference, or relationship in the population. It contradicts the null hypothesis and represents the researcher's hypothesis or what they aim to find evidence for.\n",
    "\n",
    "Examples of alternative hypotheses:\n",
    "- The average height of male students is greater than the average height of female students.\n",
    "- The new drug decreases patients' blood pressure significantly.\n",
    "- The mean response time of one software version is less than the mean response time of another.\n",
    "\n",
    "\n",
    "During hypothesis testing, statistical methods are used to analyze sample data and make a decision regarding whether the evidence is strong enough to reject the null hypothesis in favor of the alternative hypothesis. The goal is to draw meaningful conclusions about the population based on the observed sample data."
   ]
  },
  {
   "cell_type": "markdown",
   "id": "578c112e-b3d2-447e-a1eb-b29c274fc066",
   "metadata": {},
   "source": [
    "## Q7: Write down the steps involved in hypothesis testing."
   ]
  },
  {
   "cell_type": "markdown",
   "id": "9aa845b6-87ca-4edc-b409-9c49a8eafc0c",
   "metadata": {},
   "source": [
    "# Ans\n",
    "_______\n",
    "the main steps involved in the process of hypothesis testing:\n",
    "\n",
    "1. **Formulate Hypotheses:**\n",
    "   - State the null hypothesis (H0), which is the default assumption or no effect. It often includes equality.\n",
    "   - State the alternative hypothesis (Ha), which is what you want to find evidence for. It often includes inequality or a specific effect.\n",
    "\n",
    "2. **Collect and Prepare Data:**\n",
    "   - Gather relevant data that's appropriate for your research question and hypothesis.\n",
    "   - Ensure the data meets assumptions required for the chosen hypothesis test.\n",
    "\n",
    "3. **Choose a Significance Level (α):**\n",
    "   - Select the level of significance (α), which represents the probability of making a Type I error (rejecting H0 when it's true).\n",
    "   - Common values for α include 0.05, 0.01, or 0.10.\n",
    "\n",
    "4. **Select the Appropriate Test:**\n",
    "   - Choose the correct statistical test based on the research question, type of data, and number of samples.\n",
    "   - Different tests include t-tests, chi-square tests, ANOVA, etc.\n",
    "\n",
    "5. **Calculate the Test Statistic:**\n",
    "   - Calculate the test statistic using the chosen test formula and the sample data.\n",
    "   - The test statistic measures how much the sample data deviate from what's expected under H0.\n",
    "\n",
    "6. **Determine the Critical Region/Critical Value:**\n",
    "   - Define the critical region, which is the range of values that would lead to rejecting H0.\n",
    "   - Alternatively, find the critical value(s) from a probability distribution based on α and the test's degrees of freedom.\n",
    "\n",
    "7. **Calculate the P-value (Optional):**\n",
    "   - Calculate the p-value, which represents the probability of observing results as extreme as the ones obtained, assuming H0 is true.\n",
    "   - Compare the p-value to α to make a decision.\n",
    "\n",
    "8. **Make a Decision:**\n",
    "   - If using critical values: Compare the test statistic to the critical value(s).\n",
    "   - If using p-value: Compare the p-value to α.\n",
    "   - If the test statistic is in the critical region or the p-value is less than α, reject H0; otherwise, fail to reject H0.\n",
    "\n",
    "9. **Interpret Results:**\n",
    "   - Interpret the decision in the context of the research question.\n",
    "   - If H0 is rejected, support the claim made in Ha; if not, acknowledge lack of evidence against H0.\n",
    "\n",
    "10. **Draw Conclusions and Report:**\n",
    "    - State the conclusion about the hypothesis test.\n",
    "    - Summarize the findings and relevance of the results.\n",
    "\n",
    "11. **Discuss Implications and Limitations:**\n",
    "    - Discuss the practical implications of the results and how they relate to the broader context.\n",
    "    - Address any limitations or assumptions of the test and potential sources of bias.\n",
    "\n",
    "Hypothesis testing is a systematic process that helps you make data-driven decisions and draw meaningful conclusions from your research."
   ]
  },
  {
   "cell_type": "markdown",
   "id": "b588d2a9-6348-45e5-b939-656aef3fef03",
   "metadata": {},
   "source": [
    "## Q8. Define p-value and explain its significance in hypothesis testing."
   ]
  },
  {
   "cell_type": "markdown",
   "id": "17791ea7-676b-41b1-ae0e-9e11fe75e0f7",
   "metadata": {},
   "source": [
    "## Ans\n",
    "\n",
    "**P-value:** The p-value, or probability value, is a statistical measure used in hypothesis testing. It quantifies the strength of evidence against a null hypothesis by determining the probability of obtaining observed data, or more extreme data, under the assumption that the null hypothesis is true.\n",
    "\n",
    "**Significance in Hypothesis Testing:** In hypothesis testing, the p-value helps us decide whether to reject or fail to reject the null hypothesis. Here's how it works:\n",
    "\n",
    "1. **Null Hypothesis (H0):** \n",
    "2. **Alternative Hypothesis (Ha or H1):** This is the opposite of the null hypothesis. It's what researchers aim to support with evidence.\n",
    "3. **Calculating the p-value:** The p-value is calculated based on the observed data and the assumed distribution under the null hypothesis. A small p-value (typically less than 0.05 or 0.01) indicates that the observed data is unlikely to have occurred if the null hypothesis is true.\n",
    "4. **Decision:** If the p-value is small (below the chosen significance level), it suggests that the observed data is inconsistent with the null hypothesis. This leads to rejecting the null hypothesis in favor of the alternative hypothesis. If the p-value is larger than the significance level, there's insufficient evidence to reject the null hypothesis.\n",
    "\n"
   ]
  },
  {
   "cell_type": "markdown",
   "id": "ad98488b-587b-4fa6-87fc-d30ad6641afe",
   "metadata": {},
   "source": [
    "## Q9. Generate a Student's t-distribution plot using Python's matplotlib library, with the degrees of freedom parameter set to 10."
   ]
  },
  {
   "cell_type": "code",
   "execution_count": 2,
   "id": "5c57ce31-7308-4e34-ab4c-48dd9193989c",
   "metadata": {},
   "outputs": [
    {
     "data": {
      "image/png": "[encoded data removed]",
      "text/plain": [
       "<Figure size 800x600 with 1 Axes>"
      ]
     },
     "metadata": {},
     "output_type": "display_data"
    }
   ],
   "source": [
    "import numpy as np\n",
    "import matplotlib.pyplot as plt\n",
    "from scipy.stats import t\n",
    "\n",
    "# Degrees of freedom\n",
    "df = 10\n",
    "# Generate values for x-axis\n",
    "x = np.linspace(-4, 4, 500)\n",
    "# Calculate the probability density function (PDF) for the t-distribution\n",
    "pdf = t.pdf(x, df)\n",
    "\n",
    "# Create the plot\n",
    "plt.figure(figsize=(8, 6))\n",
    "plt.plot(x, pdf, label=f't-Distribution (df={df})')\n",
    "plt.title(\"Student's t-Distribution\")\n",
    "plt.xlabel('x')\n",
    "plt.ylabel('Probability Density')\n",
    "plt.legend()\n",
    "plt.grid(True)\n",
    "plt.show()"
   ]
  },
  {
   "cell_type": "markdown",
   "id": "32f1160e-48fc-4f19-be18-945aaba3faeb",
   "metadata": {},
   "source": [
    "## Q10. Write a Python program to calculate the two-sample t-test for independent samples, given two random samples of equal size and a null hypothesis that the population means are equal."
   ]
  },
  {
   "cell_type": "code",
   "execution_count": 4,
   "id": "e10b0dc0-68be-4053-a138-27c5d1d6e332",
   "metadata": {},
   "outputs": [
    {
     "name": "stdout",
     "output_type": "stream",
     "text": [
      "Sample 1: [54.96714153 48.61735699 56.47688538 65.23029856 47.65846625 47.65863043\n",
      " 65.79212816 57.67434729 45.30525614 55.42560044 45.36582307 45.34270246\n",
      " 52.41962272 30.86719755 32.75082167 44.37712471 39.8716888  53.14247333\n",
      " 40.91975924 35.87696299]\n",
      "Sample 2: [72.58778523 52.29068439 55.81033846 37.90302177 48.46740731 56.33107108\n",
      " 41.18807707 59.50837622 47.79233572 51.499675   47.77952065 77.22733821\n",
      " 54.8380333  42.30746885 64.87053895 40.3498762  57.50636314 31.48395851\n",
      " 39.06176741 57.36233483]\n",
      "\n",
      "Two-sample t-test results:\n",
      "t-statistic: -1.0449611527023528\n",
      "p-value: 0.30264294808966313\n",
      "Fail to reject the null hypothesis: Population means are equal.\n"
     ]
    }
   ],
   "source": [
    "import numpy as np\n",
    "from scipy import stats\n",
    "# Generate two random samples\n",
    "np.random.seed(42)  # For reproducibility\n",
    "sample_size = 20\n",
    "sample1 = np.random.normal(loc=50, scale=10, size=sample_size)  # Sample 1\n",
    "sample2 = np.random.normal(loc=55, scale=12, size=sample_size)  # Sample 2\n",
    "# Perform the two-sample t-test\n",
    "t_statistic, p_value = stats.ttest_ind(sample1, sample2)\n",
    "# Significance level (alpha)\n",
    "alpha = 0.05\n",
    "# Print the results\n",
    "print(\"Sample 1:\", sample1)\n",
    "print(\"Sample 2:\", sample2)\n",
    "print(\"\\nTwo-sample t-test results:\")\n",
    "print(\"t-statistic:\", t_statistic)\n",
    "print(\"p-value:\", p_value)\n",
    "# Determine whether to reject the null hypothesis\n",
    "if p_value < alpha:\n",
    "    print(\"Reject the null hypothesis: Population means are not equal.\")\n",
    "else:\n",
    "    print(\"Fail to reject the null hypothesis: Population means are equal.\")"
   ]
  },
  {
   "cell_type": "markdown",
   "id": "e53ead99-9413-4012-aa28-590e572c93df",
   "metadata": {},
   "source": [
    "## Q11: What is Student’s t distribution? When to use the t-Distribution."
   ]
  },
  {
   "cell_type": "markdown",
   "id": "bc29b96d-62a9-40e6-8d23-e0fbef44f411",
   "metadata": {},
   "source": [
    "## Ans\n",
    "**Student's t-Distribution:** Student's t-distribution, often simply referred to as the t-distribution, is a mathematical distribution that is used in statistics to help analyze small sample sizes when the underlying population standard deviation is unknown. It's a bell-shaped curve similar to the normal distribution but with slightly heavier tails.\n",
    "\n",
    "**When to Use the t-Distribution:**\n",
    "You should use the t-distribution when:\n",
    "\n",
    "1. **Small Sample Size:** If you have a small sample size (usually less than 30), the t-distribution is more accurate for estimating population parameters compared to the normal distribution.\n",
    "\n",
    "2. **Unknown Population Standard Deviation:** When you don't know the population standard deviation, which is often the case in real-world scenarios, the t-distribution provides a way to account for uncertainty in the estimate.\n",
    "\n",
    "3. **Hypothesis Testing:** When performing hypothesis tests for means (like comparing sample means or testing if a sample mean is significantly different from a population mean), the t-distribution is used to determine the critical values and p-values.\n",
    "\n",
    "4. **Confidence Intervals:** When constructing confidence intervals for population parameters, such as the mean, and the sample size is small and the population standard deviation is unknown, the t-distribution is used to find the appropriate critical value.\n",
    "\n"
   ]
  },
  {
   "cell_type": "markdown",
   "id": "0d7003b3-2b6c-4c8a-9916-4012fd8b6822",
   "metadata": {},
   "source": [
    "<img src=\"z-test-vs-t-test.jpg\" alt=\"Image Description\" width=\"300\" height=\"400\"> "
   ]
  },
  {
   "cell_type": "markdown",
   "id": "a5662c49-a269-4c5f-9b50-0e323834f9f3",
   "metadata": {},
   "source": [
    "## Q12: What is t-statistic? State the formula for t-statistic."
   ]
  },
  {
   "cell_type": "markdown",
   "id": "f6e5920b-3a85-4438-9ae8-459f8f62add8",
   "metadata": {},
   "source": [
    "## Ans\n",
    "\n",
    "The t-statistic (also known as the t-score) is a measure used in hypothesis testing to quantify how far the sample mean deviates from the hypothesized population mean, relative to the variability in the sample data. It's a standardized measure that indicates how many standard errors the sample mean is away from the hypothesized population mean.\n",
    "\n",
    "For a **one-sample t-test**, the formula for the t-statistic is:\n",
    "\n",
    "$ [\n",
    "t = \\frac{\\bar{x} - \\mu}{s / \\sqrt{n}}\n",
    "] $\n",
    "\n",
    "Where:\n",
    "- $( \\bar{x} $) is the sample mean.\n",
    "- $( \\mu )$ is the hypothesized population mean (under the null hypothesis).\n",
    "- $( s $) is the sample standard deviation.\n",
    "- $( n $) is the sample size.\n",
    "\n",
    "This formula calculates the difference between the sample mean and the hypothesized population mean, scaled by the standard error of the sample mean.\n",
    "\n",
    "In the context of a **two-sample t-test for independent samples**, the formula for the t-statistic involves the difference between the means of the two samples and accounts for the combined variability of both samples:\n",
    "\n",
    "$ [\n",
    "t = \\frac{\\bar{x}_1 - \\bar{x}_2}{s_p \\cdot \\sqrt{\\frac{1}{n_1} + \\frac{1}{n_2}}}\n",
    "] $\n",
    "\n",
    "Where:\n",
    "- $ ( \\bar{x}_1 ) and ( \\bar{x}_2 )$ are the means of the two samples.\n",
    "- $( s_p )$ is the pooled standard deviation of the two samples.\n",
    "- $( n_1 )$ and $( n_2 )$ are the sizes of the two samples.\n",
    "\n",
    "The t-statistic gives an indication of whether the observed difference in sample means is statistically significant, meaning it's unlikely to have occurred by random chance alone. It's used to determine whether to reject the null hypothesis in favor of the alternative hypothesis in hypothesis testing scenarios.\n"
   ]
  },
  {
   "cell_type": "markdown",
   "id": "6fe30a7a-fb97-4eec-80b6-06aabdce2302",
   "metadata": {},
   "source": [
    "## Q13. A coffee shop owner wants to estimate the average daily revenue for their shop. They take a random sample of 50 days and find the sample mean revenue to be 500 dollar  with a standard deviation of $50. Estimate the population mean revenue with a 95% confidence interval."
   ]
  },
  {
   "cell_type": "markdown",
   "id": "6d63e653-abd0-449c-8bf6-193e6242412e",
   "metadata": {},
   "source": [
    "## Ans\n",
    "\n",
    "**Confidence Interval = Sample Mean ± Margin of Error**\n",
    "\n",
    "Where the Margin of Error is calculated as:\n",
    "\n",
    "**Margin of Error = Critical Value * (Standard Deviation / √(Sample Size))**\n",
    "\n",
    "find the t-score for a 95% confidence level with degrees of freedom equal to the sample size minus 1\n",
    " >(df = 50 - 1 = 49).\n",
    "\n",
    "Using a t-distribution table or calculator, the critical t-value for a 95% confidence level with 49 degrees of freedom is approximately 2.0096.\n",
    "\n",
    "Given the information provided:\n",
    "> Sample Mean (x̄) = $500\n",
    "\n",
    "> Standard Deviation (σ) = $50\n",
    "\n",
    "> Sample Size (n) = 50\n",
    "\n",
    "> Critical t-value = 2.0096\n",
    "\n",
    "Now, calculate the Margin of Error:\n",
    " > Margin of Error = 2.0096 * ($50 / √50) ≈ $14.14\n",
    "\n",
    "Finally, construct the confidence interval:\n",
    "\n",
    "Confidence Interval = Sample Mean ± Margin of Error\n",
    " > Confidence Interval = $500 ± $14.14\n",
    " \n",
    " > Confidence Interval = ($485.86, $514.14)\n",
    "\n",
    "So, the estimated population mean revenue with a 95% confidence interval is approximately between $( 485.86 and 514.14). This means we are 95% confident that the true population mean revenue falls within this range based on the given sample."
   ]
  },
  {
   "cell_type": "markdown",
   "id": "8380822a-08a7-481e-b62e-3633c52cf960",
   "metadata": {},
   "source": [
    "## Q14. A researcher hypothesizes that a new drug will decrease blood pressure by 10 mmHg. They conduct a clinical trial with 100 patients and find that the sample mean decrease in blood pressure is 8 mmHg with a standard deviation of 3 mmHg. Test the hypothesis with a significance level of 0.05."
   ]
  },
  {
   "cell_type": "markdown",
   "id": "2a1a0ac8-c032-4ab5-ab27-a1e687453c86",
   "metadata": {},
   "source": [
    "## Ans\n",
    "\n",
    "\n",
    "- Null Hypothesis (H0): The new drug does not decrease blood pressure by 10 mmHg. μ = 10\n",
    "- Alternative Hypothesis (Ha): The new drug decreases blood pressure by 10 mmHg. μ < 10\n",
    "\n",
    "Given the information provided:\n",
    " > Sample Mean (x̄) = 8 mmHg\n",
    " \n",
    " > Standard Deviation (σ) = 3 mmHg\n",
    " \n",
    " > Sample Size (n) = 100\n",
    " \n",
    " > Population Mean under the null hypothesis (μ0) = 10 mmHg\n",
    " \n",
    " > significance Level (α) = 0.05\n",
    " \n",
    "We'll use the formula for the t-test statistic:\n",
    "\n",
    "t = (x̄ - μ) / (σ / √n)\n",
    "\n",
    "Substitute the values:\n",
    "\n",
    "t = (8 - 10) / (3 / √100)\n",
    "\n",
    "t = -2 / 0.3\n",
    "\n",
    "t = -6.67\n",
    "\n",
    "significance level of 0.05 with degrees of freedom equal to the sample size minus 1 (df = 100 - 1 = 99).\n",
    "\n",
    "significance level of 0.05 with 99 degrees of freedom is approximately -1.660.\n",
    "\n",
    "Since our calculated t-value (-6.67) is much smaller (in the negative direction) than the critical t-value (-1.660),\n",
    "we have evidence to reject the null hypothesis.\n",
    "\n",
    "Thus, we can conclude that at a significance level of 0.05, there is enough evidence to suggest that the new drug decreases blood pressure by more than 10 mmHg.\n",
    "\n"
   ]
  },
  {
   "cell_type": "markdown",
   "id": "4a059dff-f59e-4336-a221-38e06de9e8ca",
   "metadata": {},
   "source": [
    "## Q15. An electronics company produces a certain type of product with a mean weight of 5 pounds and a standard deviation of 0.5 pounds. A random sample of 25 products is taken, and the sample mean weight is found to be 4.8 pounds. Test the hypothesis that the true mean weight of the products is less than 5 pounds with a significance level of 0.01."
   ]
  },
  {
   "cell_type": "markdown",
   "id": "f354a30c-5f07-406e-8e9e-5d179702acc8",
   "metadata": {},
   "source": [
    "## Ans\n",
    "-----\n",
    "\n",
    "- Null Hypothesis (H0): The true mean weight of the products is 5 pounds. μ = 5.\n",
    "- Alternative Hypothesis (Ha): The true mean weight of the products is less than 5 pounds. μ < 5\n",
    "\n",
    "Given the information provided:\n",
    "\n",
    "\n",
    "- Sample Mean (x̄) = 4.8 pounds\n",
    "- Standard Deviation (σ) = 0.5 pounds\n",
    "- Sample Size (n) = 25\n",
    "- Population Mean under the null hypothesis (μ0) = 5 pounds\n",
    "- Significance Level (α) = 0.01\n",
    "\n",
    "We'll use the formula for the t-test statistic:\n",
    "\n",
    "> t = (x̄ - μ) / (σ / √n)\n",
    "\n",
    "Substitute the values:\n",
    " > t = (4.8 - 5) / (0.5 / √25)\n",
    "\n",
    " > t = -0.2 / 0.1\n",
    "\n",
    " > t = -2\n",
    "\n",
    "DEGREE OF FREEDOM\n",
    " > (df = 25 - 1 = 24).\n",
    "\n",
    "significance level of 0.01 with 24 degrees of freedom is approximately -2.492. \n",
    "\n",
    "Since our calculated t-value (-2) is greater (in the negative direction) than the critical t-value (-2.492), we have evidence to reject the null hypothesis.\n",
    "\n",
    "Thus, we can conclude that at a significance level of 0.01, there is enough evidence to suggest that the true mean weight of the products is less than 5 pounds."
   ]
  },
  {
   "cell_type": "markdown",
   "id": "ff52ead4-c886-4cc6-82c5-17a62b6187ac",
   "metadata": {},
   "source": [
    "## Q16. Two groups of students are given different study materials to prepare for a test. The first group (n1 = 30) has a mean score of 80 with a standard deviation of 10, and the second group (n2 = 40) has a mean score of 75 with a standard deviation of 8. Test the hypothesis that the population means for the two groups are equal with a significance level of 0.01.                                                                                                       "
   ]
  },
  {
   "cell_type": "markdown",
   "id": "1a63aa4e-c219-4eef-95ea-091ae34c7699",
   "metadata": {},
   "source": [
    "## Ans\n",
    "\n",
    "**Null Hypothesis (H0):** The population means of the two groups are equal. μ1 = μ2.\n",
    "\n",
    "**Alternative Hypothesis (Ha):** The population means of the two groups are not equal. μ1 ≠ μ2.\n",
    "\n",
    "Given the information provided:\n",
    "For Group 1:\n",
    "- Sample Mean (x̄1) = 80\n",
    "- Standard Deviation (σ1) = 10\n",
    "- Sample Size (n1) = 30\n",
    "\n",
    "For Group 2:\n",
    "- Sample Mean (x̄2) = 75\n",
    "- Standard Deviation (σ2) = 8\n",
    "- Sample Size (n2) = 40\n",
    "\n",
    "**Significance Level (α) = 0.01**\n",
    "\n",
    "We'll use the formula for the two-sample t-test statistic:\n",
    "\n",
    "t = $(x̄1 - x̄2) / √[(s1²/n1) + (s2²/n2)]$\n",
    "\n",
    "Where s1 and s2 are the sample standard deviations for Groups 1 and 2, respectively.\n",
    "\n",
    "Substitute the values:\n",
    " > t = (80 - 75) / √[(10²/30) + (8²/40)] \n",
    " \n",
    " > t = 5 / √[(100/30) + (64/40)]\n",
    " \n",
    " > t = 5 / √(3.3333 + 1.6)\n",
    " \n",
    " > t = 5 / √4.9333\n",
    " \n",
    " > t = 5 / 2.2222\n",
    " \n",
    " > t ≈ 2.2497\n",
    "\n",
    "Degrees of Freedom (df) for the t-test is calculated using the formula:\n",
    " - df = n1 + n2 - 2 = 30 + 40 - 2 = 68.\n",
    "\n",
    "significance level of 0.01 with 68 degrees of freedom. Using a t-distribution table or calculator, the critical t-values are approximately **±2.6209**.\n",
    "\n",
    "Since our calculated t-value (2.2497) is smaller (in absolute value) than the critical t-value of 2.6209, we do not have enough evidence to reject the null hypothesis.\n",
    "\n",
    "Thus, at a significance level of 0.01, we fail to reject the hypothesis that the population means for the two groups are equal."
   ]
  },
  {
   "cell_type": "markdown",
   "id": "f6dac380-788a-48a1-9ec3-fb8a01c6f88a",
   "metadata": {},
   "source": [
    "## Q17. A marketing company wants to estimate the average number of ads watched by viewers during a TV program. They take a random sample of 50 viewers and find that the sample mean is 4 with a standard deviation of 1.5. Estimate the population mean with a 99% confidence interval."
   ]
  },
  {
   "cell_type": "markdown",
   "id": "f95a0370-7969-4a27-91f1-a976d87f8b45",
   "metadata": {},
   "source": [
    "## Ans \n",
    "-------\n",
    "\n",
    "\n",
    "Given the information provided:\n",
    "- Sample Mean (x̄) = 4\n",
    "- Standard Deviation (σ) = 1.5\n",
    "- Sample Size (n) = 50\n",
    "- Critical t-value = 2.6809\n",
    "\n",
    "Now, calculate the Margin of Error:\n",
    "\n",
    "> Margin of Error = 2.6809 * (1.5 / √50) ≈ 0.5044\n",
    "\n",
    "Finally, construct the confidence interval:\n",
    "\n",
    "> Confidence Interval = Sample Mean ± Margin of Error\n",
    "\n",
    "> Confidence Interval = 4 ± 0.5044\n",
    "\n",
    "> Confidence Interval = (3.4956, 4.5044)\n",
    "\n",
    "So, the estimated population mean with a 99% confidence interval is approximately between 3.4956 and 4.5044.\n",
    "This means we are 99% confident that the true population mean falls within this range based on the given sample."
   ]
  }
 ],
 "metadata": {
  "kernelspec": {
   "display_name": "Python 3 (ipykernel)",
   "language": "python",
   "name": "python3"
  },
  "language_info": {
   "codemirror_mode": {
    "name": "ipython",
    "version": 3
   },
   "file_extension": ".py",
   "mimetype": "text/x-python",
   "name": "python",
   "nbconvert_exporter": "python",
   "pygments_lexer": "ipython3",
   "version": "3.10.6"
  }
 },
 "nbformat": 4,
 "nbformat_minor": 5
}
