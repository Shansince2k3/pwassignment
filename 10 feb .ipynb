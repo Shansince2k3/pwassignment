{
 "cells": [
  {
   "cell_type": "markdown",
   "id": "ac88a8b5-bca6-4c1d-828f-a5c2253ca72a",
   "metadata": {},
   "source": [
    "# Q1. Which function is used to open a file? What are the different modes of opening a file? Explain each mode of file opening."
   ]
  },
  {
   "cell_type": "raw",
   "id": "d165525e-3daf-41bf-b2fb-dffd140f7118",
   "metadata": {},
   "source": [
    " Ans open() keyword is used to open a file.\n",
    "  1. 'r' read\n",
    "  2. 'w' write\n",
    "  3. 'a' append\n",
    "  4. 'b' binary\n",
    "  5. 't' text mode\n",
    "  6. '+' open a disk file for updating (reading and writing)\n",
    "  7. 'x' create a new file and open it for writing\n",
    "  8. 'U' universal newline mode (deprecated)\n"
   ]
  },
  {
   "cell_type": "markdown",
   "id": "53b19fa7-6839-48bb-adf0-8ec7340f5d62",
   "metadata": {},
   "source": [
    "# Q2. Why close() function is used? Why is it important to close a file?"
   ]
  },
  {
   "cell_type": "raw",
   "id": "5d1b9f19-86ae-477c-9927-5f23ab575156",
   "metadata": {},
   "source": [
    "Ans close() func used to saved the file and without this you can not saved the files\n"
   ]
  },
  {
   "cell_type": "markdown",
   "id": "ee138750-b249-4c0d-93c2-bcd0e08a88b9",
   "metadata": {},
   "source": [
    "# Q3. Write a python program to create a text file. Write ‘I want to become a Data Scientist’ in that file. Then close the file. Open this file and read the content of the file.# "
   ]
  },
  {
   "cell_type": "code",
   "execution_count": 19,
   "id": "a8e5a2a4-9a70-4374-987a-f3f458b27152",
   "metadata": {},
   "outputs": [
    {
     "name": "stdout",
     "output_type": "stream",
     "text": [
      "I want to become a Data Scientist\n"
     ]
    }
   ],
   "source": [
    "with open('test21.txt','w') as f:\n",
    "    f.write('I want to become a Data Scientist')\n",
    "\n",
    "with open('test21.txt','r') as f:\n",
    "    print(f.read())    \n",
    "    \n",
    "\n",
    "\n",
    "\n",
    "\n",
    "    \n"
   ]
  },
  {
   "cell_type": "markdown",
   "id": "9b41ecc7-64ba-486c-816f-73d0752a440b",
   "metadata": {},
   "source": [
    "# Q4. Explain the following with python code: read(), readline() and readlines()."
   ]
  },
  {
   "cell_type": "code",
   "execution_count": 15,
   "id": "52299322-3bb0-4e80-bc21-4263f7b43ba2",
   "metadata": {},
   "outputs": [
    {
     "name": "stdout",
     "output_type": "stream",
     "text": [
      "I want to become a Data Scientist\n",
      "I want to become a Data Scientist\n",
      "I want to become a Data Scientist\n"
     ]
    }
   ],
   "source": [
    "# ans read() func is used to read the whole file.\n",
    "\n",
    "with open('test21.txt','r') as f:\n",
    "    print(f.read())   "
   ]
  },
  {
   "cell_type": "code",
   "execution_count": 17,
   "id": "f8a21ffb-f8ca-4781-86f7-ac9c51010af1",
   "metadata": {},
   "outputs": [
    {
     "name": "stdout",
     "output_type": "stream",
     "text": [
      "I want to become a Data Scientist\n",
      "\n"
     ]
    }
   ],
   "source": [
    "# Python readline() method will return a line from the file when called.\n",
    "with open('test21.txt','r') as f:\n",
    "    print(f.readline())"
   ]
  },
  {
   "cell_type": "code",
   "execution_count": 18,
   "id": "ed1c15a7-2c8b-4f2b-b294-0efd4f8448cc",
   "metadata": {},
   "outputs": [
    {
     "name": "stdout",
     "output_type": "stream",
     "text": [
      "['I want to become a Data Scientist\\n', 'I want to become a Data Scientist\\n', 'I want to become a Data Scientist']\n"
     ]
    }
   ],
   "source": [
    "# readlines() method will return all the lines in a file in the format of a list where each element is a line in the file.\n",
    "with open('test21.txt','r') as f:\n",
    "    print(f.readlines())"
   ]
  },
  {
   "cell_type": "markdown",
   "id": "bbbe69e4-9824-436f-b9f0-efc70fc6de6d",
   "metadata": {
    "tags": []
   },
   "source": [
    "# Q5. Explain why with statement is used with open(). What is the advantage of using with statement and open() together? "
   ]
  },
  {
   "cell_type": "raw",
   "id": "c84aa001-eab8-40cf-9830-9f332cadfba5",
   "metadata": {},
   "source": [
    "Ans. 'with' statement is used to open file and the biggest advantage of this is we do not need to close file to save the changes, unlike the open(). It closes the file for us without telling us and open it to do the specified mode.\n",
    "This is because the with statement calls 2 built-in methods behind the scene – __enter()__ and __exit()__."
   ]
  },
  {
   "cell_type": "markdown",
   "id": "0aee3d5f-d7cf-4a73-8bc8-e984395e7548",
   "metadata": {},
   "source": [
    "# Q6. Explain the write() and writelines() functions. Give a suitable example."
   ]
  },
  {
   "cell_type": "code",
   "execution_count": 27,
   "id": "485e6e90-aefc-4886-9115-6eb3634ea035",
   "metadata": {},
   "outputs": [
    {
     "name": "stdout",
     "output_type": "stream",
     "text": [
      "I want to become a Data Scientist\n",
      "I want to become a Data Scientist\n"
     ]
    }
   ],
   "source": [
    "# write fun()\n",
    "with open('test21.txt','w') as f:\n",
    "    f.write('I want to become a Data Scientist')\n",
    "    f.write('\\nI want to become a Data Scientist')\n",
    "    \n",
    "with open('test21.txt','r') as f:   \n",
    "    print(f.read())\n",
    "    "
   ]
  },
  {
   "cell_type": "code",
   "execution_count": 28,
   "id": "f62384ed-3927-4c0c-a987-69ba0ca466da",
   "metadata": {},
   "outputs": [
    {
     "name": "stdout",
     "output_type": "stream",
     "text": [
      "I want to become a Data Scientist\n",
      "I want to become a Data Scientist\n"
     ]
    }
   ],
   "source": [
    "# writelines func\n",
    "with open('test21.txt','w' ) as f:\n",
    "    f.writelines(['I want to become a Data Scientist\\n','I want to become a Data Scientist'])\n",
    "with open('test21.txt','r') as f:   \n",
    "    print(f.read())"
   ]
  },
  {
   "cell_type": "code",
   "execution_count": null,
   "id": "cb976f4e-dd2b-4970-a5ae-97a4852f22e7",
   "metadata": {},
   "outputs": [],
   "source": []
  }
 ],
 "metadata": {
  "kernelspec": {
   "display_name": "Python 3 (ipykernel)",
   "language": "python",
   "name": "python3"
  },
  "language_info": {
   "codemirror_mode": {
    "name": "ipython",
    "version": 3
   },
   "file_extension": ".py",
   "mimetype": "text/x-python",
   "name": "python",
   "nbconvert_exporter": "python",
   "pygments_lexer": "ipython3",
   "version": "3.10.6"
  }
 },
 "nbformat": 4,
 "nbformat_minor": 5
}
