{
 "cells": [
  {
   "cell_type": "markdown",
   "id": "a53b4952-3952-4b0f-8c8f-3ce43758d455",
   "metadata": {},
   "source": [
    "# Q1. What is multithreading in python? Why is it used? Name the module used to handle threads in python."
   ]
  },
  {
   "cell_type": "markdown",
   "id": "05a24fa8-2ac0-4af0-acc6-1ccad39221b5",
   "metadata": {},
   "source": [
    "## Ans\n",
    "#### Multithreading in Python allows for concurrent execution of multiple threads within the same process. \n",
    "#### It is used to achieve concurrency and parallelism, improving efficiency and responsiveness in programs. \n",
    "#### The threading module is used to handle threads in Python, providing features for thread creation, synchronization, and coordination\n"
   ]
  },
  {
   "cell_type": "markdown",
   "id": "4c22e36b-c59d-4e9d-8fcf-a14c846a1d3f",
   "metadata": {},
   "source": [
    " # Q2. Why threading module used? Write the use of the following functions:"
   ]
  },
  {
   "cell_type": "markdown",
   "id": "84c53b7c-35a5-41a9-8584-6803676a2195",
   "metadata": {},
   "source": [
    "## Ans\n",
    "##### Thread(target, args): Creates a new thread with a target function and optional arguments.\n",
    "##### start(): Initiates the execution of a thread.\n",
    "##### join(timeout): Waits for a thread to finish execution.\n",
    "##### current_thread(): Retrieves the current thread object.\n",
    "##### enumerate(): Lists all currently active threads.\n",
    "##### Lock(): Provides a lock for synchronizing access to shared resources.\n",
    "##### Semaphore(value): Limits the number of threads accessing a resource."
   ]
  },
  {
   "cell_type": "markdown",
   "id": "d89eba73-cf34-4a50-bfd5-2e87a19016de",
   "metadata": {},
   "source": [
    "# Q3. Explain the following functions:\n",
    "#### 1. run() 2. start() 3. join() 4. isAlive()"
   ]
  },
  {
   "cell_type": "markdown",
   "id": "dbeb55c6-2232-4c0d-833d-c311aee1cd58",
   "metadata": {},
   "source": [
    "## Ans\n",
    "#### 1. run(): Invokes the callable object, with passed args.\n",
    "#### 2. start(): Start the thread’s activity.\n",
    "#### 3. join(): It blocks the calling thread till the time the thread whose join() method is called terminates\n",
    "#### 4. isAlive(): Return whether the thread is alive"
   ]
  },
  {
   "cell_type": "markdown",
   "id": "432fd5f4-cde4-48f9-82f0-90423795a79f",
   "metadata": {},
   "source": [
    "# Q4. Write a python program to create two threads. Thread one must print the list of squares and thread two must print the list of cubes."
   ]
  },
  {
   "cell_type": "code",
   "execution_count": 2,
   "id": "3a3dbfb1-72fd-4385-a5e5-3197c7c57da4",
   "metadata": {},
   "outputs": [
    {
     "name": "stdout",
     "output_type": "stream",
     "text": [
      "[1, 4, 9, 16]\n",
      "[1, 8, 27, 64]\n"
     ]
    }
   ],
   "source": [
    "import threading\n",
    "\n",
    "def thread_1():\n",
    "    squ = [i**2 for i in range(1,5)]\n",
    "    print(squ)\n",
    "def thread_2():\n",
    "    cube = [i**3 for i in range(1,5)]\n",
    "    print(cube)\n",
    "\n",
    "thread1 = threading.Thread(target=thread_1)\n",
    "thread2 = threading.Thread(target=thread_2)\n",
    "\n",
    "thread1.start()\n",
    "thread2.start()\n",
    "thread1.join()\n",
    "thread2.join()"
   ]
  },
  {
   "cell_type": "markdown",
   "id": "5e362555-6ef6-4765-a7d2-9182aa251489",
   "metadata": {},
   "source": [
    "# Q5. State advantages and disadvantages of multithreading."
   ]
  },
  {
   "cell_type": "markdown",
   "id": "8ef41e4e-c3f3-460c-9b64-044488e4c2fd",
   "metadata": {},
   "source": [
    "## ans\n",
    "### Advantages of multithreading:\n",
    "#### Increased responsiveness, improved performance, resource sharing, enhanced efficiency for I/O operations.\n",
    "\n",
    "### Disadvantages of multithreading: \n",
    "#### Complexity of synchronization, increased debugging complexity, overhead and resource consumption, potential for reduced stability."
   ]
  },
  {
   "cell_type": "markdown",
   "id": "875e7865-7c3e-4cc0-a053-9fb1428e43f1",
   "metadata": {},
   "source": [
    "# Q6. Explain deadlocks and race conditions."
   ]
  },
  {
   "cell_type": "markdown",
   "id": "8d6e51fa-39db-47af-a6e5-cd06561f9167",
   "metadata": {},
   "source": [
    "## Ans\n",
    "### deadlock condition:\n",
    "#### when different parts of a program get stuck because each part is waiting for another part to finish, resulting in the program getting stuck and unable to proceed.\n",
    "\n",
    "### Race Condition:\n",
    "#### it occurs when multiple parts of a program are trying to access and modify the same data  simultaneously without proper coordination. This can lead to incorrect or unexpected results because the program's behavior depends on which part finishes first, like a race, and there's no guarantee of the correct order of execution."
   ]
  },
  {
   "cell_type": "code",
   "execution_count": null,
   "id": "6e6d6e3d-33cc-48db-bca4-da5a14e3cc1c",
   "metadata": {},
   "outputs": [],
   "source": []
  }
 ],
 "metadata": {
  "kernelspec": {
   "display_name": "Python 3 (ipykernel)",
   "language": "python",
   "name": "python3"
  },
  "language_info": {
   "codemirror_mode": {
    "name": "ipython",
    "version": 3
   },
   "file_extension": ".py",
   "mimetype": "text/x-python",
   "name": "python",
   "nbconvert_exporter": "python",
   "pygments_lexer": "ipython3",
   "version": "3.10.6"
  }
 },
 "nbformat": 4,
 "nbformat_minor": 5
}
