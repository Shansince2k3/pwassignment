{
 "cells": [
  {
   "cell_type": "code",
   "execution_count": 2,
   "id": "ffbc7f59-bf89-40d7-b52e-dd230c8840f0",
   "metadata": {},
   "outputs": [
    {
     "name": "stdout",
     "output_type": "stream",
     "text": [
      "[('Virat Kohli', 24936), ('Jack Kallis', 25534), ('Ricky Ponting', 27483), ('Sachin Tendulkar', 34357)]\n"
     ]
    }
   ],
   "source": [
    "# answer 1\n",
    "lst =[('Sachin Tendulkar', 34357), ('Ricky Ponting', 27483), ('Jack Kallis', 25534), ('Virat Kohli', 24936)]\n",
    "lst.sort(key=lambda x:x[1])\n",
    "print(lst)\n"
   ]
  },
  {
   "cell_type": "code",
   "execution_count": 8,
   "id": "174f6158-09ad-46c1-ba00-24cd2c186403",
   "metadata": {},
   "outputs": [
    {
     "name": "stdout",
     "output_type": "stream",
     "text": [
      "[1, 4, 9, 16, 25, 36, 49, 64, 81, 100]\n"
     ]
    }
   ],
   "source": [
    "# answer 2\n",
    "lis = [1, 2, 3, 4, 5, 6, 7, 8, 9, 10]\n",
    "squ = list(map((lambda x:x*x),lis))\n",
    "print(squ)"
   ]
  },
  {
   "cell_type": "code",
   "execution_count": 9,
   "id": "ac0009fb-63c6-400f-9b38-19aff05efaa7",
   "metadata": {},
   "outputs": [
    {
     "name": "stdout",
     "output_type": "stream",
     "text": [
      "['1', '2', '3', '4', '5', '6', '7', '8', '9', '10']\n"
     ]
    }
   ],
   "source": [
    "# answer 3\n",
    "\n",
    "# without lambda function\n",
    "lis = [1, 2, 3, 4, 5, 6, 7, 8, 9, 10]\n",
    "lis2 = list(map(str,lis))\n",
    "print(lis2)\n",
    "\n",
    "# with lambda function\n",
    "lis = [1, 2, 3, 4, 5, 6, 7, 8, 9, 10]\n",
    "lis2 = list(map(lambda x:str(x),lis))\n",
    "print(lis2)"
   ]
  },
  {
   "cell_type": "code",
   "execution_count": 14,
   "id": "41a997c6-b7a6-459d-a0e8-b281df874229",
   "metadata": {},
   "outputs": [
    {
     "name": "stdout",
     "output_type": "stream",
     "text": [
      "325\n"
     ]
    }
   ],
   "source": [
    "# answer 4\n",
    "from functools import reduce\n",
    "lis = [x for x in range(1,26)]\n",
    "lis2 = reduce(lambda x,y:x+y,lis)\n",
    "print(lis2)"
   ]
  },
  {
   "cell_type": "code",
   "execution_count": 19,
   "id": "e6fa5821-73f3-45da-939f-81f807221868",
   "metadata": {},
   "outputs": [
    {
     "name": "stdout",
     "output_type": "stream",
     "text": [
      "[2, 3, 6, 9, 27, 60, 90, 120, 46]\n"
     ]
    }
   ],
   "source": [
    "# answer 5\n",
    "def divi(x):\n",
    "  \n",
    "    if (x % 2 == 0 or x % 3==0):\n",
    "        return True\n",
    "    else:\n",
    "        return False\n",
    "lis = [2, 3, 6, 9, 27, 60, 90, 120, 55, 46]\n",
    "lis = list(filter(divi,lis))\n",
    "print(lis)"
   ]
  },
  {
   "cell_type": "code",
   "execution_count": 22,
   "id": "3dc8dffe-6a4a-47b4-8a3a-2257f673598c",
   "metadata": {},
   "outputs": [
    {
     "name": "stdout",
     "output_type": "stream",
     "text": [
      "True\n"
     ]
    }
   ],
   "source": [
    "# answer 6\n",
    "lis = ['python', 'php', 'aba', 'radar', 'level'] \n",
    "def check(x):\n",
    "    if x == x[::-1]:\n",
    "        return True \n",
    "    else:\n",
    "        return False\n",
    "lis = list(filter(lambda x:check(x\n"
   ]
  },
  {
   "cell_type": "code",
   "execution_count": null,
   "id": "791e662a-931b-47c9-bc74-b8d6c2ebd96e",
   "metadata": {},
   "outputs": [],
   "source": []
  }
 ],
 "metadata": {
  "kernelspec": {
   "display_name": "Python 3 (ipykernel)",
   "language": "python",
   "name": "python3"
  },
  "language_info": {
   "codemirror_mode": {
    "name": "ipython",
    "version": 3
   },
   "file_extension": ".py",
   "mimetype": "text/x-python",
   "name": "python",
   "nbconvert_exporter": "python",
   "pygments_lexer": "ipython3",
   "version": "3.10.6"
  }
 },
 "nbformat": 4,
 "nbformat_minor": 5
}
