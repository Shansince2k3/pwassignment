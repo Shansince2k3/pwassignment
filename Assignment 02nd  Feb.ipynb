{
 "cells": [
  {
   "cell_type": "code",
   "execution_count": 2,
   "id": "e92f871c-3826-4247-a7b1-844cae1b6c99",
   "metadata": {},
   "outputs": [
    {
     "name": "stdin",
     "output_type": "stream",
     "text": [
      "enter the name:  6\n"
     ]
    },
    {
     "name": "stdout",
     "output_type": "stream",
     "text": [
      "hey 6 ! weclome to python world\n"
     ]
    },
    {
     "name": "stdin",
     "output_type": "stream",
     "text": [
      "enter the name:  exit\n",
      "enter the number 5\n"
     ]
    },
    {
     "name": "stdout",
     "output_type": "stream",
     "text": [
      "1\n",
      "2\n",
      "3\n",
      "4\n",
      "5\n"
     ]
    }
   ],
   "source": [
    "# answer 1\n",
    "\n",
    "# For loop is used when the number of iterations is already known.\n",
    "# While loop is used when the number of iterations is already Unknown. \n",
    "\n",
    "# while loop example\n",
    "while True :\n",
    "    val = input('enter the name: ')\n",
    "    if val == 'exit':\n",
    "        break\n",
    "    else:\n",
    "        print(\"hey {} ! weclome to python world\".format(val))\n",
    "        \n",
    "#for loop example\n",
    "num = int(input(\"enter the number\"))\n",
    "\n",
    "count = 0\n",
    "for i in range(1,num+1):\n",
    "    print(i)\n",
    "    "
   ]
  },
  {
   "cell_type": "code",
   "execution_count": null,
   "id": "1d2cc7b4-e2bf-473e-b40f-ee59d21ea5c6",
   "metadata": {},
   "outputs": [],
   "source": [
    "# answer 2"
   ]
  },
  {
   "cell_type": "code",
   "execution_count": 21,
   "id": "e9ba9cb2-7482-4df2-b701-19311501faeb",
   "metadata": {},
   "outputs": [
    {
     "name": "stdout",
     "output_type": "stream",
     "text": [
      "55\n"
     ]
    }
   ],
   "source": [
    "i = 1\n",
    "count = 0\n",
    "while(i<11):\n",
    "    count += i\n",
    "    i+=1\n",
    "print(count)"
   ]
  },
  {
   "cell_type": "code",
   "execution_count": 3,
   "id": "45a49aaf-d443-475a-8fbb-df979a7d3a4e",
   "metadata": {},
   "outputs": [],
   "source": [
    "# answer 3"
   ]
  },
  {
   "cell_type": "code",
   "execution_count": 6,
   "id": "6c4e2796-4d9e-45ab-a3c8-7fd4fc71b3fc",
   "metadata": {},
   "outputs": [
    {
     "name": "stdin",
     "output_type": "stream",
     "text": [
      "enter the electricity  unit 666\n"
     ]
    },
    {
     "name": "stdout",
     "output_type": "stream",
     "text": [
      "your electricity bill amount =>9370\n"
     ]
    }
   ],
   "source": [
    "unit = int(input(\"enter the electricity  unit\"))\n",
    "bill = 0\n",
    "if(unit>300):\n",
    "    bill =(450 +600+1000+(unit-300)*20)\n",
    "elif(unit>200):\n",
    "    bill =(450 +600+(unit-200)*10)\n",
    "elif(unit>100):\n",
    "    bill =(450 +(unit-100)*6)\n",
    "else:\n",
    "    bill = (unit*4.5)\n",
    "print(\"your electricity bill amount =>{}\".format(bill))\n",
    "                 "
   ]
  },
  {
   "cell_type": "code",
   "execution_count": 7,
   "id": "a0550c9a-5ca5-4931-9516-858b127ee95b",
   "metadata": {},
   "outputs": [],
   "source": [
    "# Answer 4"
   ]
  },
  {
   "cell_type": "code",
   "execution_count": 10,
   "id": "ff75532a-6993-4859-8c8a-659910ccc2f3",
   "metadata": {},
   "outputs": [
    {
     "name": "stdout",
     "output_type": "stream",
     "text": [
      "[8, 64, 125, 216, 512, 1000, 1728, 2744, 3375, 4096, 5832, 8000, 10648, 13824, 15625, 17576, 21952, 27000, 32768, 39304, 42875, 46656, 54872, 64000, 74088, 85184, 91125, 97336, 110592, 125000, 140608, 157464, 166375, 175616, 195112, 216000, 238328, 262144, 274625, 287496, 314432, 343000, 373248, 405224, 421875, 438976, 474552, 512000, 551368, 592704, 614125, 636056, 681472, 729000, 778688, 830584, 857375, 884736, 941192, 1000000]\n",
      "\n",
      "\n",
      "[8, 64, 125, 216, 512, 1000, 1728, 2744, 3375, 4096, 5832, 8000, 10648, 13824, 15625, 17576, 21952, 27000, 32768, 39304, 42875, 46656, 54872, 64000, 74088, 85184, 91125, 97336, 110592, 125000, 140608, 157464, 166375, 175616, 195112, 216000, 238328, 262144, 274625, 287496, 314432, 343000, 373248, 405224, 421875, 438976, 474552, 512000, 551368, 592704, 614125, 636056, 681472, 729000, 778688, 830584, 857375, 884736, 941192, 1000000]\n"
     ]
    }
   ],
   "source": [
    "lis  = []\n",
    "for i in range(1,101):\n",
    "    i=i**3\n",
    "    if i%4==0 or i%5==0:\n",
    "        lis.append(i)\n",
    "print(lis)\n",
    "print(\"\\n\")\n",
    "lis2  = []\n",
    "while(i<=100):\n",
    "    i=i**3\n",
    "    if i%4==0 or i%5==0:\n",
    "        lis2.append(i)\n",
    "    i+=1\n",
    "print(lis)"
   ]
  },
  {
   "cell_type": "code",
   "execution_count": 11,
   "id": "42343ffe-098a-49af-87d9-76bba267c0ce",
   "metadata": {},
   "outputs": [],
   "source": [
    "# answer 5"
   ]
  },
  {
   "cell_type": "code",
   "execution_count": 20,
   "id": "49e3ed21-2237-494b-8614-832c3191dd1d",
   "metadata": {},
   "outputs": [
    {
     "name": "stdout",
     "output_type": "stream",
     "text": [
      "the filtered letter are\n",
      "i\n",
      "a\n",
      "o\n",
      "e\n",
      "o\n",
      "e\n",
      "a\n",
      "a\n",
      "a\n",
      "i\n",
      "e\n",
      "i\n"
     ]
    }
   ],
   "source": [
    "def fun(variable):\n",
    "    count=0\n",
    "    letter = ['a','e','i','o','u']\n",
    "    if (variable in letter):\n",
    "        count+=1\n",
    "    return count\n",
    "sequence = \"i want to become a data scientist\"\n",
    "filterd = filter(fun,sequence)\n",
    "print(\"the filtered letter are\")\n",
    "for s in filterd:\n",
    "    print(s)\n"
   ]
  },
  {
   "cell_type": "code",
   "execution_count": null,
   "id": "37ec9ba9-a5d3-47ef-932c-974597df5151",
   "metadata": {},
   "outputs": [],
   "source": []
  }
 ],
 "metadata": {
  "kernelspec": {
   "display_name": "Python 3 (ipykernel)",
   "language": "python",
   "name": "python3"
  },
  "language_info": {
   "codemirror_mode": {
    "name": "ipython",
    "version": 3
   },
   "file_extension": ".py",
   "mimetype": "text/x-python",
   "name": "python",
   "nbconvert_exporter": "python",
   "pygments_lexer": "ipython3",
   "version": "3.10.6"
  }
 },
 "nbformat": 4,
 "nbformat_minor": 5
}
