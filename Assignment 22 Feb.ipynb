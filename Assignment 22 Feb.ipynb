{
 "cells": [
  {
   "cell_type": "markdown",
   "id": "0c4667bc-4ae3-4732-8e23-65b1b7551e49",
   "metadata": {},
   "source": [
    "\n",
    "### Q1. Create a Pandas Series that contains the following data: 4, 8, 15, 16, 23, and 42. Then, print the series."
   ]
  },
  {
   "cell_type": "code",
   "execution_count": 49,
   "id": "c8c24d52-35f9-4b72-8ebf-8f15a5e296e5",
   "metadata": {},
   "outputs": [
    {
     "name": "stdout",
     "output_type": "stream",
     "text": [
      "0     4\n",
      "1     8\n",
      "2    15\n",
      "3    16\n",
      "4    23\n",
      "5    42\n",
      "dtype: int64\n"
     ]
    }
   ],
   "source": [
    "import pandas as pd\n",
    "\n",
    "data_series = pd.Series([4, 8, 15, 16, 23, 42])\n",
    "\n",
    "print(data_series)"
   ]
  },
  {
   "cell_type": "markdown",
   "id": "ab3b7019-b824-497b-b3f3-7a518b6ba05c",
   "metadata": {
    "tags": []
   },
   "source": [
    "### Q2. Create a variable of list type containing 10 elements in it, and apply pandas.Series function on the variable print it."
   ]
  },
  {
   "cell_type": "code",
   "execution_count": 1,
   "id": "ddb94fd4-9f52-4207-bbcd-18d06be127c2",
   "metadata": {},
   "outputs": [
    {
     "name": "stdout",
     "output_type": "stream",
     "text": [
      "0    1\n",
      "1    2\n",
      "2    3\n",
      "3    4\n",
      "4    5\n",
      "5    6\n",
      "6    7\n",
      "7    8\n",
      "dtype: int64\n"
     ]
    }
   ],
   "source": [
    "import pandas as pd\n",
    "typ_list = [1,2,3,4,5,6,7,8]\n",
    "pd_list = pd.Series(typ_list)\n",
    "print(pd_list)"
   ]
  },
  {
   "cell_type": "markdown",
   "id": "a343572f-b976-45e7-8c29-15bcb84473ba",
   "metadata": {},
   "source": [
    "### Q3. Create a Pandas DataFrame that contains the following data:"
   ]
  },
  {
   "attachments": {
    "2e7f87d8-9fd3-4269-951c-2d0e477066a6.png": {
     "image/png": "[encoded data removed]"
    }
   },
   "cell_type": "markdown",
   "id": "f8206319-36d3-43ae-9e87-24c74b6d9348",
   "metadata": {},
   "source": [
    "![Screenshot 2023-06-30 154335.png](attachment:2e7f87d8-9fd3-4269-951c-2d0e477066a6.png)"
   ]
  },
  {
   "cell_type": "code",
   "execution_count": 8,
   "id": "9ea7ae68-3ad8-484f-aa41-5e47b713a626",
   "metadata": {},
   "outputs": [
    {
     "data": {
      "text/html": [
       "<div>\n",
       "<style scoped>\n",
       "    .dataframe tbody tr th:only-of-type {\n",
       "        vertical-align: middle;\n",
       "    }\n",
       "\n",
       "    .dataframe tbody tr th {\n",
       "        vertical-align: top;\n",
       "    }\n",
       "\n",
       "    .dataframe thead th {\n",
       "        text-align: right;\n",
       "    }\n",
       "</style>\n",
       "<table border=\"1\" class=\"dataframe\">\n",
       "  <thead>\n",
       "    <tr style=\"text-align: right;\">\n",
       "      <th></th>\n",
       "      <th>name</th>\n",
       "      <th>Age</th>\n",
       "      <th>Gender</th>\n",
       "    </tr>\n",
       "  </thead>\n",
       "  <tbody>\n",
       "    <tr>\n",
       "      <th>0</th>\n",
       "      <td>Alice</td>\n",
       "      <td>25</td>\n",
       "      <td>Female</td>\n",
       "    </tr>\n",
       "    <tr>\n",
       "      <th>1</th>\n",
       "      <td>Bob</td>\n",
       "      <td>30</td>\n",
       "      <td>Male</td>\n",
       "    </tr>\n",
       "    <tr>\n",
       "      <th>2</th>\n",
       "      <td>Clarire</td>\n",
       "      <td>27</td>\n",
       "      <td>Female</td>\n",
       "    </tr>\n",
       "  </tbody>\n",
       "</table>\n",
       "</div>"
      ],
      "text/plain": [
       "      name  Age  Gender\n",
       "0    Alice   25  Female\n",
       "1      Bob   30    Male\n",
       "2  Clarire   27  Female"
      ]
     },
     "execution_count": 8,
     "metadata": {},
     "output_type": "execute_result"
    }
   ],
   "source": [
    "data = { 'name':['Alice','Bob','Clarire'],\n",
    "        'Age':[25,30,27],\n",
    "        'Gender':['Female','Male','Female']\n",
    "       }\n",
    "table = pd.DataFrame(data)\n",
    "table"
   ]
  },
  {
   "cell_type": "markdown",
   "id": "91959259-e527-4d12-a40e-d330b9a66255",
   "metadata": {},
   "source": [
    "### Q4. What is ‘DataFrame’ in pandas and how is it different from pandas.series? Explain with an example."
   ]
  },
  {
   "cell_type": "markdown",
   "id": "521daed4-14f4-4623-a5ce-5d1f59b279ed",
   "metadata": {},
   "source": [
    "###Ans.\n",
    "#### DataFrame is a two-dimensional labeled data structure that is similar to a table or spreadsheet. It consists of rows and columns, where each column can hold different data types (e.g., numbers, strings, or dates)\n",
    "#### Series is a one-dimensional labeled array that can hold any data type. It can be thought of as a single column of a DataFrame."
   ]
  },
  {
   "cell_type": "code",
   "execution_count": 10,
   "id": "903247fe-3b8f-464c-94f5-656057691adb",
   "metadata": {},
   "outputs": [
    {
     "data": {
      "text/html": [
       "<div>\n",
       "<style scoped>\n",
       "    .dataframe tbody tr th:only-of-type {\n",
       "        vertical-align: middle;\n",
       "    }\n",
       "\n",
       "    .dataframe tbody tr th {\n",
       "        vertical-align: top;\n",
       "    }\n",
       "\n",
       "    .dataframe thead th {\n",
       "        text-align: right;\n",
       "    }\n",
       "</style>\n",
       "<table border=\"1\" class=\"dataframe\">\n",
       "  <thead>\n",
       "    <tr style=\"text-align: right;\">\n",
       "      <th></th>\n",
       "      <th>name</th>\n",
       "      <th>Age</th>\n",
       "      <th>Gender</th>\n",
       "    </tr>\n",
       "  </thead>\n",
       "  <tbody>\n",
       "    <tr>\n",
       "      <th>0</th>\n",
       "      <td>Alice</td>\n",
       "      <td>25</td>\n",
       "      <td>Female</td>\n",
       "    </tr>\n",
       "    <tr>\n",
       "      <th>1</th>\n",
       "      <td>Bob</td>\n",
       "      <td>30</td>\n",
       "      <td>Male</td>\n",
       "    </tr>\n",
       "    <tr>\n",
       "      <th>2</th>\n",
       "      <td>Clarire</td>\n",
       "      <td>27</td>\n",
       "      <td>Female</td>\n",
       "    </tr>\n",
       "  </tbody>\n",
       "</table>\n",
       "</div>"
      ],
      "text/plain": [
       "      name  Age  Gender\n",
       "0    Alice   25  Female\n",
       "1      Bob   30    Male\n",
       "2  Clarire   27  Female"
      ]
     },
     "execution_count": 10,
     "metadata": {},
     "output_type": "execute_result"
    }
   ],
   "source": [
    "#exmple of datafrmae\n",
    "table"
   ]
  },
  {
   "cell_type": "code",
   "execution_count": 12,
   "id": "25ef5de0-e0a8-4255-9ad9-19388a988805",
   "metadata": {},
   "outputs": [
    {
     "data": {
      "text/plain": [
       "0      Alice\n",
       "1        Bob\n",
       "2    Clarire\n",
       "Name: name, dtype: object"
      ]
     },
     "execution_count": 12,
     "metadata": {},
     "output_type": "execute_result"
    }
   ],
   "source": [
    "#example of series\n",
    "table['name']"
   ]
  },
  {
   "cell_type": "markdown",
   "id": "ab4d474e-11e4-4eaa-a19a-a3c5cc3ad0ec",
   "metadata": {},
   "source": [
    "### Q5. What are some common functions you can use to manipulate data in a Pandas DataFrame? Can you give an example of when you might use one of these functions?"
   ]
  },
  {
   "cell_type": "markdown",
   "id": "1a94d331-3811-4c7f-9172-d812c0247efc",
   "metadata": {},
   "source": [
    "#### ANS\n",
    "- df.head(5)  # Returns the first 5 rows of the DataFrame\n",
    "- df.tail(3)  # Returns the last 3 rows of the DataFrame\n",
    "- df.info()  # Prints summary information about the DataFrame\n",
    "- df.describe()  # Computes descriptive statistics for the DataFrame\n",
    "- print(df.shape)  # Prints the dimensions of the DataFrame\n",
    "- df.loc[2]  # Accesses the row with label 2\n",
    "- df.iloc[3:6, 1:4]  # Accesses rows 3 to 5 and columns 1 to 3\n",
    "- df.drop(['column1', 'column2'], axis=1)  # Drops 'column1' and 'column2' from the DataFrame\n",
    "- df.sort_values('Date')  # Sorts the DataFrame by the 'Date' column\n",
    "- df.groupby('Category').sum()  # Computes the sum of each category in the DataFrame\n",
    "- df.types() # return type of dataframe\n",
    "- df.fillna(0)  # Fills missing values with 0\n",
    "- df.drop_duplicates(subset=['Column1', 'Column2'])  # Drops duplicate rows based on 'Column1' and 'Column2'\n",
    "- df['Column1'] = df['Column1'].apply(lambda x: x * 2)  # Applies a lambda function to double the values in 'Column1'\n",
    "- merged_df = pd.merge(df1, df2, on='Key')  # Merges df1 and df2 based on the 'Key' column\n",
    "- pivot_table = df.pivot_table(index='Category', columns='Month', values='Sales', aggfunc='sum')\n",
    "- df.rename(columns={'OldName': 'NewName'})  # Renames the 'OldName' column to 'NewName'\n",
    "- filtered_df = df[df['Column1'].isin(['Value1', 'Value2'])]  # Filters rows where 'Column1' values are 'Value1' or 'Value2'\n",
    "- df['Column1'] = df['Column1'].astype(float)  # Converts 'Column1' to float data type\n",
    "- df.to_csv('output.csv', index=False)  # Writes the DataFrame to 'output.csv' without including the index\n",
    "\n",
    "ETC..."
   ]
  },
  {
   "cell_type": "code",
   "execution_count": 32,
   "id": "8158decb-c84b-48ee-abce-558ab1fee9ee",
   "metadata": {},
   "outputs": [],
   "source": [
    "data = { 'name':['Alice','Bob','Clarire','Rohit','shan','arsh','yuvraj','priya'],\n",
    "        'Age':[25,30,27,33,45,72,17,19],\n",
    "        'Gender':['Female','Male','Female','Male','Male','Male','Male','Female'],\n",
    "        'class':['12th','b.ca','b.tech,','b.sc','b.tech','b.ca',\"b.tech\",'b.sc']\n",
    "        \n",
    "       }\n",
    "df = pd.DataFrame(data)"
   ]
  },
  {
   "cell_type": "code",
   "execution_count": 26,
   "id": "fc171331-88c8-45a8-b6c3-aab1d76f284d",
   "metadata": {},
   "outputs": [
    {
     "data": {
      "text/html": [
       "<div>\n",
       "<style scoped>\n",
       "    .dataframe tbody tr th:only-of-type {\n",
       "        vertical-align: middle;\n",
       "    }\n",
       "\n",
       "    .dataframe tbody tr th {\n",
       "        vertical-align: top;\n",
       "    }\n",
       "\n",
       "    .dataframe thead th {\n",
       "        text-align: right;\n",
       "    }\n",
       "</style>\n",
       "<table border=\"1\" class=\"dataframe\">\n",
       "  <thead>\n",
       "    <tr style=\"text-align: right;\">\n",
       "      <th></th>\n",
       "      <th>name</th>\n",
       "      <th>Age</th>\n",
       "      <th>Gender</th>\n",
       "      <th>class</th>\n",
       "    </tr>\n",
       "  </thead>\n",
       "  <tbody>\n",
       "    <tr>\n",
       "      <th>0</th>\n",
       "      <td>Alice</td>\n",
       "      <td>25</td>\n",
       "      <td>Female</td>\n",
       "      <td>12th</td>\n",
       "    </tr>\n",
       "    <tr>\n",
       "      <th>1</th>\n",
       "      <td>Bob</td>\n",
       "      <td>30</td>\n",
       "      <td>Male</td>\n",
       "      <td>b.ca</td>\n",
       "    </tr>\n",
       "    <tr>\n",
       "      <th>2</th>\n",
       "      <td>Clarire</td>\n",
       "      <td>27</td>\n",
       "      <td>Female</td>\n",
       "      <td>b.tech,</td>\n",
       "    </tr>\n",
       "    <tr>\n",
       "      <th>3</th>\n",
       "      <td>Rohit</td>\n",
       "      <td>33</td>\n",
       "      <td>Male</td>\n",
       "      <td>b.sc</td>\n",
       "    </tr>\n",
       "    <tr>\n",
       "      <th>4</th>\n",
       "      <td>shan</td>\n",
       "      <td>45</td>\n",
       "      <td>Male</td>\n",
       "      <td>b.tech</td>\n",
       "    </tr>\n",
       "  </tbody>\n",
       "</table>\n",
       "</div>"
      ],
      "text/plain": [
       "      name  Age  Gender    class\n",
       "0    Alice   25  Female     12th\n",
       "1      Bob   30    Male     b.ca\n",
       "2  Clarire   27  Female  b.tech,\n",
       "3    Rohit   33    Male     b.sc\n",
       "4     shan   45    Male   b.tech"
      ]
     },
     "execution_count": 26,
     "metadata": {},
     "output_type": "execute_result"
    }
   ],
   "source": [
    "df.head()"
   ]
  },
  {
   "cell_type": "code",
   "execution_count": 37,
   "id": "06f3ae23-16a8-4d87-adea-4b50816bd492",
   "metadata": {},
   "outputs": [
    {
     "data": {
      "text/html": [
       "<div>\n",
       "<style scoped>\n",
       "    .dataframe tbody tr th:only-of-type {\n",
       "        vertical-align: middle;\n",
       "    }\n",
       "\n",
       "    .dataframe tbody tr th {\n",
       "        vertical-align: top;\n",
       "    }\n",
       "\n",
       "    .dataframe thead th {\n",
       "        text-align: right;\n",
       "    }\n",
       "</style>\n",
       "<table border=\"1\" class=\"dataframe\">\n",
       "  <thead>\n",
       "    <tr style=\"text-align: right;\">\n",
       "      <th></th>\n",
       "      <th>name</th>\n",
       "      <th>class</th>\n",
       "    </tr>\n",
       "  </thead>\n",
       "  <tbody>\n",
       "    <tr>\n",
       "      <th>0</th>\n",
       "      <td>Alice</td>\n",
       "      <td>12th</td>\n",
       "    </tr>\n",
       "    <tr>\n",
       "      <th>1</th>\n",
       "      <td>Bob</td>\n",
       "      <td>b.ca</td>\n",
       "    </tr>\n",
       "    <tr>\n",
       "      <th>2</th>\n",
       "      <td>Clarire</td>\n",
       "      <td>b.tech,</td>\n",
       "    </tr>\n",
       "    <tr>\n",
       "      <th>3</th>\n",
       "      <td>Rohit</td>\n",
       "      <td>b.sc</td>\n",
       "    </tr>\n",
       "    <tr>\n",
       "      <th>4</th>\n",
       "      <td>shan</td>\n",
       "      <td>b.tech</td>\n",
       "    </tr>\n",
       "    <tr>\n",
       "      <th>5</th>\n",
       "      <td>arsh</td>\n",
       "      <td>b.ca</td>\n",
       "    </tr>\n",
       "    <tr>\n",
       "      <th>6</th>\n",
       "      <td>yuvraj</td>\n",
       "      <td>b.tech</td>\n",
       "    </tr>\n",
       "    <tr>\n",
       "      <th>7</th>\n",
       "      <td>priya</td>\n",
       "      <td>b.sc</td>\n",
       "    </tr>\n",
       "  </tbody>\n",
       "</table>\n",
       "</div>"
      ],
      "text/plain": [
       "      name    class\n",
       "0    Alice     12th\n",
       "1      Bob     b.ca\n",
       "2  Clarire  b.tech,\n",
       "3    Rohit     b.sc\n",
       "4     shan   b.tech\n",
       "5     arsh     b.ca\n",
       "6   yuvraj   b.tech\n",
       "7    priya     b.sc"
      ]
     },
     "execution_count": 37,
     "metadata": {},
     "output_type": "execute_result"
    }
   ],
   "source": [
    "df.drop(['Age','Gender'], axis=1)"
   ]
  },
  {
   "cell_type": "markdown",
   "id": "b269dcfc-f369-4487-8a27-dbb79491f09f",
   "metadata": {},
   "source": [
    "### Q6. Which of the following is mutable in nature Series, DataFrame, Panel?"
   ]
  },
  {
   "cell_type": "markdown",
   "id": "d3c993b0-cf39-4591-b1c4-68088f451091",
   "metadata": {},
   "source": [
    "#### Ans\n",
    "- Series and DataFrame is mutable in nature. which means it can be modified after it is created.\n",
    "- Panel is immutable in nature.you would typically create a new  Panel ."
   ]
  },
  {
   "cell_type": "code",
   "execution_count": 47,
   "id": "1313b682-e13f-426e-b82c-5494c313a062",
   "metadata": {},
   "outputs": [
    {
     "data": {
      "text/html": [
       "<div>\n",
       "<style scoped>\n",
       "    .dataframe tbody tr th:only-of-type {\n",
       "        vertical-align: middle;\n",
       "    }\n",
       "\n",
       "    .dataframe tbody tr th {\n",
       "        vertical-align: top;\n",
       "    }\n",
       "\n",
       "    .dataframe thead th {\n",
       "        text-align: right;\n",
       "    }\n",
       "</style>\n",
       "<table border=\"1\" class=\"dataframe\">\n",
       "  <thead>\n",
       "    <tr style=\"text-align: right;\">\n",
       "      <th></th>\n",
       "      <th>name</th>\n",
       "      <th>Age</th>\n",
       "      <th>Gender</th>\n",
       "      <th>class</th>\n",
       "    </tr>\n",
       "  </thead>\n",
       "  <tbody>\n",
       "    <tr>\n",
       "      <th>0</th>\n",
       "      <td>Alice</td>\n",
       "      <td>25</td>\n",
       "      <td>Female</td>\n",
       "      <td>12th</td>\n",
       "    </tr>\n",
       "    <tr>\n",
       "      <th>1</th>\n",
       "      <td>Bob</td>\n",
       "      <td>19</td>\n",
       "      <td>Male</td>\n",
       "      <td>b.ca</td>\n",
       "    </tr>\n",
       "    <tr>\n",
       "      <th>2</th>\n",
       "      <td>Clarire</td>\n",
       "      <td>27</td>\n",
       "      <td>Female</td>\n",
       "      <td>b.tech,</td>\n",
       "    </tr>\n",
       "    <tr>\n",
       "      <th>3</th>\n",
       "      <td>Rohit</td>\n",
       "      <td>33</td>\n",
       "      <td>Male</td>\n",
       "      <td>b.sc</td>\n",
       "    </tr>\n",
       "    <tr>\n",
       "      <th>4</th>\n",
       "      <td>shan</td>\n",
       "      <td>45</td>\n",
       "      <td>Male</td>\n",
       "      <td>b.tech</td>\n",
       "    </tr>\n",
       "    <tr>\n",
       "      <th>5</th>\n",
       "      <td>arsh</td>\n",
       "      <td>72</td>\n",
       "      <td>Male</td>\n",
       "      <td>b.ca</td>\n",
       "    </tr>\n",
       "    <tr>\n",
       "      <th>6</th>\n",
       "      <td>yuvraj</td>\n",
       "      <td>17</td>\n",
       "      <td>Male</td>\n",
       "      <td>b.tech</td>\n",
       "    </tr>\n",
       "    <tr>\n",
       "      <th>7</th>\n",
       "      <td>priya</td>\n",
       "      <td>19</td>\n",
       "      <td>Female</td>\n",
       "      <td>b.sc</td>\n",
       "    </tr>\n",
       "  </tbody>\n",
       "</table>\n",
       "</div>"
      ],
      "text/plain": [
       "      name  Age  Gender    class\n",
       "0    Alice   25  Female     12th\n",
       "1      Bob   19    Male     b.ca\n",
       "2  Clarire   27  Female  b.tech,\n",
       "3    Rohit   33    Male     b.sc\n",
       "4     shan   45    Male   b.tech\n",
       "5     arsh   72    Male     b.ca\n",
       "6   yuvraj   17    Male   b.tech\n",
       "7    priya   19  Female     b.sc"
      ]
     },
     "execution_count": 47,
     "metadata": {},
     "output_type": "execute_result"
    }
   ],
   "source": [
    "# example dataframe\n",
    "df.at[1, 'Age'] = 19\n",
    "df"
   ]
  },
  {
   "cell_type": "code",
   "execution_count": 52,
   "id": "649f7b7c-3626-4951-893d-25e08a819a68",
   "metadata": {},
   "outputs": [
    {
     "name": "stdout",
     "output_type": "stream",
     "text": [
      "0      4\n",
      "1      8\n",
      "2    100\n",
      "3     16\n",
      "4     23\n",
      "5     42\n",
      "dtype: int64\n"
     ]
    }
   ],
   "source": [
    "data_series[2] = 100  # Modifying the value at index 2\n",
    "print(data_series)\n"
   ]
  },
  {
   "cell_type": "markdown",
   "id": "24fbc2c0-16a8-4d09-84a7-6102ae366352",
   "metadata": {},
   "source": [
    "### Q7. Create a DataFrame using multiple Series. Explain with an example."
   ]
  },
  {
   "cell_type": "code",
   "execution_count": 59,
   "id": "1ec8903d-053f-4736-a318-6200b80d007c",
   "metadata": {},
   "outputs": [
    {
     "data": {
      "text/html": [
       "<div>\n",
       "<style scoped>\n",
       "    .dataframe tbody tr th:only-of-type {\n",
       "        vertical-align: middle;\n",
       "    }\n",
       "\n",
       "    .dataframe tbody tr th {\n",
       "        vertical-align: top;\n",
       "    }\n",
       "\n",
       "    .dataframe thead th {\n",
       "        text-align: right;\n",
       "    }\n",
       "</style>\n",
       "<table border=\"1\" class=\"dataframe\">\n",
       "  <thead>\n",
       "    <tr style=\"text-align: right;\">\n",
       "      <th></th>\n",
       "      <th>Name</th>\n",
       "      <th>Age</th>\n",
       "      <th>City</th>\n",
       "      <th>Course</th>\n",
       "    </tr>\n",
       "  </thead>\n",
       "  <tbody>\n",
       "    <tr>\n",
       "      <th>0</th>\n",
       "      <td>Shan</td>\n",
       "      <td>19</td>\n",
       "      <td>taj com</td>\n",
       "      <td>B.ca</td>\n",
       "    </tr>\n",
       "    <tr>\n",
       "      <th>1</th>\n",
       "      <td>Yuvi</td>\n",
       "      <td>20</td>\n",
       "      <td>shiviji</td>\n",
       "      <td>B.ca</td>\n",
       "    </tr>\n",
       "    <tr>\n",
       "      <th>2</th>\n",
       "      <td>Ritik</td>\n",
       "      <td>19</td>\n",
       "      <td>manikchowk</td>\n",
       "      <td>B.ca</td>\n",
       "    </tr>\n",
       "  </tbody>\n",
       "</table>\n",
       "</div>"
      ],
      "text/plain": [
       "    Name  Age        City Course\n",
       "0   Shan   19     taj com   B.ca\n",
       "1   Yuvi   20     shiviji   B.ca\n",
       "2  Ritik   19  manikchowk   B.ca"
      ]
     },
     "execution_count": 59,
     "metadata": {},
     "output_type": "execute_result"
    }
   ],
   "source": [
    "import pandas as pd\n",
    "\n",
    "# Creating multiple Series\n",
    "name = pd.Series(['Shan', 'Yuvi', 'Ritik'])\n",
    "age = pd.Series([19, 20,19])\n",
    "add = pd.Series(['taj com', 'shiviji', 'manikchowk'])\n",
    "course = pd.Series(['B.ca','B.ca','B.ca'])\n",
    "\n",
    "# Creating a DataFrame from the Series\n",
    "data = {'Name': name, 'Age': age, 'City': add,'Course':course}\n",
    "df = pd.DataFrame(data)\n",
    "df\n"
   ]
  },
  {
   "cell_type": "code",
   "execution_count": null,
   "id": "cdc30577-b867-47ea-acb5-dd002acae997",
   "metadata": {},
   "outputs": [],
   "source": []
  }
 ],
 "metadata": {
  "kernelspec": {
   "display_name": "Python 3 (ipykernel)",
   "language": "python",
   "name": "python3"
  },
  "language_info": {
   "codemirror_mode": {
    "name": "ipython",
    "version": 3
   },
   "file_extension": ".py",
   "mimetype": "text/x-python",
   "name": "python",
   "nbconvert_exporter": "python",
   "pygments_lexer": "ipython3",
   "version": "3.10.6"
  }
 },
 "nbformat": 4,
 "nbformat_minor": 5
}
