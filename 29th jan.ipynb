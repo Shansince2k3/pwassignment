{
 "cells": [
  {
   "cell_type": "code",
   "execution_count": 33,
   "id": "af101f8b-23b3-41d5-8fc2-b47517085912",
   "metadata": {},
   "outputs": [],
   "source": [
    "#  who developed python programming language ?\n",
    "# => Guido van Rossum "
   ]
  },
  {
   "cell_type": "code",
   "execution_count": 34,
   "id": "20bac368-f41b-445f-ba87-038984be445c",
   "metadata": {},
   "outputs": [],
   "source": [
    "# which type of programming language does python support ?\n",
    "# => Python is an interpreted, interactive, object-oriented programming language"
   ]
  },
  {
   "cell_type": "code",
   "execution_count": 35,
   "id": "3025ec9d-7fbb-4011-ba8b-639675becc80",
   "metadata": {},
   "outputs": [],
   "source": [
    "# is python case sensitive when dealing with identifiers ?\n",
    "# => Yes, Python is a case−sensitive programming language."
   ]
  },
  {
   "cell_type": "code",
   "execution_count": 36,
   "id": "48d7b456-abec-47fb-9abb-514d50335ee2",
   "metadata": {},
   "outputs": [],
   "source": [
    "# what is the correct extension of the python file ?\n",
    "# => pyc: This is the file extension for compiled Python code files. When a .py file is executed, the Python interpreter compiles\n",
    "#    the code to bytecode and saves it in a .pyc file to improve performance on subsequent executions."
   ]
  },
  {
   "cell_type": "code",
   "execution_count": 37,
   "id": "c52dfc24-25af-45a2-ac48-27c8c1e84223",
   "metadata": {},
   "outputs": [],
   "source": [
    "# is python code compiled or interpreted ?\n",
    "# => Python is an interpreted language, which means the source code of a Python program is converted into bytecode that\n",
    "# is then executed by the Python virtual machine"
   ]
  },
  {
   "cell_type": "code",
   "execution_count": 38,
   "id": "98ef51b8-f429-4b47-8634-6cca434af3ec",
   "metadata": {},
   "outputs": [],
   "source": [
    "# name a few blocks of code used to define in python language ?"
   ]
  },
  {
   "cell_type": "code",
   "execution_count": 39,
   "id": "54e82cba-2e67-421c-8a1b-ec3072b676d9",
   "metadata": {},
   "outputs": [
    {
     "name": "stdout",
     "output_type": "stream",
     "text": [
      "Correct Name!!\n",
      "HI\n"
     ]
    }
   ],
   "source": [
    "name = 'python'\n",
    "if name == 'python':\n",
    "    print('Correct Name!!')\n",
    "else:\n",
    "\tprint('InCorrect Name:(')\n",
    "print('HI')"
   ]
  },
  {
   "cell_type": "code",
   "execution_count": 40,
   "id": "9d69ec3b-fb4c-45b9-a461-97649102d66c",
   "metadata": {},
   "outputs": [],
   "source": [
    "# state a character used to given single line comments in python?\n",
    "# => # hash symbols"
   ]
  },
  {
   "cell_type": "code",
   "execution_count": 41,
   "id": "5ef285a3-4d19-4357-a462-627ee4a7f791",
   "metadata": {},
   "outputs": [],
   "source": [
    "# mention function which can help us to find the version of python that we are currently working on ?\n",
    "# => The function sys. version can help us to find the version of python that we are currently working on.\n",
    "#    It also contains information on the build number and compiler used."
   ]
  },
  {
   "cell_type": "code",
   "execution_count": 42,
   "id": "f09cf9b4-269d-4ebd-af23-c78b3fdcf9e8",
   "metadata": {},
   "outputs": [],
   "source": [
    "# Python supports the creation of anonymous functions (i.e. functions that are not bound to a name) at runtime, using a construct called => lambda."
   ]
  },
  {
   "cell_type": "code",
   "execution_count": 43,
   "id": "af0a11b8-8382-499d-8fe8-6450a0f22937",
   "metadata": {},
   "outputs": [],
   "source": [
    "# what does pip stand for python \n",
    "# => installing Python packages"
   ]
  },
  {
   "cell_type": "code",
   "execution_count": 44,
   "id": "5019578d-a1ae-4835-bb2a-3ae8ef93aee9",
   "metadata": {},
   "outputs": [],
   "source": [
    "# mention a few built-in functions in python ?\n",
    "# Function\tDescription\n",
    "# abs()\tReturns the absolute value of a number\n",
    "# all()\tReturns True if all items in an iterable object are true\n",
    "# any()\tReturns True if any item in an iterable object is true\n",
    "# ascii()\tReturns a readable version of an object. Replaces none-ascii characters with escape character\n",
    "# bin()\tReturns the binary version of a number\n",
    "# bool()\tReturns the boolean value of the specified object\n",
    "# bytearray()\tReturns an array of bytes\n",
    "# bytes()\tReturns a bytes object\n",
    "# callable()\tReturns True if the specified object is callable, otherwise False\n",
    "# chr()\tReturns a character from the specified Unicode code.\n",
    "# classmethod()\tConverts a method into a class method\n",
    "# compile()\tReturns the specified source as an object, ready to be executed\n",
    "# complex()\tReturns a complex number\n",
    "# delattr()\tDeletes the specified attribute (property or method) from the specified object\n",
    "# dict()\tReturns a dictionary (Array)\n",
    "# dir()\tReturns a list of the specified object's properties and methods\n",
    "# divmod()\tReturns the quotient and the remainder when argument1 is divided by argument2\n",
    "# enumerate()\tTakes a collection (e.g. a tuple) and returns it as an enumerate object\n",
    "# eval()\tEvaluates and executes an expression\n",
    "# exec()\tExecutes the specified code (or object)\n",
    "# filter()\tUse a filter function to exclude items in an iterable object\n",
    "# float()\tReturns a floating point number\n",
    "# format()\tFormats a specified value\n",
    "# frozenset()\tReturns a frozenset object\n",
    "# getattr()\tReturns the value of the specified attribute (property or method)\n",
    "# globals()\tReturns the current global symbol table as a dictionary\n",
    "# hasattr()\tReturns True if the specified object has the specified attribute (property/method)\n",
    "# hash()\tReturns the hash value of a specified object\n",
    "# help()\tExecutes the built-in help system\n",
    "# hex()\tConverts a number into a hexadecimal value\n",
    "# id()\tReturns the id of an object\n",
    "# input()\tAllowing user input\n",
    "# int()\tReturns an integer number\n",
    "# isinstance()\tReturns True if a specified object is an instance of a specified object\n",
    "# issubclass()\tReturns True if a specified class is a subclass of a specified object\n",
    "# iter()\tReturns an iterator object\n",
    "# len()\tReturns the length of an object\n",
    "# list()\tReturns a list\n"
   ]
  },
  {
   "cell_type": "code",
   "execution_count": 45,
   "id": "387602f7-55d5-4ef2-97fb-d817b2ff888b",
   "metadata": {},
   "outputs": [],
   "source": [
    "# what is the maximum possible length of an identifier in python?\n",
    "# 79 characters"
   ]
  },
  {
   "cell_type": "code",
   "execution_count": 46,
   "id": "41891562-cadd-45af-ae86-04698568d8ea",
   "metadata": {},
   "outputs": [],
   "source": [
    "# what are the benefits of using python ?\n",
    "# Presence of third-party modules \n",
    "# Extensive support libraries(NumPy for numerical calculations, Pandas for data analytics, etc.) \n",
    "# Open source and large active community base \n",
    "# Versatile, Easy to read, learn and write\n",
    "# User-friendly data structures \n",
    "# High-level language \n",
    "# Dynamically typed language(No need to mention data type based on the value assigned, it takes data type) \n",
    "# Object-Oriented and Procedural  Programming language\n",
    "# Portable and Interactive\n",
    "# Ideal for prototypes – provide more functionality with less coding\n",
    "# Highly Efficient(Python’s clean object-oriented design provides enhanced process control, \n",
    "# and the language is equipped with excellent text processing and integration capabilities,\n",
    "# as well as its own unit testing framework, which makes it more efficient.)\n",
    "# Internet of Things(IoT) Opportunities\n",
    "# Interpreted Language\n",
    "# Portable across Operating systems \n"
   ]
  },
  {
   "cell_type": "code",
   "execution_count": 47,
   "id": "b1af341a-35e1-4422-b293-654067b72d40",
   "metadata": {},
   "outputs": [],
   "source": [
    "# how is memory managed in python ?\n",
    "# Python uses the dynamic memory allocation which is managed by the Heap data structure.\n",
    "# Memory Heap holds the objects and other data structures that will be used in the program.\n",
    "# Python memory manager manages the allocation or de-allocation of the heap memory space through the API functions."
   ]
  },
  {
   "cell_type": "code",
   "execution_count": 48,
   "id": "00ad77e5-6f5f-45ad-918e-931502edf0b4",
   "metadata": {},
   "outputs": [],
   "source": [
    "# how to install python on windows and set path variables ?\n",
    "# Right-clicking This PC and going to Properties.\n",
    "# Clicking on the Advanced system settings in the menu on the left.\n",
    "# Clicking on the Environment Variables button o​n the bottom right.\n",
    "# In the System variables section, selecting the Path variable and clicking on Edit.\n",
    "# The next screen will show all the directories that are currently a part of the PATH variable.\n",
    " # Clicking on New and entering Python’s install directory."
   ]
  },
  {
   "cell_type": "code",
   "execution_count": 49,
   "id": "6713b392-a66d-4b6a-8f4b-f21678246b06",
   "metadata": {},
   "outputs": [],
   "source": [
    "# is indentation required in python ?\n",
    "# Indentation is important to Python, because it's how you determine scope. \n",
    "# Scope is how Python knows what code belongs to what part of the program./"
   ]
  },
  {
   "cell_type": "code",
   "execution_count": null,
   "id": "b6de5d80-2ef2-4875-9d99-7d58f16cf53c",
   "metadata": {},
   "outputs": [],
   "source": []
  }
 ],
 "metadata": {
  "kernelspec": {
   "display_name": "Python 3 (ipykernel)",
   "language": "python",
   "name": "python3"
  },
  "language_info": {
   "codemirror_mode": {
    "name": "ipython",
    "version": 3
   },
   "file_extension": ".py",
   "mimetype": "text/x-python",
   "name": "python",
   "nbconvert_exporter": "python",
   "pygments_lexer": "ipython3",
   "version": "3.10.6"
  }
 },
 "nbformat": 4,
 "nbformat_minor": 5
}
